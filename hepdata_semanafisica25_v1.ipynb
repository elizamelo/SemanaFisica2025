{
  "cells": [
    {
      "cell_type": "markdown",
      "metadata": {
        "id": "view-in-github",
        "colab_type": "text"
      },
      "source": [
        "<a href=\"https://colab.research.google.com/github/elizamelo/SemanaFisica2025/blob/main/hepdata_semanafisica25_v1.ipynb\" target=\"_parent\"><img src=\"https://colab.research.google.com/assets/colab-badge.svg\" alt=\"Open In Colab\"/></a>"
      ]
    },
    {
      "cell_type": "markdown",
      "metadata": {
        "id": "WfTy0OEMqfm_"
      },
      "source": [
        "\n",
        "\n",
        "---\n",
        "# Hands-On: Análise de Dados\n",
        "\n",
        "\n",
        "---\n",
        "\n",
        "\n",
        "Parte I - ROOT\n",
        "\n",
        "7. Fazer um ajuste no pico que corresponde ao méson $J/\\Psi$ usando o RooFit.\n",
        "\n",
        "8. Extrair as informações dos parâmetros.\n",
        "\n",
        "9. Validação do fit (pull e/ou $\\chi^{2}/ndof$).\n",
        "\n",
        "\n",
        "\n",
        "\n",
        "\n",
        "\n",
        "\n",
        "\n"
      ]
    },
    {
      "cell_type": "code",
      "execution_count": null,
      "metadata": {
        "id": "zXnfUCicp3Bg"
      },
      "outputs": [],
      "source": [
        "%load_ext autoreload\n",
        "%autoreload 2"
      ]
    },
    {
      "cell_type": "markdown",
      "metadata": {
        "id": "ZFLCAt8SEBvA"
      },
      "source": [
        "# Instalar: coffea, uproot, awkward\n",
        "\n",
        "coffea, uproot, e awkward são três bibliotecas importantes para análise de dados em Física de Altas Energias (HEP), especialmente voltadas para trabalhar com arquivos ROOT, que são utilizados no contexto de experimentos no CERN.\n",
        "\n",
        "\n",
        "* [coffea](https://github.com/CoffeaTeam/coffea\n",
        ")\n",
        "\n",
        "* [uproot](https://uproot.readthedocs.io/en/latest/basic.html)\n",
        "\n",
        "*   [awkward](https://awkward-array.org/doc/main/)\n",
        "\n",
        "* Ferramentas adicionais:\n",
        "    * **pandas**: biblioteca para estruturas de dados tabulares e ferramentas de análise em Python.( [documentação do pandas](https://pandas.pydata.org/docs/getting_started/index.html))\n",
        "\n",
        "  * **numpy**: fornece cálculos numéricos, como criação de histogramas.\n",
        "\n",
        "  * **matplotlib**: ferramenta comum para criar gráficos, figuras, imagens, visualizações.\n",
        "\n",
        "  * **vector**: é especializada no trabalho com vetores em 2D, 3D e vetores de Lorentz. Esta biblioteca foi projetada para funcionar com versões do Python 3.8 ou superiores.([documentação do vector](https://vector.readthedocs.io/en/latest/))\n",
        "\n"
      ]
    },
    {
      "cell_type": "code",
      "execution_count": null,
      "metadata": {
        "id": "rTBqvC9kJ90T"
      },
      "outputs": [],
      "source": [
        "try:\n",
        "  import coffea\n",
        "except ImportError as e:\n",
        "  !pip install coffea\n",
        "  import coffea\n",
        "print (coffea.__version__)"
      ]
    },
    {
      "cell_type": "code",
      "execution_count": null,
      "metadata": {
        "id": "niEHVWlwE7Nx"
      },
      "outputs": [],
      "source": [
        "#!pip install uproot awkward xrootd\n",
        "#!pip install fsspec-xrootd\n",
        "import uproot\n",
        "import awkward as ak\n",
        "import pandas as pd\n",
        "import numpy as np\n",
        "import matplotlib.pyplot as plt\n",
        "import vector\n",
        "import hist\n",
        "import mplhep as hep\n",
        "\n",
        "print (uproot.__version__)\n",
        "print (ak.__version__)"
      ]
    },
    {
      "cell_type": "markdown",
      "metadata": {
        "id": "Z163cJRyEg4x"
      },
      "source": [
        "# Baixar o dataframe"
      ]
    },
    {
      "cell_type": "markdown",
      "metadata": {
        "id": "DP4E-zYpE6h9"
      },
      "source": [
        "# Abrir e explorar o arquivo ROOT usando o uproot\n"
      ]
    },
    {
      "cell_type": "markdown",
      "metadata": {
        "id": "SscL5EClFR48"
      },
      "source": [
        "\n",
        "* (1.) Abrir o arquivo.\n",
        "* (2.) Verificar o conteúdo do arquivo.\n",
        "* (3.) Verificar o conteúdo da tree: o número de branches, os nomes e os tipos de variáveis em cada branch."
      ]
    },
    {
      "cell_type": "code",
      "execution_count": null,
      "metadata": {
        "id": "s98j_iaOIZnN"
      },
      "outputs": [],
      "source": [
        "#Usando o output da Parte I (\"muon_data_tree.root\"\n",
        "!wget -nc --no-check-certificate https://eliza.web.cern.ch/eliza/HandsOn/muon_data_tree.root\n"
      ]
    },
    {
      "cell_type": "code",
      "execution_count": null,
      "metadata": {
        "id": "tNCWf5Z7Lgr7"
      },
      "outputs": [],
      "source": [
        "# Abrir o arquivo ROOT para leitura\n",
        "file = uproot.open(\"muon_data_tree.root\")\n",
        "\n",
        "\n",
        "print(file.keys())\n",
        "tree = file[\"tree\"]\n",
        "print(tree.keys())  # Lista as branches (colunas)\n",
        "\n",
        "# Ler algumas entradas para verificar se os dados estão corretos\n",
        "df_r = tree.arrays([\"muon1_pt\", \"muon1_eta\", \"muon1_phi\", \"pt_dimu\"], library=\"pd\")  # Carregar em um DataFrame\n",
        "print(df_r.head())  # Visualizar as primeiras linhas do DataFrame\n"
      ]
    },
    {
      "cell_type": "code",
      "execution_count": null,
      "metadata": {
        "id": "Q94kYqkN40Jw"
      },
      "outputs": [],
      "source": [
        "#df_r = tree.arrays(tree.keys(), entry_stop=10000, library='pd')\n",
        "#df_r"
      ]
    },
    {
      "cell_type": "code",
      "execution_count": null,
      "metadata": {
        "id": "-XHuklJb6s5b"
      },
      "outputs": [],
      "source": [
        "#len(df_r)"
      ]
    },
    {
      "cell_type": "markdown",
      "metadata": {
        "id": "p56534Vdgrk9"
      },
      "source": [
        "Plots algumas varáveis cinemáticas do par"
      ]
    },
    {
      "cell_type": "code",
      "source": [
        "#pt_dimu = df_r[\"pt_dimu\"]\n"
      ],
      "metadata": {
        "id": "oCZWokakiKi3"
      },
      "execution_count": null,
      "outputs": []
    },
    {
      "cell_type": "code",
      "execution_count": null,
      "metadata": {
        "id": "qzsInLRd6rBy"
      },
      "outputs": [],
      "source": [
        "'''\n",
        "plt.figure()\n",
        "plt.hist(pt_dimu, bins=100, range=(0, 200), histtype='step', color='blue', label=r'$p_T$ (GeV)')\n",
        "plt.xlabel(r'$p_{T}^{\\mu^+\\mu^-} [GeV]/c$')\n",
        "plt.ylabel('Events')\n",
        "plt.yscale('log')\n",
        "plt.show()\n",
        "'''"
      ]
    },
    {
      "cell_type": "code",
      "source": [
        "#mass_doismuons = df_r[\"mass_dimu\"]\n"
      ],
      "metadata": {
        "id": "b7gn4YDRiV4E"
      },
      "execution_count": null,
      "outputs": []
    },
    {
      "cell_type": "code",
      "execution_count": null,
      "metadata": {
        "id": "2dkiChSi4VnZ"
      },
      "outputs": [],
      "source": [
        "#\n",
        "'''\n",
        "plt.figure()\n",
        "plt.hist(mass_doismuons, bins=3000, range=(0.25, 300), histtype='step', color='blue', linewidth=1.5)\n",
        "plt.xlabel(r'M$_{\\mu^+\\mu^-}$ [GeV]/$c^{2}$')\n",
        "plt.ylabel('Events')\n",
        "plt.yscale('log')\n",
        "plt.xscale('log')\n",
        "plt.show()\n",
        "'''"
      ]
    },
    {
      "cell_type": "markdown",
      "metadata": {
        "id": "SqKjIhgNHUXf"
      },
      "source": [
        "#*Usando o ROOT e a sua ferramenta RooFit*\n"
      ]
    },
    {
      "cell_type": "markdown",
      "metadata": {
        "id": "nCZupwktipKj"
      },
      "source": [
        "\n",
        "\n",
        "*   Baixar o Root e obter as dependências;\n",
        "*   Importar as funções;\n",
        "*   Com o plot da massa invariante:\n",
        "  *   Escolher um pico de sinal de física;\n",
        "  *   Os modelos para o sinal e fundo;\n",
        "  *   Ajustar aos dados;\n",
        "  *   Extrair informações;\n",
        "  *   Validar o ajuste;\n",
        "\n",
        "\n",
        "\n",
        "\n",
        "\n",
        "\n"
      ]
    },
    {
      "cell_type": "code",
      "execution_count": null,
      "metadata": {
        "id": "lYUfkFr1CJU1"
      },
      "outputs": [],
      "source": [
        "!pip install -q condacolab\n"
      ]
    },
    {
      "cell_type": "code",
      "execution_count": null,
      "metadata": {
        "id": "49LQl_KdCI5w"
      },
      "outputs": [],
      "source": [
        "import condacolab\n"
      ]
    },
    {
      "cell_type": "code",
      "execution_count": null,
      "metadata": {
        "id": "6cq0PtN-CZl_"
      },
      "outputs": [],
      "source": [
        "condacolab.install()\n"
      ]
    },
    {
      "cell_type": "code",
      "execution_count": null,
      "metadata": {
        "id": "_cqQX5cTCZiT"
      },
      "outputs": [],
      "source": [
        "!conda --version\n"
      ]
    },
    {
      "cell_type": "code",
      "execution_count": null,
      "metadata": {
        "id": "uUAAeCS1CZc3"
      },
      "outputs": [],
      "source": [
        "!conda install ROOT\n",
        "#import ROOT as rt\n"
      ]
    },
    {
      "cell_type": "code",
      "execution_count": null,
      "metadata": {
        "id": "3UAc4571ZOT9"
      },
      "outputs": [],
      "source": [
        "import ROOT"
      ]
    },
    {
      "cell_type": "code",
      "execution_count": null,
      "metadata": {
        "id": "ZNmdKIyWRYyM"
      },
      "outputs": [],
      "source": [
        "# Importar as funções do ROOT aqui\n",
        "from ROOT import TH1F\n",
        "from ROOT import TFile\n",
        "from ROOT import TLorentzVector\n",
        "from ROOT import TLegend\n",
        "from ROOT import RooFit\n",
        "from ROOT import RooDataHist\n",
        "from ROOT import RooDataSet\n",
        "from ROOT import RooRealVar\n",
        "from ROOT import RooArgList\n",
        "from ROOT import RooArgSet\n",
        "from ROOT import RooAddPdf\n",
        "from ROOT import RooExponential\n",
        "from ROOT import RooGaussian\n",
        "from ROOT import RooPlot\n",
        "from ROOT import RooCBShape\n",
        "from ROOT import RooChi2Var\n",
        "from ROOT import TLatex\n"
      ]
    },
    {
      "cell_type": "markdown",
      "metadata": {
        "id": "Fuy1sGrE_Jfm"
      },
      "source": [
        "O comando abaixo ativa o processamento multi-thread em ROOT, o que pode acelerar operações que envolvem grandes volumes de dados."
      ]
    },
    {
      "cell_type": "code",
      "execution_count": null,
      "metadata": {
        "id": "TCQ7lQAjRi19"
      },
      "outputs": [],
      "source": [
        "ROOT.ROOT.EnableImplicitMT(4)  # Para usar 4 threads ou"
      ]
    },
    {
      "cell_type": "code",
      "execution_count": null,
      "metadata": {
        "id": "SztWVO5hOSZJ"
      },
      "outputs": [],
      "source": [
        "df_r = tree.arrays([\"muon1_pt\", \"muon1_eta\", \"muon1_phi\", \"pt_dimu\", \"mass_dimu\"], library=\"pd\")  # Carregar em um DataFrame\n",
        "print(df_r.head())  # Visualizar as primeiras linhas do DataFrame\n"
      ]
    },
    {
      "cell_type": "code",
      "execution_count": null,
      "metadata": {
        "id": "1C9EmHkAOAQc"
      },
      "outputs": [],
      "source": [
        "# Obter a variável mass_dimu a partir do DataFrame\n",
        "mass_dimu = df_r[\"mass_dimu\"]"
      ]
    },
    {
      "cell_type": "code",
      "execution_count": null,
      "metadata": {
        "id": "r1mKTNkKiU3V"
      },
      "outputs": [],
      "source": [
        "# Nome único para cada execução para evitar conflitos\n",
        "hist_name = \"invariant_mass_histogram\"\n",
        "canvas_name = \"invariant_mass_canvas\"\n",
        "\n",
        "# Verifica e remove o histograma existente\n",
        "if ROOT.gROOT.FindObject(hist_name):\n",
        "    ROOT.gROOT.FindObject(hist_name).Delete()\n",
        "\n",
        "# Verifica e remove o canvas existente\n",
        "if ROOT.gROOT.FindObject(canvas_name):\n",
        "    ROOT.gROOT.FindObject(canvas_name).Delete()\n",
        "\n",
        "# Criação do histograma com ROOT\n",
        "bins = 30000\n",
        "low = 0.25\n",
        "up = 300.0\n",
        "hist = ROOT.TH1F(hist_name, r';Mass_{#mu#mu}(GeV/c^2);N_{Events}',bins , low, up)\n",
        "\n",
        "hist.GetXaxis().SetTitleSize(0.042)\n",
        "hist.GetYaxis().SetTitleSize(0.042)\n",
        "hist.SetStats(False)\n",
        "\n",
        "# Preenchendo o histograma com os dados de massa invariante\n",
        "for mass in mass_dimu:\n",
        "    hist.Fill(mass)\n",
        "\n",
        "# Criação do canvas e desenho do histograma\n",
        "ROOT.gStyle.SetOptStat(0)\n",
        "ROOT.gStyle.SetTextFont(42)\n",
        "canvas = ROOT.TCanvas(canvas_name, \"Invariant Mass\", 800, 700)\n",
        "canvas.SetLogx()\n",
        "canvas.SetLogy()\n",
        "hist.Draw()\n",
        "\n",
        "# Atualiza o canvas para garantir que o gráfico seja exibido\n",
        "canvas.Update()\n",
        "'''\n",
        "label = ROOT.TLatex()\n",
        "label.SetTextAlign(22)\n",
        "#label.DrawLatex(0.55, 3.0e3, \"#eta\")\n",
        "label.DrawLatex(0.77, 3.0e2, \"#rho,#omega\")\n",
        "label.DrawLatex(1.20, 4.0e2, \"#phi\")\n",
        "label.DrawLatex(4.00, 7.0e2, \"J/#psi\")\n",
        "label.DrawLatex(4.60, 1.0e2, \"#psi'\")\n",
        "label.DrawLatex(13.0, 0.9e2, \"Y(1,2,3S)\")\n",
        "label.DrawLatex(91.0, 6.5e2, \"Z\")\n",
        "label.SetNDC(True)\n",
        "label.SetTextAlign(11)\n",
        "label.SetTextSize(0.03)\n",
        "label.DrawLatex(0.10, 0.92, \"#bf{CMS Open Data}\")\n",
        "label.SetTextAlign(31)\n",
        "label.DrawLatex(0.90, 0.92, \"#sqrt{s} = 13 TeV, L_{int} = 4.7 fb^{-1}\");\n",
        "'''\n",
        "\n",
        "canvas.Draw()\n",
        "\n",
        "# Caso queira salvar o resultado\n",
        "canvas.SaveAs(\"invariant_mass.png\")"
      ]
    },
    {
      "cell_type": "code",
      "execution_count": null,
      "metadata": {
        "id": "_igdL-c7JEzq"
      },
      "outputs": [],
      "source": [
        "#f = TFile(\"muon_data_tree.root\")\n",
        "#f.ls()\n"
      ]
    },
    {
      "cell_type": "code",
      "execution_count": null,
      "metadata": {
        "id": "os_OjwjTJNYj"
      },
      "outputs": [],
      "source": [
        "#f.tree.Print()"
      ]
    },
    {
      "cell_type": "code",
      "execution_count": null,
      "metadata": {
        "id": "7ATm79XhLTka"
      },
      "outputs": [],
      "source": [
        "#max_Events = f.tree.GetEntries()\n",
        "#max_Events"
      ]
    },
    {
      "cell_type": "code",
      "execution_count": null,
      "metadata": {
        "id": "vgmszv9ViTmc"
      },
      "outputs": [],
      "source": [
        "'''\n",
        "hist2 = ROOT.TH1F(\"\", \";Mass_{#mu#mu}(GeV/c^2);N_{Events}\",bins , low, up)\n",
        "\n",
        "hist2.GetXaxis().SetTitleSize(0.040)\n",
        "hist2.GetYaxis().SetTitleSize(0.040)\n",
        "hist2.SetStats(False)\n",
        "\n",
        "# Preenchendo o histograma com os dados de massa invariante\n",
        "for i, mass in enumerate(f.tree):\n",
        "    hist2.Fill(mass.mass_dimu)\n",
        "    if i>max_Events:\n",
        "      break\n",
        "\n",
        "# Criação do canvas e desenho do histograma\n",
        "canvas2 = ROOT.TCanvas(\"canvas2\", \"Invariant Mass\", 800, 700)\n",
        "\n",
        "hist2.Draw()\n",
        "# Atualiza o canvas para garantir que o gráfico seja exibido\n",
        "canvas2.Update()\n",
        "'''"
      ]
    },
    {
      "cell_type": "code",
      "execution_count": null,
      "metadata": {
        "id": "zMYAmMUVtYY4"
      },
      "outputs": [],
      "source": [
        "#Configurar os limites da massa do pico escolhido, como exemplos usaremos o pico do J/Psi->muon+muon\n",
        "#Com o hist sem o log em y\n",
        "jpsi_pdg_mass =3.0969 #3096.900/1000\n",
        "m_min = 2.9\n",
        "m_max = 3.3\n",
        "jpsi_bins = int((m_max - m_min)/0.05)\n",
        "print(jpsi_bins)\n",
        "\n",
        "# Definindo a variável de massa para RooFit\n",
        "#Create a Mass variable that RooFit can use, and importing the relevant dataset\n",
        "mass = ROOT.RooRealVar(\"mass\", \"m_{\\mu^{+}\\mu^{-}}\", m_min, m_max, \"GeV/c^{2}\")\n",
        "# Convertendo o histograma em um dataset do RooFit\n",
        "data = ROOT.RooDataHist(\"data\", \"dataset with mass\", ROOT.RooArgList(mass), hist)\n"
      ]
    },
    {
      "cell_type": "code",
      "execution_count": null,
      "metadata": {
        "id": "LF3j6jUIiTjH"
      },
      "outputs": [],
      "source": [
        "## Sinal PDF : Crystal Ball + Gaussian\n",
        "frac_gauss = ROOT.RooRealVar(\"frac_gauss\", \"\", 0.4, 0.0, 1.0)\n",
        "mean = ROOT.RooRealVar(\"mean\", \"\",jpsi_pdg_mass , m_min, m_max)\n",
        "sigma_gauss = ROOT.RooRealVar(\"sigma gauss\", \"\",0.019 , 0.000001, 1.0)\n",
        "\n",
        "frac_cb = ROOT.RooRealVar(\"frac_cb\", \"\", 0.6, 0.0, 1.0)\n",
        "sigma_cb = ROOT.RooRealVar(\"sigma cb\", \"\",0.019 , 0.000001, 1.0)\n",
        "alpha = ROOT.RooRealVar(\"alpha\", \"\",1.4 , 0.0, 10.0)\n",
        "n = ROOT.RooRealVar(\"n\", \"\", 20 , 0, 150)\n",
        "n.setConstant(True)\n",
        "\n",
        "signal1 = ROOT.RooGaussian(\"gauss\", \"\", mass, mean, sigma_gauss)\n",
        "signal2 = ROOT.RooCBShape(\"crystal ball\", \"\", mass, mean, sigma_cb,alpha,n)\n"
      ]
    },
    {
      "cell_type": "code",
      "execution_count": null,
      "metadata": {
        "id": "1My_vuzNXUHy"
      },
      "outputs": [],
      "source": [
        "#Background PDF Model\n",
        "exp_c0 = RooRealVar(\"exp_c0\", \"\", -3,-5,5)\n",
        "bkg = ROOT.RooExponential(\"bkg\", \"\",mass,exp_c0)\n",
        "\n"
      ]
    },
    {
      "cell_type": "code",
      "execution_count": null,
      "metadata": {
        "id": "XezSO4YHX9e9"
      },
      "outputs": [],
      "source": [
        "model = ROOT.RooAddPdf(\"model\", \"\", ROOT.RooArgList(signal1,signal2,bkg),ROOT.RooArgList(frac_gauss,frac_cb), ROOT.kTRUE)"
      ]
    },
    {
      "cell_type": "code",
      "execution_count": null,
      "metadata": {
        "id": "pfP_8nzVYsWu"
      },
      "outputs": [],
      "source": [
        "fit_result = model.fitTo(data, ROOT.RooFit.Save())"
      ]
    },
    {
      "cell_type": "code",
      "execution_count": null,
      "metadata": {
        "id": "4yQMfucjY09Z"
      },
      "outputs": [],
      "source": [
        "colors = {\"model\" : 2, \"signal\" : 4, \"background\" : 3}\n",
        "styles = {\"model\" : 1, \"signal\" : 1, \"background\" : 2}\n",
        "\n",
        "ca = ROOT.TCanvas(\"can\", \"\",900,600)\n",
        "\n",
        "frame = mass.frame(ROOT.RooFit.Title(\"J/\\Psi Mass Fit\"), ROOT.RooFit.Bins(100))\n",
        "frame.GetXaxis().SetTitle(r'm_{\\mu^+\\mu^-} [GeV/c^2]')\n",
        "\n",
        "# Data\n",
        "data.plotOn(frame, ROOT.RooFit.Name(\"Data\"), ROOT.RooFit.DataError(ROOT.RooAbsData.SumW2))\n",
        "\n",
        "# Signal\n",
        "model.plotOn(frame, ROOT.RooFit.Name(\"Signal\"), ROOT.RooFit.Components(\"gauss,crystal ball\"), ROOT.RooFit.LineStyle(styles[\"signal\"]), ROOT.RooFit.LineColor(colors[\"signal\"]))\n",
        "\n",
        "# Background\n",
        "model.plotOn(frame, ROOT.RooFit.Name(\"Background\"), ROOT.RooFit.Components(\"bkg\"), ROOT.RooFit.LineStyle(styles[\"background\"]), ROOT.RooFit.LineColor(colors[\"background\"]))\n",
        "\n",
        "# Model\n",
        "model.plotOn(frame, ROOT.RooFit.Name(\"Model\"), ROOT.RooFit.LineStyle(styles[\"model\"]), ROOT.RooFit.LineColor(colors[\"model\"]))\n",
        "\n",
        "frame.Print()\n",
        "\n",
        "# Extraindo os parâmetros ajustados e seus erros\n",
        "mean_val = mean.getValV()\n",
        "mean_err = mean.getError()\n",
        "sigma_val = sigma_gauss.getValV()\n",
        "sigma_err = sigma_gauss.getError()\n",
        "\n",
        "import math\n",
        "\n",
        "# Cálculo do número total de eventos (n_total)\n",
        "n_total = data.sumEntries()\n",
        "\n",
        "# Cálculo do yields do sinal\n",
        "frac_cb_val = frac_cb.getVal()  # Valor de frac_cb\n",
        "frac_gauss_val = frac_gauss.getVal()  # Valor de frac_gauss\n",
        "frac_cb_err = frac_cb.getError()\n",
        "frac_gauss_err = frac_gauss.getError()\n",
        "\n",
        "# Número de eventos de sinal\n",
        "nsignal = n_total * (frac_cb_val + (1 - frac_cb_val) * frac_gauss_val)\n",
        "# Propagação de erros para o sinal\n",
        "nsignal_err = n_total * math.sqrt((frac_cb_err)**2 + ((1 - frac_cb_val) * frac_gauss_err)**2)\n",
        "\n",
        "# Número de eventos de fundo (N_total - N_signal)\n",
        "#nbackground = n_total - nsignal ou N_back = n_total (1 - fgauss) * (1 - fcrystall) * fexponential\n",
        "\n",
        "nbackground = n_total * (1 - frac_gauss_val) * (1 - frac_cb_val)\n",
        "\n",
        "# Propagação de erros para o fundo\n",
        "nbackground_err = n_total * math.sqrt(\n",
        "    ((1 - frac_cb_val) * frac_gauss_err) ** 2 +\n",
        "    ((1 - frac_gauss_val) * frac_cb_err) ** 2\n",
        ")\n",
        "\n",
        "\n",
        "## ChiSquare computation\n",
        "n_param = fit_result.floatParsFinal().getSize()\n",
        "print(\"nr de par:\", n_param)\n",
        "reduce_chi_square = frame.chiSquare(n_param)\n",
        "print(\"chi sqare:\", frame.chiSquare() )\n",
        "print(\"chi_square/n_param\", reduce_chi_square )\n",
        "\n",
        "frame.Draw()\n",
        "\n",
        "## Legendas\n",
        "\n",
        "#legend_text = ROOT.TPaveText(0.65, 0.6, 0.9, 0.85, \"NDC\")\n",
        "#legend_text = ROOT.TPaveText(0.75, 0.25, 0.9, 0.35, \"NDC\")\n",
        "legend_text = ROOT.TPaveText(0.7, 0.55, 0.88, 0.7, \"NDC\")\n",
        "legend_text.AddText(f\"Mean = {mean_val:.4f} #pm {mean_err:.4f} GeV/c^2\")\n",
        "legend_text.AddText(f\"Sigma = {sigma_val:.4f} #pm {sigma_err:.4f} GeV/c^2\")\n",
        "# Adicionar o rendimento do sinal e do fundo\n",
        "legend_text.AddText(f\"Signal Yield = {nsignal:.0f} #pm {nsignal_err:.0f}\")\n",
        "legend_text.AddText(f\"Background Yield = {nbackground:.0f} #pm {nbackground_err:.0f}\")\n",
        "#legend_text.AddText(f\"nr de param = {n_param:.2f}\")\n",
        "legend_text.AddText(f\"Chi2/ndof = {reduce_chi_square:.2f}\")\n",
        "\n",
        "legend_text.SetFillColor(0)\n",
        "legend_text.SetBorderSize(1)\n",
        "legend_text.Draw()\n",
        "\n",
        "#leg = ROOT.TLegend(0.7, 0.7, 0.88, 0.89)\n",
        "leg = ROOT.TLegend(0.7, 0.75, 0.88, 0.89)\n",
        "leg.AddEntry(frame.findObject(\"Data\"), \"Data\", \"LEP\")\n",
        "leg.AddEntry(frame.findObject(\"Model\"), \"Model Fit\", \"L\")\n",
        "leg.AddEntry(frame.findObject(\"Signal\"), \"Signal Fit\", \"L\")\n",
        "leg.AddEntry(frame.findObject(\"Background\"), \"Background fit\", \"L\")\n",
        "\n",
        "\n",
        "\n",
        "leg.Draw(\"same\")\n",
        "ca.Update()\n",
        "ca.Draw()\n",
        "\n",
        "ca.SaveAs(\"M_JPsi_fit.png\")"
      ]
    },
    {
      "cell_type": "code",
      "execution_count": null,
      "metadata": {
        "id": "NG1uwOi9-7eY"
      },
      "outputs": [],
      "source": [
        "fit_result.Print()"
      ]
    },
    {
      "cell_type": "markdown",
      "metadata": {
        "id": "oArskupFEP-x"
      },
      "source": [
        "O pull é uma medida de quão bem o seu modelo ajustado se alinha com os dados. Para cada bin, o pull representa a diferença entre o valor observado (dados) e o valor previsto pelo ajuste (modelo), normalizado pelo erro. Idealmente, a distribuição de pull deve ser centrada em torno de zero com um desvio padrão próximo de 1."
      ]
    },
    {
      "cell_type": "code",
      "execution_count": null,
      "metadata": {
        "id": "4cmSc01JDOSm"
      },
      "outputs": [],
      "source": [
        "''''\n",
        "# Crie um frame a partir da variável 'mass' que está sendo ajustada\n",
        "mass_frame = mass.frame(ROOT.RooFit.Title(\"Fit Results\"))\n",
        "\n",
        "# Plote os dados no frame\n",
        "data.plotOn(mass_frame)\n",
        "\n",
        "# Plote o modelo ajustado no frame\n",
        "model.plotOn(mass_frame)\n",
        "\n",
        "# Agora crie o histograma de pulls a partir do gráfico de ajuste\n",
        "histpull = mass_frame.pullHist()\n",
        "\n",
        "# Crie um novo frame para a distribuição de pulls\n",
        "pull_frame = mass.frame(ROOT.RooFit.Title(\"Pull Distribution\"))\n",
        "pull_frame.addPlotable(histpull, \"P\")\n",
        "\n",
        "\n",
        "can2 = ROOT.TCanvas(\"can2\", \"Pull Distribution\", 900, 300)\n",
        "\n",
        "# Ajuste o frame para o pull\n",
        "pull_frame.GetXaxis().SetTitle(\"m_{#mu^+\\mu^-} [GeV/c^2]\")\n",
        "pull_frame.GetYaxis().SetTitle(\"Pull\")\n",
        "pull_frame.GetYaxis().SetTitleOffset(1.6)\n",
        "\n",
        "# Desenhe o gráfico de pull\n",
        "can2.cd()\n",
        "pull_frame.Draw()\n",
        "\n",
        "# Calcular o mean e o desvio padrão dos pulls\n",
        "mean_hist = histpull.GetMean()\n",
        "stddev_hist = histpull.GetRMS()\n",
        "\n",
        "mean_pull = np.mean(histpull.GetY())  # Calcula o valor médio (mean) dos pulls\n",
        "sigma_pull = np.std(histpull.GetY())  # Calcula o desvio padrão (sigma) dos pulls\n",
        "print(f\"Mean of Pull: {mean_pull}\")\n",
        "print(f\"Sigma (Standard Deviation) of Pull: {sigma_pull}\")\n",
        "# Adicionando o texto com o mean e o desvio padrão no gráfico de pull\n",
        "latex = ROOT.TLatex()\n",
        "latex.SetNDC()  # Para coordenadas normalizadas\n",
        "\n",
        "# Desenhe o mean e stddev no gráfico\n",
        "latex.DrawLatex(0.15, 0.85, f\"Mean: {mean_pull:.2f}\")\n",
        "latex.DrawLatex(0.15, 0.80, f\"Std Dev: {sigma_pull:.2f}\")\n",
        "\n",
        "# Exibir o canvas com a informação correta\n",
        "can2.Draw()\n",
        "'''\n"
      ]
    },
    {
      "cell_type": "code",
      "execution_count": null,
      "metadata": {
        "id": "nKRZcZEWEgDD"
      },
      "outputs": [],
      "source": [
        "# Workspace\n",
        "wspace = ROOT.RooWorkspace(\"Jpsi fit\")\n",
        "\n",
        "getattr(wspace, \"import\")(data)\n",
        "getattr(wspace, \"import\")(model)\n",
        "\n",
        "wspace.writeToFile(\"Jpsi_fit.root\")\n",
        "\n",
        "#ROOT.DisableImplicitMT()"
      ]
    }
  ],
  "metadata": {
    "colab": {
      "provenance": [],
      "authorship_tag": "ABX9TyMzVEXigLaFYeC1GpOdHxrp",
      "include_colab_link": true
    },
    "kernelspec": {
      "display_name": "Python 3",
      "name": "python3"
    },
    "language_info": {
      "name": "python"
    }
  },
  "nbformat": 4,
  "nbformat_minor": 0
}