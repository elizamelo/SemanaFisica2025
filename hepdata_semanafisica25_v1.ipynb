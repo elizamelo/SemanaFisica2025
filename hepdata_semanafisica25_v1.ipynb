{
  "cells": [
    {
      "cell_type": "markdown",
      "metadata": {
        "id": "view-in-github",
        "colab_type": "text"
      },
      "source": [
        "<a href=\"https://colab.research.google.com/github/elizamelo/SemanaFisica2025/blob/main/hepdata_semanafisica25_v1.ipynb\" target=\"_parent\"><img src=\"https://colab.research.google.com/assets/colab-badge.svg\" alt=\"Open In Colab\"/></a>"
      ]
    },
    {
      "cell_type": "markdown",
      "metadata": {
        "id": "WfTy0OEMqfm_"
      },
      "source": [
        "\n",
        "\n",
        "---\n",
        "# Hands-On: Análise de Dados\n",
        "\n",
        "\n",
        "---\n",
        "\n",
        "\n",
        "Parte I - ROOT\n",
        "\n",
        "7. Fazer um ajuste no pico que corresponde ao méson $J/\\Psi$ usando o RooFit.\n",
        "\n",
        "8. Extrair as informações dos parâmetros.\n",
        "\n",
        "9. Validação do fit (pull e/ou $\\chi^{2}/ndof$).\n",
        "\n",
        "\n",
        "\n",
        "\n",
        "\n",
        "\n",
        "\n",
        "\n"
      ]
    },
    {
      "cell_type": "code",
      "execution_count": null,
      "metadata": {
        "id": "zXnfUCicp3Bg",
        "colab": {
          "base_uri": "https://localhost:8080/"
        },
        "outputId": "366a658b-c2fe-45ff-a212-b7ce72ec00e4"
      },
      "outputs": [
        {
          "output_type": "stream",
          "name": "stdout",
          "text": [
            "The autoreload extension is already loaded. To reload it, use:\n",
            "  %reload_ext autoreload\n"
          ]
        }
      ],
      "source": [
        "%load_ext autoreload\n",
        "%autoreload 2"
      ]
    },
    {
      "cell_type": "markdown",
      "metadata": {
        "id": "ZFLCAt8SEBvA"
      },
      "source": [
        "# Instalar: coffea, uproot, awkward\n",
        "\n",
        "coffea, uproot, e awkward são três bibliotecas importantes para análise de dados em Física de Altas Energias (HEP), especialmente voltadas para trabalhar com arquivos ROOT, que são utilizados no contexto de experimentos no CERN.\n",
        "\n",
        "\n",
        "* [coffea](https://github.com/CoffeaTeam/coffea\n",
        ")\n",
        "\n",
        "* [uproot](https://uproot.readthedocs.io/en/latest/basic.html)\n",
        "\n",
        "*   [awkward](https://awkward-array.org/doc/main/)\n",
        "\n",
        "* Ferramentas adicionais:\n",
        "    * **pandas**: biblioteca para estruturas de dados tabulares e ferramentas de análise em Python.( [documentação do pandas](https://pandas.pydata.org/docs/getting_started/index.html))\n",
        "\n",
        "  * **numpy**: fornece cálculos numéricos, como criação de histogramas.\n",
        "\n",
        "  * **matplotlib**: ferramenta comum para criar gráficos, figuras, imagens, visualizações.\n",
        "\n",
        "  * **vector**: é especializada no trabalho com vetores em 2D, 3D e vetores de Lorentz. Esta biblioteca foi projetada para funcionar com versões do Python 3.8 ou superiores.([documentação do vector](https://vector.readthedocs.io/en/latest/))\n",
        "\n"
      ]
    },
    {
      "cell_type": "code",
      "execution_count": null,
      "metadata": {
        "colab": {
          "base_uri": "https://localhost:8080/"
        },
        "id": "rTBqvC9kJ90T",
        "outputId": "a98a5210-ceaf-4ab5-a43c-506d9a2dffe7"
      },
      "outputs": [
        {
          "output_type": "stream",
          "name": "stdout",
          "text": [
            "2025.3.0\n"
          ]
        }
      ],
      "source": [
        "try:\n",
        "  import coffea\n",
        "except ImportError as e:\n",
        "  !pip install coffea\n",
        "  import coffea\n",
        "print (coffea.__version__)"
      ]
    },
    {
      "cell_type": "code",
      "execution_count": null,
      "metadata": {
        "colab": {
          "base_uri": "https://localhost:8080/"
        },
        "id": "niEHVWlwE7Nx",
        "outputId": "c4cecd53-3bb8-4c23-92b0-bd7fd094bd5c"
      },
      "outputs": [
        {
          "output_type": "stream",
          "name": "stdout",
          "text": [
            "5.6.0\n",
            "2.8.0\n"
          ]
        }
      ],
      "source": [
        "#!pip install uproot awkward xrootd\n",
        "#!pip install fsspec-xrootd\n",
        "import uproot\n",
        "import awkward as ak\n",
        "import pandas as pd\n",
        "import numpy as np\n",
        "import matplotlib.pyplot as plt\n",
        "import vector\n",
        "import hist\n",
        "import mplhep as hep\n",
        "\n",
        "print (uproot.__version__)\n",
        "print (ak.__version__)"
      ]
    },
    {
      "cell_type": "markdown",
      "metadata": {
        "id": "Z163cJRyEg4x"
      },
      "source": [
        "# Baixar o dataframe"
      ]
    },
    {
      "cell_type": "markdown",
      "metadata": {
        "id": "DP4E-zYpE6h9"
      },
      "source": [
        "# Abrir e explorar o arquivo ROOT usando o uproot\n"
      ]
    },
    {
      "cell_type": "markdown",
      "metadata": {
        "id": "SscL5EClFR48"
      },
      "source": [
        "\n",
        "* (1.) Abrir o arquivo.\n",
        "* (2.) Verificar o conteúdo do arquivo.\n",
        "* (3.) Verificar o conteúdo da tree: o número de branches, os nomes e os tipos de variáveis em cada branch."
      ]
    },
    {
      "cell_type": "code",
      "execution_count": null,
      "metadata": {
        "colab": {
          "base_uri": "https://localhost:8080/"
        },
        "id": "s98j_iaOIZnN",
        "outputId": "1dd2df5b-1f40-495c-fdb6-f472189c66c1"
      },
      "outputs": [
        {
          "output_type": "stream",
          "name": "stdout",
          "text": [
            "File ‘muon_data_tree.root’ already there; not retrieving.\n",
            "\n"
          ]
        }
      ],
      "source": [
        "#Usando o output da Parte I (\"muon_data_tree.root\"\n",
        "!wget -nc --no-check-certificate https://eliza.web.cern.ch/eliza/HandsOn/muon_data_tree.root\n"
      ]
    },
    {
      "cell_type": "code",
      "execution_count": null,
      "metadata": {
        "colab": {
          "base_uri": "https://localhost:8080/"
        },
        "id": "tNCWf5Z7Lgr7",
        "outputId": "f584bb11-06ec-45cb-b458-d9c8cf3e57a1"
      },
      "outputs": [
        {
          "output_type": "stream",
          "name": "stdout",
          "text": [
            "['tree;1']\n",
            "['num_final_events', 'muon1_pt', 'muon1_eta', 'muon1_phi', 'muon2_pt', 'muon2_eta', 'muon2_phi', 'pt_dimu', 'eta_dimu', 'mass_dimu']\n",
            "    muon1_pt  muon1_eta  muon1_phi    pt_dimu\n",
            "0  52.556774  -1.429199  -2.723145  36.169895\n",
            "1  28.536793  -1.869141  -2.602539   4.424065\n",
            "2  50.203129  -0.656128   1.626221  14.304790\n",
            "3  53.714878   0.159729  -1.947510  29.602020\n",
            "4  48.502796  -1.802002   1.400146  13.670810\n"
          ]
        }
      ],
      "source": [
        "# Abrir o arquivo ROOT para leitura\n",
        "file = uproot.open(\"muon_data_tree.root\")\n",
        "\n",
        "\n",
        "print(file.keys())\n",
        "tree = file[\"tree\"]\n",
        "print(tree.keys())  # Lista as branches (colunas)\n",
        "\n",
        "# Ler algumas entradas para verificar se os dados estão corretos\n",
        "df_r = tree.arrays([\"muon1_pt\", \"muon1_eta\", \"muon1_phi\", \"pt_dimu\"], library=\"pd\")  # Carregar em um DataFrame\n",
        "print(df_r.head())  # Visualizar as primeiras linhas do DataFrame\n"
      ]
    },
    {
      "cell_type": "code",
      "execution_count": null,
      "metadata": {
        "id": "Q94kYqkN40Jw"
      },
      "outputs": [],
      "source": [
        "#df_r = tree.arrays(tree.keys(), entry_stop=10000, library='pd')\n",
        "#df_r"
      ]
    },
    {
      "cell_type": "code",
      "execution_count": null,
      "metadata": {
        "id": "-XHuklJb6s5b"
      },
      "outputs": [],
      "source": [
        "#len(df_r)"
      ]
    },
    {
      "cell_type": "markdown",
      "metadata": {
        "id": "p56534Vdgrk9"
      },
      "source": [
        "Plots algumas varáveis cinemáticas do par"
      ]
    },
    {
      "cell_type": "code",
      "source": [
        "#pt_dimu = df_r[\"pt_dimu\"]\n"
      ],
      "metadata": {
        "id": "oCZWokakiKi3"
      },
      "execution_count": null,
      "outputs": []
    },
    {
      "cell_type": "code",
      "execution_count": null,
      "metadata": {
        "colab": {
          "base_uri": "https://localhost:8080/",
          "height": 53
        },
        "id": "qzsInLRd6rBy",
        "outputId": "653e78f0-d09b-4396-cc0d-16f02570816d"
      },
      "outputs": [
        {
          "output_type": "execute_result",
          "data": {
            "text/plain": [
              "\"\\nplt.figure()\\nplt.hist(pt_dimu, bins=100, range=(0, 200), histtype='step', color='blue', label=r'$p_T$ (GeV)')\\nplt.xlabel(r'$p_{T}^{\\\\mu^+\\\\mu^-} [GeV]/c$')\\nplt.ylabel('Events')\\nplt.yscale('log')\\nplt.show()\\n\""
            ],
            "application/vnd.google.colaboratory.intrinsic+json": {
              "type": "string"
            }
          },
          "metadata": {},
          "execution_count": 79
        }
      ],
      "source": [
        "'''\n",
        "plt.figure()\n",
        "plt.hist(pt_dimu, bins=100, range=(0, 200), histtype='step', color='blue', label=r'$p_T$ (GeV)')\n",
        "plt.xlabel(r'$p_{T}^{\\mu^+\\mu^-} [GeV]/c$')\n",
        "plt.ylabel('Events')\n",
        "plt.yscale('log')\n",
        "plt.show()\n",
        "'''"
      ]
    },
    {
      "cell_type": "code",
      "source": [
        "#mass_doismuons = df_r[\"mass_dimu\"]\n"
      ],
      "metadata": {
        "id": "b7gn4YDRiV4E"
      },
      "execution_count": null,
      "outputs": []
    },
    {
      "cell_type": "code",
      "execution_count": null,
      "metadata": {
        "colab": {
          "base_uri": "https://localhost:8080/",
          "height": 53
        },
        "id": "2dkiChSi4VnZ",
        "outputId": "7fbeebe9-119b-4e9c-d10b-c9f9a1f871fa"
      },
      "outputs": [
        {
          "output_type": "execute_result",
          "data": {
            "text/plain": [
              "\"\\nplt.figure()\\nplt.hist(mass_doismuons, bins=3000, range=(0.25, 300), histtype='step', color='blue', linewidth=1.5)\\nplt.xlabel(r'M$_{\\\\mu^+\\\\mu^-}$ [GeV]/$c^{2}$')\\nplt.ylabel('Events')\\nplt.yscale('log')\\nplt.xscale('log')\\nplt.show()\\n\""
            ],
            "application/vnd.google.colaboratory.intrinsic+json": {
              "type": "string"
            }
          },
          "metadata": {},
          "execution_count": 81
        }
      ],
      "source": [
        "#\n",
        "'''\n",
        "plt.figure()\n",
        "plt.hist(mass_doismuons, bins=3000, range=(0.25, 300), histtype='step', color='blue', linewidth=1.5)\n",
        "plt.xlabel(r'M$_{\\mu^+\\mu^-}$ [GeV]/$c^{2}$')\n",
        "plt.ylabel('Events')\n",
        "plt.yscale('log')\n",
        "plt.xscale('log')\n",
        "plt.show()\n",
        "'''"
      ]
    },
    {
      "cell_type": "markdown",
      "metadata": {
        "id": "SqKjIhgNHUXf"
      },
      "source": [
        "#*Usando o ROOT e a sua ferramenta RooFit*\n"
      ]
    },
    {
      "cell_type": "markdown",
      "metadata": {
        "id": "nCZupwktipKj"
      },
      "source": [
        "\n",
        "\n",
        "*   Baixar o Root e obter as dependências;\n",
        "*   Importar as funções;\n",
        "*   Com o plot da massa invariante:\n",
        "  *   Escolher um pico de sinal de física;\n",
        "  *   Os modelos para o sinal e fundo;\n",
        "  *   Ajustar aos dados;\n",
        "  *   Extrair informações;\n",
        "  *   Validar o ajuste;\n",
        "\n",
        "\n",
        "\n",
        "\n",
        "\n",
        "\n"
      ]
    },
    {
      "cell_type": "code",
      "execution_count": null,
      "metadata": {
        "id": "lYUfkFr1CJU1"
      },
      "outputs": [],
      "source": [
        "!pip install -q condacolab\n"
      ]
    },
    {
      "cell_type": "code",
      "execution_count": null,
      "metadata": {
        "id": "49LQl_KdCI5w"
      },
      "outputs": [],
      "source": [
        "import condacolab\n"
      ]
    },
    {
      "cell_type": "code",
      "execution_count": null,
      "metadata": {
        "colab": {
          "base_uri": "https://localhost:8080/"
        },
        "id": "6cq0PtN-CZl_",
        "outputId": "e3305296-a937-4730-9833-03505a1356c5"
      },
      "outputs": [
        {
          "output_type": "stream",
          "name": "stdout",
          "text": [
            "✨🍰✨ Everything looks OK!\n"
          ]
        }
      ],
      "source": [
        "condacolab.install()\n"
      ]
    },
    {
      "cell_type": "code",
      "execution_count": null,
      "metadata": {
        "colab": {
          "base_uri": "https://localhost:8080/"
        },
        "id": "_cqQX5cTCZiT",
        "outputId": "1fe9cf88-a9c5-4dee-81b9-4669c812bae6"
      },
      "outputs": [
        {
          "output_type": "stream",
          "name": "stdout",
          "text": [
            "conda 24.11.3\n"
          ]
        }
      ],
      "source": [
        "!conda --version\n"
      ]
    },
    {
      "cell_type": "code",
      "execution_count": null,
      "metadata": {
        "id": "uUAAeCS1CZc3",
        "colab": {
          "base_uri": "https://localhost:8080/"
        },
        "outputId": "290ce1ac-1f75-4cd2-813e-bbea96af97ad"
      },
      "outputs": [
        {
          "output_type": "stream",
          "name": "stdout",
          "text": [
            "Channels:\n",
            " - conda-forge\n",
            "Platform: linux-64\n",
            "Collecting package metadata (repodata.json): - \b\b\\ \b\b| \b\b/ \b\b- \b\b\\ \b\b| \b\b/ \b\b- \b\b\\ \b\b| \b\b/ \b\b- \b\b\\ \b\b| \b\bdone\n",
            "Solving environment: - \b\b\\ \b\b| \b\b/ \b\b- \b\b\\ \b\b| \b\b/ \b\b- \b\b\\ \b\b| \b\b/ \b\bdone\n",
            "\n",
            "\n",
            "==> WARNING: A newer version of conda exists. <==\n",
            "    current version: 24.11.3\n",
            "    latest version: 25.1.1\n",
            "\n",
            "Please update conda by running\n",
            "\n",
            "    $ conda update -n base -c conda-forge conda\n",
            "\n",
            "\n",
            "\n",
            "# All requested packages already installed.\n",
            "\n"
          ]
        }
      ],
      "source": [
        "!conda install ROOT\n",
        "#import ROOT as rt\n"
      ]
    },
    {
      "cell_type": "code",
      "execution_count": null,
      "metadata": {
        "id": "3UAc4571ZOT9"
      },
      "outputs": [],
      "source": [
        "import ROOT"
      ]
    },
    {
      "cell_type": "code",
      "execution_count": null,
      "metadata": {
        "id": "ZNmdKIyWRYyM"
      },
      "outputs": [],
      "source": [
        "# Importar as funções do ROOT aqui\n",
        "from ROOT import TH1F\n",
        "from ROOT import TFile\n",
        "from ROOT import TLorentzVector\n",
        "from ROOT import TLegend\n",
        "from ROOT import RooFit\n",
        "from ROOT import RooDataHist\n",
        "from ROOT import RooDataSet\n",
        "from ROOT import RooRealVar\n",
        "from ROOT import RooArgList\n",
        "from ROOT import RooArgSet\n",
        "from ROOT import RooAddPdf\n",
        "from ROOT import RooExponential\n",
        "from ROOT import RooGaussian\n",
        "from ROOT import RooPlot\n",
        "from ROOT import RooCBShape\n",
        "from ROOT import RooChi2Var\n",
        "from ROOT import TLatex\n"
      ]
    },
    {
      "cell_type": "markdown",
      "metadata": {
        "id": "Fuy1sGrE_Jfm"
      },
      "source": [
        "O comando abaixo ativa o processamento multi-thread em ROOT, o que pode acelerar operações que envolvem grandes volumes de dados."
      ]
    },
    {
      "cell_type": "code",
      "execution_count": null,
      "metadata": {
        "id": "TCQ7lQAjRi19"
      },
      "outputs": [],
      "source": [
        "ROOT.ROOT.EnableImplicitMT(4)  # Para usar 4 threads ou"
      ]
    },
    {
      "cell_type": "code",
      "execution_count": null,
      "metadata": {
        "id": "SztWVO5hOSZJ",
        "colab": {
          "base_uri": "https://localhost:8080/"
        },
        "outputId": "ea9ca315-c2c6-46af-c999-b7d2549733d5"
      },
      "outputs": [
        {
          "output_type": "stream",
          "name": "stdout",
          "text": [
            "    muon1_pt  muon1_eta  muon1_phi    pt_dimu  mass_dimu\n",
            "0  52.556774  -1.429199  -2.723145  36.169895  91.076653\n",
            "1  28.536793  -1.869141  -2.602539   4.424065  72.235588\n",
            "2  50.203129  -0.656128   1.626221  14.304790  89.062195\n",
            "3  53.714878   0.159729  -1.947510  29.602020  91.994667\n",
            "4  48.502796  -1.802002   1.400146  13.670810  91.714195\n"
          ]
        }
      ],
      "source": [
        "df_r = tree.arrays([\"muon1_pt\", \"muon1_eta\", \"muon1_phi\", \"pt_dimu\", \"mass_dimu\"], library=\"pd\")  # Carregar em um DataFrame\n",
        "print(df_r.head())  # Visualizar as primeiras linhas do DataFrame\n"
      ]
    },
    {
      "cell_type": "code",
      "execution_count": null,
      "metadata": {
        "id": "1C9EmHkAOAQc"
      },
      "outputs": [],
      "source": [
        "# Obter a variável mass_dimu a partir do DataFrame\n",
        "mass_dimu = df_r[\"mass_dimu\"]"
      ]
    },
    {
      "cell_type": "code",
      "execution_count": null,
      "metadata": {
        "id": "r1mKTNkKiU3V",
        "colab": {
          "resources": {
            "http://localhost:8080/static/build/jsroot.js": {
              "data": "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",
              "ok": false,
              "headers": [
                [
                  "content-length",
                  "9306"
                ],
                [
                  "content-type",
                  "text/html"
                ]
              ],
              "status": 404,
              "status_text": ""
            },
            "http://localhost:8080/mathjax/3.2.0/es5/tex-svg.js": {
              "data": "",
              "ok": false,
              "headers": [
                [
                  "content-length",
                  "0"
                ]
              ],
              "status": 404,
              "status_text": ""
            }
          },
          "base_uri": "https://localhost:8080/",
          "height": 1000
        },
        "outputId": "d70ee0bd-9a46-4688-ba3e-a625024b0c7e"
      },
      "outputs": [
        {
          "output_type": "stream",
          "name": "stderr",
          "text": [
            "Warning in <TCanvas::Delete()>: may not use this method\n",
            "Warning in <TCanvas::Constructor>: Deleting canvas with same name: invariant_mass_canvas\n",
            "Info in <TCanvas::Print>: png file invariant_mass.png has been created\n"
          ]
        },
        {
          "output_type": "display_data",
          "data": {
            "text/plain": [
              "<IPython.core.display.HTML object>"
            ],
            "text/html": [
              "\n",
              "\n",
              "<div id=\"root_plot_1742475687037\" style=\"width: 900px; height: 600px; position: relative\">\n",
              "</div>\n",
              "\n",
              "<script>\n",
              "\n",
              "function display_root_plot_1742475687037(Core) {\n",
              "   let obj = Core.parse({\"_typename\":\"TCanvasWebSnapshot\",\"fUniqueID\":0,\"fBits\":0,\"fObjectID\":\"\",\"fOption\":\"\",\"fKind\":3,\"fSnapshot\":{\"_typename\":\"TCanvas\",\"fUniqueID\":0,\"fBits\":3342344,\"fLineColor\":1,\"fLineStyle\":1,\"fLineWidth\":1,\"fFillColor\":0,\"fFillStyle\":1001,\"fLeftMargin\":0.1,\"fRightMargin\":0.1,\"fBottomMargin\":0.1,\"fTopMargin\":0.1,\"fXfile\":2,\"fYfile\":2,\"fAfile\":1,\"fXstat\":0.99,\"fYstat\":0.99,\"fAstat\":2,\"fFrameFillColor\":0,\"fFrameLineColor\":1,\"fFrameFillStyle\":1001,\"fFrameLineStyle\":1,\"fFrameLineWidth\":1,\"fFrameBorderSize\":1,\"fFrameBorderMode\":0,\"fX1\":2.84658437118476,\"fY1\":-74.7293774472287,\"fX2\":3.35865729548191,\"fY2\":672.564352482879,\"fXtoAbsPixelk\":-4980.81323101063,\"fXtoPixelk\":-4980.81323101063,\"fXtoPixel\":1749.75078252734,\"fYtoAbsPixelk\":514.799996590614,\"fYtoPixelk\":514.799996590614,\"fYtoPixel\":-0.76542860871253,\"fUtoAbsPixelk\":0,\"fUtoPixelk\":0,\"fUtoPixel\":896,\"fVtoAbsPixelk\":572,\"fVtoPixelk\":572,\"fVtoPixel\":-572,\"fAbsPixeltoXk\":2.84658437118476,\"fPixeltoXk\":2.84658437118476,\"fPixeltoX\":5.71509960153068e-4,\"fAbsPixeltoYk\":672.564352482879,\"fPixeltoYk\":-74.7293774472287,\"fPixeltoY\":-1.30645756980788,\"fXlowNDC\":0,\"fYlowNDC\":0,\"fXUpNDC\":1,\"fYUpNDC\":1,\"fWNDC\":1,\"fHNDC\":1,\"fAbsXlowNDC\":0,\"fAbsYlowNDC\":0,\"fAbsWNDC\":1,\"fAbsHNDC\":1,\"fUxmin\":2.89779166666667,\"fUymin\":0,\"fUxmax\":3.30745,\"fUymax\":597.834975035651,\"fTheta\":30,\"fPhi\":30,\"fAspectRatio\":0,\"fNumber\":0,\"fTickx\":0,\"fTicky\":0,\"fLogx\":0,\"fLogy\":0,\"fLogz\":0,\"fPadPaint\":0,\"fCrosshair\":0,\"fCrosshairPos\":0,\"fBorderSize\":2,\"fBorderMode\":0,\"fModified\":false,\"fGridx\":false,\"fGridy\":false,\"fAbsCoord\":false,\"fEditable\":true,\"fFixedAspectRatio\":false,\"fPrimitives\":{\"_typename\":\"TList\",\"name\":\"TList\",\"arr\":[],\"opt\":[]},\"fExecs\":null,\"fName\":\"can\",\"fTitle\":\"\",\"fNumPaletteColor\":0,\"fNextPaletteColor\":0,\"fDISPLAY\":\"$DISPLAY\",\"fDoubleBuffer\":0,\"fRetained\":true,\"fXsizeUser\":0,\"fYsizeUser\":0,\"fXsizeReal\":20,\"fYsizeReal\":13.33333,\"fWindowTopX\":0,\"fWindowTopY\":0,\"fWindowWidth\":0,\"fWindowHeight\":0,\"fCw\":896,\"fCh\":572,\"fCatt\":{\"_typename\":\"TAttCanvas\",\"fXBetween\":2,\"fYBetween\":2,\"fTitleFromTop\":1.2,\"fXdate\":0.2,\"fYdate\":0.3,\"fAdate\":1},\"kMoveOpaque\":true,\"kResizeOpaque\":true,\"fHighLightColor\":2,\"fBatch\":true,\"kShowEventStatus\":false,\"kAutoExec\":true,\"kMenuBar\":true},\"fActive\":false,\"fReadOnly\":true,\"fWithoutPrimitives\":false,\"fHasExecs\":false,\"fPrimitives\":[{\"_typename\":\"TWebSnapshot\",\"fUniqueID\":0,\"fBits\":0,\"fObjectID\":\"\",\"fOption\":\"\",\"fKind\":4,\"fSnapshot\":{\"_typename\":\"TWebPainting\",\"fUniqueID\":0,\"fBits\":0,\"fOper\":\"0:255,255,255;1:0,0,0;2:255,0,0;3:0,255,0;4:0,0,255;5:255,255,0;6:255,0,255;7:0,255,255;8:89,211,84;9:89,84,216;10:254,254,254;11:192,182,172;12:76,76,76;13:102,102,102;14:127,127,127;15:153,153,153;16:178,178,178;17:204,204,204;18:229,229,229;19:242,242,242;20:204,198,170;21:204,198,170;22:193,191,168;23:186,181,163;24:178,165,150;25:183,163,155;26:173,153,140;27:155,142,130;28:135,102,86;29:175,206,198;30:132,193,163;31:137,168,160;32:130,158,140;33:173,188,198;34:122,142,153;35:117,137,145;36:104,130,150;37:109,122,132;38:124,153,209;39:127,127,155;40:170,165,191;41:211,206,135;42:221,186,135;43:188,158,130;44:198,153,124;45:191,130,119;46:206,94,96;47:170,142,147;48:165,119,122;49:147,104,112;50:211,89,84;51:146,0,255;52:122,0,255;53:98,0,255;54:74,0,255;55:51,0,255;56:27,0,255;57:3,0,255;58:0,20,255;59:0,44,255;60:0,68,255;61:0,91,255;62:0,115,255;63:0,139,255;64:0,163,255;65:0,187,255;66:0,210,255;67:0,234,255;68:0,255,251;69:0,255,227;70:0,255,204;71:0,255,180;72:0,255,156;73:0,255,132;74:0,255,108;75:0,255,85;76:0,255,61;77:0,255,37;78:0,255,13;79:10,255,0;80:34,255,0;81:57,255,0;82:81,255,0;83:105,255,0;84:129,255,0;85:153,255,0;86:176,255,0;87:200,255,0;88:224,255,0;89:248,255,0;90:255,238,0;91:255,214,0;92:255,190,0;93:255,166,0;94:255,142,0;95:255,119,0;96:255,95,0;97:255,71,0;98:255,47,0;99:255,23,0;100:111,45,168;101:165,42,42;102:178,190,181;103:87,144,252;104:248,156,32;105:228,37,54;106:150,74,139;107:156,156,161;108:122,33,221;109:24,69,251;110:255,94,2;111:201,31,22;112:200,73,169;113:173,173,125;114:134,200,221;115:87,141,255;116:101,99,100;117:63,144,218;118:255,169,14;119:189,31,1;120:148,164,162;121:131,45,182;122:169,107,89;123:231,99,0;124:185,172,112;125:113,117,129;126:146,218,221;127:178,178,178;201:91,91,91;202:122,122,122;203:183,183,183;204:214,214,214;205:137,15,15;206:183,20,20;207:234,71,71;208:239,117,117;209:15,137,15;210:20,183,20;211:71,234,71;212:117,239,117;213:15,15,137;214:20,20,183;215:71,71,234;216:117,117,239;217:137,137,15;218:183,183,20;219:234,234,71;220:239,239,117;221:137,15,137;222:183,20,183;223:234,71,234;224:239,117,239;225:15,137,137;226:20,183,183;227:71,234,234;228:117,239,239;390:255,255,204;391:255,255,153;392:204,204,153;393:255,255,102;394:204,204,102;395:153,153,102;396:255,255,51;397:204,204,51;398:153,153,51;399:102,102,51;400:255,255,0;401:204,204,0;402:153,153,0;403:102,102,0;404:51,51,0;406:204,255,204;407:153,255,153;408:153,204,153;409:102,255,102;410:102,204,102;411:102,153,102;412:51,255,51;413:51,204,51;414:51,153,51;415:51,102,51;416:0,255,0;417:0,204,0;418:0,153,0;419:0,102,0;420:0,51,0;422:204,255,255;423:153,255,255;424:153,204,204;425:102,255,255;426:102,204,204;427:102,153,153;428:51,255,255;429:51,204,204;430:51,153,153;431:51,102,102;432:0,255,255;433:0,204,204;434:0,153,153;435:0,102,102;436:0,51,51;590:204,204,255;591:153,153,255;592:153,153,204;593:102,102,255;594:102,102,204;595:102,102,153;596:51,51,255;597:51,51,204;598:51,51,153;599:51,51,102;600:0,0,255;601:0,0,204;602:0,0,153;603:0,0,102;604:0,0,51;606:255,204,255;607:255,153,255;608:204,153,204;609:255,102,255;610:204,102,204;611:153,102,153;612:255,51,255;613:204,51,204;614:153,51,153;615:102,51,102;616:255,0,255;617:204,0,204;618:153,0,153;619:102,0,102;620:51,0,51;622:255,204,204;623:255,153,153;624:204,153,153;625:255,102,102;626:204,102,102;627:153,102,102;628:255,51,51;629:204,51,51;630:153,51,51;631:102,51,51;632:255,0,0;633:204,0,0;634:153,0,0;635:102,0,0;636:51,0,0;791:255,204,153;792:204,153,102;793:153,102,51;794:153,102,0;795:204,153,51;796:255,204,102;797:255,153,0;798:255,204,51;799:204,153,0;800:255,204,0;801:255,153,51;802:204,102,0;803:102,51,0;804:153,51,0;805:204,102,51;806:255,153,102;807:255,102,0;808:255,102,51;809:204,51,0;810:255,51,0;811:153,255,51;812:102,204,0;813:51,102,0;814:51,153,0;815:102,204,51;816:153,255,102;817:102,255,0;818:102,255,51;819:51,204,0;820:51,255,0;821:204,255,153;822:153,204,102;823:102,153,51;824:102,153,0;825:153,204,51;826:204,255,102;827:153,255,0;828:204,255,51;829:153,204,0;830:204,255,0;831:153,255,204;832:102,204,153;833:51,153,102;834:0,153,102;835:51,204,153;836:102,255,204;837:0,255,102;838:51,255,204;839:0,204,153;840:0,255,204;841:51,255,153;842:0,204,102;843:0,102,51;844:0,153,51;845:51,204,102;846:102,255,153;847:0,255,153;848:51,255,102;849:0,204,51;850:0,255,51;851:153,204,255;852:102,153,204;853:51,102,153;854:0,51,153;855:51,102,204;856:102,153,255;857:0,102,255;858:51,102,255;859:0,51,204;860:0,51,255;861:51,153,255;862:0,102,204;863:0,51,102;864:0,102,153;865:51,153,204;866:102,204,255;867:0,153,255;868:51,204,255;869:0,153,204;870:0,204,255;871:204,153,255;872:153,102,204;873:102,51,153;874:102,0,153;875:153,51,204;876:204,102,255;877:153,0,255;878:204,51,255;879:153,0,204;880:204,0,255;881:153,51,255;882:102,0,204;883:51,0,102;884:51,0,153;885:102,51,204;886:153,102,255;887:102,0,255;888:102,51,255;889:51,0,204;890:51,0,255;891:255,51,153;892:204,0,102;893:102,0,51;894:153,0,51;895:204,51,102;896:255,102,153;897:255,0,102;898:255,51,102;899:204,0,51;900:255,0,51;901:255,153,204;902:204,102,153;903:153,51,102;904:153,0,102;905:204,51,153;906:255,102,204;907:255,0,153;908:204,0,153;909:255,51,204;910:255,0,153;920:204,204,204;921:153,153,153;922:102,102,102;923:51,51,51;924:53,42,134;925:51,44,137;926:50,45,140;927:49,47,143;928:48,48,146;929:46,50,148;930:45,51,151;931:44,53,154;932:43,55,157;933:42,56,160;934:40,58,162;935:39,59,165;936:38,61,168;937:37,63,171;938:35,64,174;939:34,66,176;940:33,67,179;941:32,69,182;942:31,71,185;943:29,72,187;944:28,74,190;945:27,75,193;946:26,77,196;947:24,79,199;948:23,80,201;949:22,82,204;950:21,83,207;951:19,85,210;952:18,86,213;953:17,88,215;954:16,90,218;955:15,91,221;956:15,92,221;957:15,94,220;958:15,95,220;959:15,96,220;960:15,97,220;961:15,98,220;962:16,99,219;963:16,100,219;964:16,102,219;965:16,103,219;966:16,104,218;967:16,105,218;968:17,106,218;969:17,107,218;970:17,109,217;971:17,110,217;972:17,111,217;973:17,112,217;974:17,113,216;975:18,114,216;976:18,115,216;977:18,117,216;978:18,118,215;979:18,119,215;980:18,120,215;981:18,121,215;982:19,122,215;983:19,123,214;984:19,125,214;985:19,126,214;986:19,127,214;987:19,128,213;988:19,129,213;989:19,130,213;990:18,131,212;991:18,132,212;992:17,134,211;993:17,135,211;994:16,136,211;995:16,137,210;996:15,138,210;997:15,139,210;998:15,140,209;999:14,141,209;1000:14,142,208;1001:13,143,208;1002:13,145,208;1003:12,146,207;1004:12,147,207;1005:12,148,207;1006:11,149,206;1007:11,150,206;1008:10,151,205;1009:10,152,205;1010:9,153,205;1011:9,154,204;1012:8,155,204;1013:8,157,204;1014:8,158,203;1015:7,159,203;1016:7,160,202;1017:6,161,202;1018:6,162,202;1019:5,163,201;1020:7,164,200;1021:8,164,199;1022:9,165,198;1023:10,166,197;1024:12,166,195;1025:13,167,194;1026:14,167,193;1027:15,168,192;1028:17,169,191;1029:18,169,189;1030:19,170,188;1031:20,170,187;1032:22,171,186;1033:23,172,185;1034:24,172,184;1035:25,173,182;1036:27,173,181;1037:28,174,180;1038:29,175,179;1039:30,175,178;1040:32,176,176;1041:33,176,175;1042:34,177,174;1043:35,178,173;1044:37,178,172;1045:38,179,170;1046:39,180,169;1047:40,180,168;1048:42,181,167;1049:43,181,166;1050:44,182,165;1051:45,183,163;1052:48,183,162;1053:51,183,161;1054:54,183,159;1055:57,184,158;1056:59,184,156;1057:62,184,155;1058:65,184,154;1059:68,185,152;1060:71,185,151;1061:73,185,149;1062:76,185,148;1063:79,186,146;1064:82,186,145;1065:84,186,144;1066:87,186,142;1067:90,187,141;1068:93,187,139;1069:96,187,138;1070:98,187,137;1071:101,188,135;1072:104,188,134;1073:107,188,132;1074:110,188,131;1075:112,189,130;1076:115,189,128;1077:118,189,127;1078:121,189,125;1079:124,190,124;1080:126,190,123;1081:129,190,121;1082:132,190,120;1083:135,191,118;1084:137,190,117;1085:139,190,117;1086:142,190,116;1087:144,190,115;1088:146,190,114;1089:148,190,113;1090:151,190,112;1091:153,190,111;1092:155,189,110;1093:158,189,109;1094:160,189,108;1095:162,189,107;1096:165,189,106;1097:167,189,105;1098:169,189,104;1099:171,188,104;1100:174,188,103;1101:176,188,102;1102:178,188,101;1103:181,188,100;1104:183,188,99;1105:185,188,98;1106:188,188,97;1107:190,187,96;1108:192,187,95;1109:194,187,94;1110:197,187,93;1111:199,187,92;1112:201,187,92;1113:204,187,91;1114:206,186,90;1115:208,186,89;1116:210,187,88;1117:211,187,86;1118:212,188,85;1119:214,188,84;1120:215,188,83;1121:217,189,81;1122:218,189,80;1123:220,190,79;1124:221,190,78;1125:222,191,77;1126:224,191,75;1127:225,191,74;1128:227,192,73;1129:228,192,72;1130:229,193,70;1131:231,193,69;1132:232,194,68;1133:234,194,67;1134:235,194,66;1135:236,195,64;1136:238,195,63;1137:239,196,62;1138:241,196,61;1139:242,197,59;1140:244,197,58;1141:245,197,57;1142:246,198,56;1143:248,198,55;1144:249,199,53;1145:251,199,52;1146:252,200,51;1147:253,200,50;1148:253,202,49;1149:253,203,47;1150:253,205,46;1151:253,206,45;1152:253,208,44;1153:252,209,43;1154:252,211,42;1155:252,213,41;1156:252,214,39;1157:252,216,38;1158:252,217,37;1159:252,219,36;1160:251,220,35;1161:251,222,34;1162:251,224,33;1163:251,225,31;1164:251,227,30;1165:251,228,29;1166:250,230,28;1167:250,231,27;1168:250,233,26;1169:250,235,25;1170:250,236,23;1171:250,238,22;1172:250,239,21;1173:249,241,20;1174:249,242,19;1175:249,244,18;1176:249,246,17;1177:249,247,16;1178:249,249,14\",\"fBuf\":{\"$arr\":\"Float32\",\"len\":255,\"v\":[924,925,926,927,928,929,930,931,932,933,934,935,936,937,938,939,940,941,942,943,944,945,946,947,948,949,950,951,952,953,954,955,956,957,958,959,960,961,962,963,964,965,966,967,968,969,970,971,972,973,974,975,976,977,978,979,980,981,982,983,984,985,986,987,988,989,990,991,992,993,994,995,996,997,998,999,1000,1001,1002,1003,1004,1005,1006,1007,1008,1009,1010,1011,1012,1013,1014,1015,1016,1017,1018,1019,1020,1021,1022,1023,1024,1025,1026,1027,1028,1029,1030,1031,1032,1033,1034,1035,1036,1037,1038,1039,1040,1041,1042,1043,1044,1045,1046,1047,1048,1049,1050,1051,1052,1053,1054,1055,1056,1057,1058,1059,1060,1061,1062,1063,1064,1065,1066,1067,1068,1069,1070,1071,1072,1073,1074,1075,1076,1077,1078,1079,1080,1081,1082,1083,1084,1085,1086,1087,1088,1089,1090,1091,1092,1093,1094,1095,1096,1097,1098,1099,1100,1101,1102,1103,1104,1105,1106,1107,1108,1109,1110,1111,1112,1113,1114,1115,1116,1117,1118,1119,1120,1121,1122,1123,1124,1125,1126,1127,1128,1129,1130,1131,1132,1133,1134,1135,1136,1137,1138,1139,1140,1141,1142,1143,1144,1145,1146,1147,1148,1149,1150,1151,1152,1153,1154,1155,1156,1157,1158,1159,1160,1161,1162,1163,1164,1165,1166,1167,1168,1169,1170,1171,1172,1173,1174,1175,1176,1177,1178]}}},{\"_typename\":\"TWebSnapshot\",\"fUniqueID\":0,\"fBits\":0,\"fObjectID\":\"\",\"fOption\":\"\",\"fKind\":5,\"fSnapshot\":{\"_typename\":\"TStyle\",\"fUniqueID\":0,\"fBits\":0,\"fName\":\"Modern\",\"fTitle\":\"Modern Style\",\"fLineColor\":1,\"fLineStyle\":1,\"fLineWidth\":1,\"fFillColor\":19,\"fFillStyle\":1001,\"fMarkerColor\":1,\"fMarkerStyle\":1,\"fMarkerSize\":1,\"fTextAngle\":0,\"fTextSize\":0.05,\"fTextAlign\":11,\"fTextColor\":1,\"fTextFont\":42,\"fXaxis\":{\"_typename\":\"TAttAxis\",\"fNdivisions\":510,\"fAxisColor\":1,\"fLabelColor\":1,\"fLabelFont\":42,\"fLabelOffset\":0.005,\"fLabelSize\":0.035,\"fTickLength\":0.03,\"fTitleOffset\":1,\"fTitleSize\":0.035,\"fTitleColor\":1,\"fTitleFont\":42},\"fYaxis\":{\"_typename\":\"TAttAxis\",\"fNdivisions\":510,\"fAxisColor\":1,\"fLabelColor\":1,\"fLabelFont\":42,\"fLabelOffset\":0.005,\"fLabelSize\":0.035,\"fTickLength\":0.03,\"fTitleOffset\":0,\"fTitleSize\":0.035,\"fTitleColor\":1,\"fTitleFont\":42},\"fZaxis\":{\"_typename\":\"TAttAxis\",\"fNdivisions\":510,\"fAxisColor\":1,\"fLabelColor\":1,\"fLabelFont\":42,\"fLabelOffset\":0.005,\"fLabelSize\":0.035,\"fTickLength\":0.03,\"fTitleOffset\":1,\"fTitleSize\":0.035,\"fTitleColor\":1,\"fTitleFont\":42},\"fBarWidth\":1,\"fBarOffset\":0,\"fColorModelPS\":0,\"fDrawBorder\":0,\"fOptLogx\":0,\"fOptLogy\":0,\"fOptLogz\":0,\"fOptDate\":0,\"fOptStat\":0,\"fOptTitle\":1,\"fOptFile\":0,\"fOptFit\":0,\"fShowEventStatus\":0,\"fShowEditor\":0,\"fShowToolBar\":0,\"fNumberContours\":20,\"fAttDate\":{\"_typename\":\"TAttText\",\"fTextAngle\":0,\"fTextSize\":0.025,\"fTextAlign\":11,\"fTextColor\":1,\"fTextFont\":62},\"fDateX\":0.01,\"fDateY\":0.01,\"fEndErrorSize\":2,\"fErrorX\":0.5,\"fFuncColor\":2,\"fFuncStyle\":1,\"fFuncWidth\":2,\"fGridColor\":0,\"fGridStyle\":3,\"fGridWidth\":1,\"fLegendBorderSize\":1,\"fLegendFillColor\":0,\"fLegendFillStyle\":1001,\"fLegendFont\":42,\"fLegendTextSize\":0,\"fHatchesLineWidth\":1,\"fHatchesSpacing\":1,\"fFrameFillColor\":0,\"fFrameLineColor\":1,\"fFrameFillStyle\":1001,\"fFrameLineStyle\":1,\"fFrameLineWidth\":1,\"fFrameBorderSize\":1,\"fFrameBorderMode\":0,\"fHistFillColor\":0,\"fHistLineColor\":602,\"fHistFillStyle\":1001,\"fHistLineStyle\":1,\"fHistLineWidth\":1,\"fHistMinimumZero\":false,\"fHistTopMargin\":0.05,\"fCanvasPreferGL\":false,\"fCanvasColor\":0,\"fCanvasBorderSize\":2,\"fCanvasBorderMode\":0,\"fCanvasDefH\":500,\"fCanvasDefW\":700,\"fCanvasDefX\":10,\"fCanvasDefY\":10,\"fPadColor\":0,\"fPadBorderSize\":2,\"fPadBorderMode\":0,\"fPadBottomMargin\":0.1,\"fPadTopMargin\":0.1,\"fPadLeftMargin\":0.1,\"fPadRightMargin\":0.1,\"fPadGridX\":false,\"fPadGridY\":false,\"fPadTickX\":0,\"fPadTickY\":0,\"fPaperSizeX\":20,\"fPaperSizeY\":26,\"fScreenFactor\":1,\"fStatColor\":0,\"fStatTextColor\":1,\"fStatBorderSize\":1,\"fStatFont\":42,\"fStatFontSize\":0,\"fStatStyle\":1001,\"fStatFormat\":\"6.4g\",\"fStatX\":0.98,\"fStatY\":0.935,\"fStatW\":0.2,\"fStatH\":0.16,\"fStripDecimals\":true,\"fTitleAlign\":23,\"fTitleColor\":0,\"fTitleTextColor\":1,\"fTitleBorderSize\":0,\"fTitleFont\":42,\"fTitleFontSize\":0.05,\"fTitleStyle\":0,\"fTitleX\":0.5,\"fTitleY\":0.995,\"fTitleW\":0,\"fTitleH\":0,\"fLegoInnerR\":0.5,\"fLineStyles\":[\"\",\"  \",\" 12 12\",\" 4 8\",\" 12 16 4 16\",\" 20 12 4 12\",\" 20 12 4 12 4 12 4 12\",\" 20 20\",\" 20 12 4 12 4 12\",\" 80 20\",\" 80 40 4 40\",\"  \",\"  \",\"  \",\"  \",\"  \",\"  \",\"  \",\"  \",\"  \",\"  \",\"  \",\"  \",\"  \",\"  \",\"  \",\"  \",\"  \",\"  \",\"  \"],\"fHeaderPS\":\"\",\"fTitlePS\":\"\",\"fFitFormat\":\"5.4g\",\"fPaintTextFormat\":\"g\",\"fLineScalePS\":3,\"fJoinLinePS\":0,\"fCapLinePS\":0,\"fTimeOffset\":788918400,\"fImageScaling\":1,\"fCandleWhiskerRange\":1,\"fCandleBoxRange\":0.5,\"fCandleScaled\":false,\"fViolinScaled\":true,\"fXAxisExpXOffset\":0,\"fXAxisExpYOffset\":0,\"fYAxisExpXOffset\":0,\"fYAxisExpYOffset\":0,\"fAxisMaxDigits\":5,\"fOrthoCamera\":false}},{\"_typename\":\"TWebSnapshot\",\"fUniqueID\":0,\"fBits\":0,\"fObjectID\":\"\",\"fOption\":\"\",\"fKind\":1,\"fSnapshot\":{\"_typename\":\"TFrame\",\"fUniqueID\":0,\"fBits\":8,\"fLineColor\":1,\"fLineStyle\":1,\"fLineWidth\":1,\"fFillColor\":0,\"fFillStyle\":1001,\"fX1\":2.89779166666667,\"fY1\":0,\"fX2\":3.30745,\"fY2\":597.834975035651,\"fBorderSize\":1,\"fBorderMode\":0}},{\"_typename\":\"TWebSnapshot\",\"fUniqueID\":0,\"fBits\":0,\"fObjectID\":\"\",\"fOption\":\"FUNC\",\"fKind\":1,\"fSnapshot\":{\"_typename\":\"TH1D\",\"fUniqueID\":0,\"fBits\":520,\"fName\":\"frame_mass_dc14500\",\"fTitle\":\"J\\/\\\\Psi Mass Fit\",\"fLineColor\":602,\"fLineStyle\":1,\"fLineWidth\":1,\"fFillColor\":0,\"fFillStyle\":1001,\"fMarkerColor\":1,\"fMarkerStyle\":1,\"fMarkerSize\":1,\"fNcells\":102,\"fXaxis\":{\"_typename\":\"TAxis\",\"fUniqueID\":0,\"fBits\":0,\"fName\":\"xaxis\",\"fTitle\":\"m_{\\\\mu^+\\\\mu^-} [GeV\\/c^2]\",\"fNdivisions\":510,\"fAxisColor\":1,\"fLabelColor\":1,\"fLabelFont\":42,\"fLabelOffset\":0.005,\"fLabelSize\":0.035,\"fTickLength\":0.03,\"fTitleOffset\":1,\"fTitleSize\":0.035,\"fTitleColor\":1,\"fTitleFont\":42,\"fNbins\":100,\"fXmin\":2.89779166666667,\"fXmax\":3.30745,\"fXbins\":[],\"fFirst\":0,\"fLast\":0,\"fBits2\":0,\"fTimeDisplay\":false,\"fTimeFormat\":\"\",\"fLabels\":null,\"fModLabs\":null},\"fYaxis\":{\"_typename\":\"TAxis\",\"fUniqueID\":0,\"fBits\":0,\"fName\":\"yaxis\",\"fTitle\":\"Events \\/ ( 0.00999167 GeV\\/c^{2} )\",\"fNdivisions\":510,\"fAxisColor\":1,\"fLabelColor\":1,\"fLabelFont\":42,\"fLabelOffset\":0.005,\"fLabelSize\":0.035,\"fTickLength\":0.03,\"fTitleOffset\":0,\"fTitleSize\":0.035,\"fTitleColor\":1,\"fTitleFont\":42,\"fNbins\":1,\"fXmin\":0,\"fXmax\":1,\"fXbins\":[],\"fFirst\":0,\"fLast\":0,\"fBits2\":0,\"fTimeDisplay\":false,\"fTimeFormat\":\"\",\"fLabels\":null,\"fModLabs\":null},\"fZaxis\":{\"_typename\":\"TAxis\",\"fUniqueID\":0,\"fBits\":0,\"fName\":\"zaxis\",\"fTitle\":\"\",\"fNdivisions\":510,\"fAxisColor\":1,\"fLabelColor\":1,\"fLabelFont\":42,\"fLabelOffset\":0.005,\"fLabelSize\":0.035,\"fTickLength\":0.03,\"fTitleOffset\":1,\"fTitleSize\":0.035,\"fTitleColor\":1,\"fTitleFont\":42,\"fNbins\":1,\"fXmin\":0,\"fXmax\":1,\"fXbins\":[],\"fFirst\":0,\"fLast\":0,\"fBits2\":0,\"fTimeDisplay\":false,\"fTimeFormat\":\"\",\"fLabels\":null,\"fModLabs\":null},\"fBarOffset\":0,\"fBarWidth\":1000,\"fEntries\":1,\"fTsumw\":0,\"fTsumw2\":0,\"fTsumwx\":0,\"fTsumwx2\":0,\"fMaximum\":597.834975035651,\"fMinimum\":-1111,\"fNormFactor\":0,\"fContour\":[],\"fSumw2\":[],\"fOption\":\"\",\"fFunctions\":{\"_typename\":\"TList\",\"name\":\"TList\",\"arr\":[],\"opt\":[]},\"fBufferSize\":0,\"fBuffer\":[],\"fBinStatErrOpt\":0,\"fStatOverflows\":2,\"fArray\":{\"$arr\":\"Float64\",\"len\":102,\"p\":1,\"v\":597.834975035651}}},{\"_typename\":\"TWebSnapshot\",\"fUniqueID\":0,\"fBits\":0,\"fObjectID\":\"\",\"fOption\":\"p\",\"fKind\":1,\"fSnapshot\":{\"_typename\":\"RooHist\",\"fUniqueID\":0,\"fBits\":1032,\"fName\":\"Data\",\"fTitle\":\"Histogram of data_plot__mass\",\"fLineColor\":1,\"fLineStyle\":1,\"fLineWidth\":1,\"fFillColor\":0,\"fFillStyle\":1000,\"fMarkerColor\":1,\"fMarkerStyle\":8,\"fMarkerSize\":1,\"fNpoints\":41,\"fX\":{\"$arr\":\"Float64\",\"len\":41,\"v\":[2.9027875,2.91277916666667,2.92277083333333,2.9327625,2.94275416666667,2.95274583333333,2.9627375,2.97272916666667,2.98272083333333,2.9927125,3.00270416666667,3.01269583333333,3.0226875,3.03267916666667,3.04267083333333,3.0526625,3.06265416666667,3.07264583333333,3.0826375,3.09262916666667,3.10262083333333,3.1126125,3.12260416666667,3.13259583333333,3.1425875,3.15257916666667,3.16257083333333,3.1725625,3.18255416666667,3.19254583333333,3.2025375,3.21252916666667,3.22252083333333,3.2325125,3.24250416666667,3.25249583333333,3.2624875,3.27247916666667,3.28247083333333,3.2924625,3.30245416666667]},\"fY\":{\"$arr\":\"Float64\",\"len\":41,\"v\":[36,38,40,43,36,51,36,46,44,73,88,99,103,135,185,238,326,429,505,536,546,394,334,266,198,145,101,89,64,47,29,35,27,30,33,39,22,27,31,31,25]},\"fFunctions\":{\"_typename\":\"TList\",\"name\":\"TList\",\"arr\":[],\"opt\":[]},\"fHistogram\":{\"_typename\":\"TH1F\",\"fUniqueID\":0,\"fBits\":512,\"fName\":\"Data\",\"fTitle\":\"Histogram of data_plot__mass\",\"fLineColor\":602,\"fLineStyle\":1,\"fLineWidth\":1,\"fFillColor\":0,\"fFillStyle\":1001,\"fMarkerColor\":1,\"fMarkerStyle\":1,\"fMarkerSize\":1,\"fNcells\":102,\"fXaxis\":{\"_typename\":\"TAxis\",\"fUniqueID\":0,\"fBits\":0,\"fName\":\"xaxis\",\"fTitle\":\"\",\"fNdivisions\":510,\"fAxisColor\":1,\"fLabelColor\":1,\"fLabelFont\":42,\"fLabelOffset\":0.005,\"fLabelSize\":0.035,\"fTickLength\":0.03,\"fTitleOffset\":1,\"fTitleSize\":0.035,\"fTitleColor\":1,\"fTitleFont\":42,\"fNbins\":100,\"fXmin\":2.85682583333333,\"fXmax\":3.34841583333333,\"fXbins\":[],\"fFirst\":0,\"fLast\":0,\"fBits2\":0,\"fTimeDisplay\":false,\"fTimeFormat\":\"\",\"fLabels\":null,\"fModLabs\":null},\"fYaxis\":{\"_typename\":\"TAxis\",\"fUniqueID\":0,\"fBits\":0,\"fName\":\"yaxis\",\"fTitle\":\"\",\"fNdivisions\":510,\"fAxisColor\":1,\"fLabelColor\":1,\"fLabelFont\":42,\"fLabelOffset\":0.005,\"fLabelSize\":0.035,\"fTickLength\":0.03,\"fTitleOffset\":0,\"fTitleSize\":0.035,\"fTitleColor\":1,\"fTitleFont\":42,\"fNbins\":1,\"fXmin\":15.5786258161589,\"fXmax\":624.572348756188,\"fXbins\":[],\"fFirst\":0,\"fLast\":0,\"fBits2\":0,\"fTimeDisplay\":false,\"fTimeFormat\":\"\",\"fLabels\":null,\"fModLabs\":null},\"fZaxis\":{\"_typename\":\"TAxis\",\"fUniqueID\":0,\"fBits\":0,\"fName\":\"zaxis\",\"fTitle\":\"\",\"fNdivisions\":510,\"fAxisColor\":1,\"fLabelColor\":1,\"fLabelFont\":42,\"fLabelOffset\":0.005,\"fLabelSize\":0.035,\"fTickLength\":0.03,\"fTitleOffset\":1,\"fTitleSize\":0.035,\"fTitleColor\":1,\"fTitleFont\":42,\"fNbins\":1,\"fXmin\":0,\"fXmax\":1,\"fXbins\":[],\"fFirst\":0,\"fLast\":0,\"fBits2\":0,\"fTimeDisplay\":false,\"fTimeFormat\":\"\",\"fLabels\":null,\"fModLabs\":null},\"fBarOffset\":0,\"fBarWidth\":1000,\"fEntries\":0,\"fTsumw\":0,\"fTsumw2\":0,\"fTsumwx\":0,\"fTsumwx2\":0,\"fMaximum\":624.572348756188,\"fMinimum\":15.5786258161589,\"fNormFactor\":0,\"fContour\":[],\"fSumw2\":[],\"fOption\":\"\",\"fFunctions\":{\"_typename\":\"TList\",\"name\":\"TList\",\"arr\":[],\"opt\":[]},\"fBufferSize\":0,\"fBuffer\":[],\"fBinStatErrOpt\":0,\"fStatOverflows\":2,\"fArray\":{\"$arr\":\"Float32\",\"len\":102}},\"fMinimum\":-1111,\"fMaximum\":-1111,\"fOption\":\"\",\"fEXlow\":{\"$arr\":\"Float64\",\"len\":41,\"v\":0.00499583333333333,\"n\":41},\"fEXhigh\":{\"$arr\":\"Float64\",\"len\":41,\"v\":0.00499583333333333,\"n\":41},\"fEYlow\":{\"$arr\":\"Float64\",\"len\":41,\"v\":[6,6.16441400296898,6.32455532033676,6.557438524302,6,7.14142842854285,6,6.78232998312527,6.6332495807108,8.54400374531753,9.38083151964686,9.9498743710662,10.1488915650922,11.6189500386223,13.6014705087354,15.4272486205415,18.0554700852678,20.712315177208,22.4722050542442,23.1516738055805,23.3666428910958,19.8494332412792,18.2756668824971,16.3095064303001,14.0712472794703,12.0415945787923,10.0498756211209,9.4339811320566,8,6.85565460040104,5.3851648071345,5.91607978309962,5.19615242270663,5.47722557505166,5.74456264653803,6.2449979983984,4.69041575982343,5.19615242270663,5.56776436283002,5.56776436283002,5]},\"fEYhigh\":{\"$arr\":\"Float64\",\"len\":41,\"v\":[6,6.16441400296898,6.32455532033676,6.557438524302,6,7.14142842854285,6,6.78232998312527,6.6332495807108,8.54400374531753,9.38083151964686,9.9498743710662,10.1488915650922,11.6189500386223,13.6014705087354,15.4272486205415,18.0554700852678,20.712315177208,22.4722050542442,23.1516738055805,23.3666428910958,19.8494332412792,18.2756668824971,16.3095064303001,14.0712472794703,12.0415945787923,10.0498756211209,9.4339811320566,8,6.85565460040104,5.3851648071345,5.91607978309962,5.19615242270663,5.47722557505166,5.74456264653803,6.2449979983984,4.69041575982343,5.19615242270663,5.56776436283002,5.56776436283002,5]},\"_yAxisLabel\":\"Events \\/ ( 0.00999167 GeV\\/c^{2} )\",\"_ymin\":0,\"_ymax\":569.366642891096,\"_normValue\":0,\"_nominalBinWidth\":0.00999166666666666,\"_nSigma\":1,\"_entries\":5600,\"_rawEntries\":-1,\"_originalWeights\":{\"$arr\":\"Float64\",\"len\":41,\"v\":[36,38,40,43,36,51,36,46,44,73,88,99,103,135,185,238,326,429,505,536,546,394,334,266,198,145,101,89,64,47,29,35,27,30,33,39,22,27,31,31,25]}}},{\"_typename\":\"TWebSnapshot\",\"fUniqueID\":0,\"fBits\":0,\"fObjectID\":\"\",\"fOption\":\"l\",\"fKind\":1,\"fSnapshot\":{\"_typename\":\"RooCurve\",\"fUniqueID\":0,\"fBits\":525320,\"fName\":\"Signal\",\"fTitle\":\"Projection of \",\"fLineColor\":4,\"fLineStyle\":1,\"fLineWidth\":3,\"fFillColor\":0,\"fFillStyle\":1000,\"fMarkerColor\":1,\"fMarkerStyle\":1,\"fMarkerSize\":1,\"fNpoints\":114,\"fX\":{\"$arr\":\"Float64\",\"len\":114,\"v\":[2.89369098675,2.89369508333333,2.89779166666667,2.90188825,2.90598483333333,2.91008141666667,2.914178,2.91827458333333,2.92237116666667,2.92646775,2.93056433333333,2.93466091666667,2.9387575,2.94285408333333,2.94695066666667,2.95104725,2.95514383333333,2.95924041666667,2.963337,2.96743358333333,2.97153016666667,2.97562675,2.97972333333333,2.98381991666667,2.9879165,2.99201308333333,2.99610966666667,3.00020625,3.00430283333333,3.00839941666667,3.012496,3.01659258333333,3.02068916666667,3.02478575,3.02888233333333,3.03297891666667,3.0370755,3.04117208333333,3.04526866666667,3.04936525,3.05346183333333,3.05755841666667,3.061655,3.06575158333333,3.06984816666667,3.07394475,3.07804133333333,3.080089625,3.08213791666667,3.08418620833333,3.0862345,3.08828279166667,3.09033108333333,3.092379375,3.09442766666667,3.09647595833333,3.09852425,3.10057254166667,3.10262083333333,3.104669125,3.10671741666667,3.10876570833333,3.110814,3.11491058333333,3.11900716666667,3.12310375,3.12720033333333,3.13129691666667,3.1353935,3.13949008333333,3.14358666666667,3.14768325,3.15177983333333,3.15587641666667,3.159973,3.16406958333333,3.16816616666667,3.17226275,3.17635933333333,3.18045591666667,3.1845525,3.18864908333333,3.19274566666667,3.19684225,3.20093883333333,3.20503541666667,3.209132,3.21322858333333,3.21732516666667,3.22142175,3.22551833333333,3.22961491666667,3.2337115,3.23780808333333,3.24190466666667,3.24600125,3.25009783333333,3.25419441666667,3.258291,3.26238758333333,3.26648416666667,3.27058075,3.27467733333333,3.27877391666667,3.2828705,3.28696708333333,3.29106366666667,3.29516025,3.29925683333333,3.30335341666667,3.30745,3.30745,3.31154658333333,3.31155067991667]},\"fY\":{\"$arr\":\"Float64\",\"len\":114,\"p\":1,\"v\":[2.21285439700747,2.21285439700747,2.46591507916702,2.74953577322194,3.06760484782709,3.42453088597755,3.82531573004694,4.27563827296513,4.7819506493488,5.35158874626802,5.99289926378358,6.71538591822459,7.5298778055912,8.44872343936085,9.48601455924403,10.6578444903597,11.9826066340213,13.4813396133878,15.178126705312,17.1005584946173,19.2802692265978,21.7535591574076,24.5621173864376,27.7538623490288,31.3839207145997,35.5157708411508,40.2225867383135,45.5888390406224,51.7122551980164,58.7063410382519,66.7038705319156,75.8621299847476,86.3713168248402,98.4683064344442,112.458726732545,128.750196182356,147.864119981934,169.314619682249,192.92430052275,219.093535353127,248.290528671103,280.901537359701,316.985085609039,355.97185836174,396.404175826772,435.841115149777,454.192479210507,471.038502450135,485.928312811413,498.435020026896,508.180171980219,514.856652899934,518.248009770687,518.242439970261,514.840128133978,508.153233977244,498.398532240661,485.883405212278,470.98650160159,454.134829919037,435.779300409379,416.370747390306,376.071316832943,336.119946685437,298.467700641374,264.101348709884,233.237467698056,205.617408640384,180.788729901199,158.304797334723,137.825703673629,119.139511332309,102.136845753668,86.7690309067102,73.0093133447001,60.8257462516659,50.1667223273611,40.9564652009629,33.0969011874314,26.4728509884489,20.9584091530262,16.4232199916357,12.7379626456698,9.77874265760348,7.43031709117014,5.58821270158664,4.15986988451834,3.06498109356676,2.23520359258269,1.61342063483853,1.15270814152701,0.815140267055687,0.570540616910254,0.395259230344813,0.271030837544429,0.183948659332532,0.123570777697158,0.0821629769207474,0.054072666388664,0.0352225373591043,0.0227093510803662,0.0144920573385808,0.00915369834007338,0.00572274483264606,0.00354122401603525,0.00216892059740451,0.0013148467540701,7.8894705123659e-4,4.68556329857203e-4,2.75433648324072e-4,2.75433648324072e-4,2.75433648324072e-4]},\"fFunctions\":{\"_typename\":\"TList\",\"name\":\"TList\",\"arr\":[],\"opt\":[]},\"fHistogram\":{\"_typename\":\"TH1F\",\"fUniqueID\":0,\"fBits\":512,\"fName\":\"Signal\",\"fTitle\":\"Projection of \",\"fLineColor\":602,\"fLineStyle\":1,\"fLineWidth\":1,\"fFillColor\":0,\"fFillStyle\":1001,\"fMarkerColor\":1,\"fMarkerStyle\":1,\"fMarkerSize\":1,\"fNcells\":116,\"fXaxis\":{\"_typename\":\"TAxis\",\"fUniqueID\":0,\"fBits\":0,\"fName\":\"xaxis\",\"fTitle\":\"\",\"fNdivisions\":510,\"fAxisColor\":1,\"fLabelColor\":1,\"fLabelFont\":42,\"fLabelOffset\":0.005,\"fLabelSize\":0.035,\"fTickLength\":0.03,\"fTitleOffset\":1,\"fTitleSize\":0.035,\"fTitleColor\":1,\"fTitleFont\":42,\"fNbins\":114,\"fXmin\":2.85190501743333,\"fXmax\":3.35333664923333,\"fXbins\":[],\"fFirst\":0,\"fLast\":0,\"fBits2\":0,\"fTimeDisplay\":false,\"fTimeFormat\":\"\",\"fLabels\":null,\"fModLabs\":null},\"fYaxis\":{\"_typename\":\"TAxis\",\"fUniqueID\":0,\"fBits\":0,\"fName\":\"yaxis\",\"fTitle\":\"\",\"fNdivisions\":510,\"fAxisColor\":1,\"fLabelColor\":1,\"fLabelFont\":42,\"fLabelOffset\":0.005,\"fLabelSize\":0.035,\"fTickLength\":0.03,\"fTitleOffset\":0,\"fTitleSize\":0.035,\"fTitleColor\":1,\"fTitleFont\":42,\"fNbins\":1,\"fXmin\":0,\"fXmax\":570.072810747756,\"fXbins\":[],\"fFirst\":0,\"fLast\":0,\"fBits2\":0,\"fTimeDisplay\":false,\"fTimeFormat\":\"\",\"fLabels\":null,\"fModLabs\":null},\"fZaxis\":{\"_typename\":\"TAxis\",\"fUniqueID\":0,\"fBits\":0,\"fName\":\"zaxis\",\"fTitle\":\"\",\"fNdivisions\":510,\"fAxisColor\":1,\"fLabelColor\":1,\"fLabelFont\":42,\"fLabelOffset\":0.005,\"fLabelSize\":0.035,\"fTickLength\":0.03,\"fTitleOffset\":1,\"fTitleSize\":0.035,\"fTitleColor\":1,\"fTitleFont\":42,\"fNbins\":1,\"fXmin\":0,\"fXmax\":1,\"fXbins\":[],\"fFirst\":0,\"fLast\":0,\"fBits2\":0,\"fTimeDisplay\":false,\"fTimeFormat\":\"\",\"fLabels\":null,\"fModLabs\":null},\"fBarOffset\":0,\"fBarWidth\":1000,\"fEntries\":0,\"fTsumw\":0,\"fTsumw2\":0,\"fTsumwx\":0,\"fTsumwx2\":0,\"fMaximum\":570.072810747756,\"fMinimum\":0,\"fNormFactor\":0,\"fContour\":[],\"fSumw2\":[],\"fOption\":\"\",\"fFunctions\":{\"_typename\":\"TList\",\"name\":\"TList\",\"arr\":[],\"opt\":[]},\"fBufferSize\":0,\"fBuffer\":[],\"fBinStatErrOpt\":0,\"fStatOverflows\":2,\"fArray\":{\"$arr\":\"Float32\",\"len\":116}},\"fMinimum\":-1111,\"fMaximum\":-1111,\"fOption\":\"\",\"_yAxisLabel\":\"Projection of  ( \\/ GeV\\/c^{2} )\",\"_ymin\":0,\"_ymax\":518.248009770687,\"_normValue\":0}},{\"_typename\":\"TWebSnapshot\",\"fUniqueID\":0,\"fBits\":0,\"fObjectID\":\"\",\"fOption\":\"l\",\"fKind\":1,\"fSnapshot\":{\"_typename\":\"RooCurve\",\"fUniqueID\":0,\"fBits\":525320,\"fName\":\"Background\",\"fTitle\":\"Projection of \",\"fLineColor\":3,\"fLineStyle\":2,\"fLineWidth\":3,\"fFillColor\":0,\"fFillStyle\":1000,\"fMarkerColor\":1,\"fMarkerStyle\":1,\"fMarkerSize\":1,\"fNpoints\":106,\"fX\":{\"$arr\":\"Float64\",\"len\":106,\"v\":[2.89369098675,2.89369508333333,2.89779166666667,2.90188825,2.90598483333333,2.91008141666667,2.914178,2.91827458333333,2.92237116666667,2.92646775,2.93056433333333,2.93466091666667,2.9387575,2.94285408333333,2.94695066666667,2.95104725,2.95514383333333,2.95924041666667,2.963337,2.96743358333333,2.97153016666667,2.97562675,2.97972333333333,2.98381991666667,2.9879165,2.99201308333333,2.99610966666667,3.00020625,3.00430283333333,3.00839941666667,3.012496,3.01659258333333,3.02068916666667,3.02478575,3.02888233333333,3.03297891666667,3.0370755,3.04117208333333,3.04526866666667,3.04936525,3.05346183333333,3.05755841666667,3.061655,3.06575158333333,3.06984816666667,3.07394475,3.07804133333333,3.08213791666667,3.0862345,3.09033108333333,3.09442766666667,3.09852425,3.10262083333333,3.10671741666667,3.110814,3.11491058333333,3.11900716666667,3.12310375,3.12720033333333,3.13129691666667,3.1353935,3.13949008333333,3.14358666666667,3.14768325,3.15177983333333,3.15587641666667,3.159973,3.16406958333333,3.16816616666667,3.17226275,3.17635933333333,3.18045591666667,3.1845525,3.18864908333333,3.19274566666667,3.19684225,3.20093883333333,3.20503541666667,3.209132,3.21322858333333,3.21732516666667,3.22142175,3.22551833333333,3.22961491666667,3.2337115,3.23780808333333,3.24190466666667,3.24600125,3.25009783333333,3.25419441666667,3.258291,3.26238758333333,3.26648416666667,3.27058075,3.27467733333333,3.27877391666667,3.2828705,3.28696708333333,3.29106366666667,3.29516025,3.29925683333333,3.30335341666667,3.30745,3.30745,3.31154658333333,3.31155067991667]},\"fY\":{\"$arr\":\"Float64\",\"len\":106,\"p\":1,\"v\":[33.7586031139729,33.7586031139729,33.6989693618108,33.639440951223,33.5800176961261,33.5206994107656,33.4614859097148,33.4023770078749,33.343372520474,33.2844722630664,33.2256760515324,33.1669837020775,33.1083950312319,33.0499098558498,32.9915279931089,32.9332492605101,32.8750734758764,32.8170004573527,32.7590300234053,32.7011619928209,32.6433961847065,32.5857324184886,32.5281705139126,32.4707102910425,32.41335157026,32.3560941722641,32.2989379180705,32.2418826290112,32.1849281267338,32.1280742332008,32.0713207706894,32.0146675617905,31.9581144294087,31.9016611967611,31.8453076873773,31.7890537250987,31.7328991340775,31.676843738777,31.6208873639704,31.5650298347402,31.5092709764783,31.4536106148847,31.3980485759674,31.3425846860419,31.2872187717303,31.2319506599612,31.1767801779686,31.121707153292,31.0667314137753,31.0118527875667,30.957071103118,30.9023861891838,30.8477978748213,30.7933059893898,30.73891036255,30.6846108242633,30.6304072047917,30.5762993346968,30.5222870448398,30.4683701663805,30.414548530777,30.3608219697851,30.3071903154577,30.2536534001446,30.2002110564916,30.1468631174402,30.0936094162269,30.0404497863829,29.9873840617334,29.9344120763971,29.8815336647859,29.8287486616039,29.7760569018476,29.7234582208046,29.6709524540537,29.618539437464,29.5662190071946,29.5139909996941,29.4618552516998,29.4098116002375,29.3578598826211,29.3059999364516,29.2542315996169,29.2025547102914,29.1509691069353,29.0994746282942,29.0480711133984,28.9967584015627,28.9455363323857,28.8944047457494,28.8433634818185,28.7924123810402,28.7415512841434,28.6907800321385,28.6400984663167,28.5895064282495,28.5390037597883,28.4885903030639,28.4382659004858,28.3880303947422,28.3378836287989,28.2878254459492,28.2878254459492,28.2878254459492]},\"fFunctions\":{\"_typename\":\"TList\",\"name\":\"TList\",\"arr\":[],\"opt\":[]},\"fHistogram\":{\"_typename\":\"TH1F\",\"fUniqueID\":0,\"fBits\":512,\"fName\":\"Background\",\"fTitle\":\"Projection of \",\"fLineColor\":602,\"fLineStyle\":1,\"fLineWidth\":1,\"fFillColor\":0,\"fFillStyle\":1001,\"fMarkerColor\":1,\"fMarkerStyle\":1,\"fMarkerSize\":1,\"fNcells\":108,\"fXaxis\":{\"_typename\":\"TAxis\",\"fUniqueID\":0,\"fBits\":0,\"fName\":\"xaxis\",\"fTitle\":\"\",\"fNdivisions\":510,\"fAxisColor\":1,\"fLabelColor\":1,\"fLabelFont\":42,\"fLabelOffset\":0.005,\"fLabelSize\":0.035,\"fTickLength\":0.03,\"fTitleOffset\":1,\"fTitleSize\":0.035,\"fTitleColor\":1,\"fTitleFont\":42,\"fNbins\":106,\"fXmin\":2.85190501743333,\"fXmax\":3.35333664923333,\"fXbins\":[],\"fFirst\":0,\"fLast\":0,\"fBits2\":0,\"fTimeDisplay\":false,\"fTimeFormat\":\"\",\"fLabels\":null,\"fModLabs\":null},\"fYaxis\":{\"_typename\":\"TAxis\",\"fUniqueID\":0,\"fBits\":0,\"fName\":\"yaxis\",\"fTitle\":\"\",\"fNdivisions\":510,\"fAxisColor\":1,\"fLabelColor\":1,\"fLabelFont\":42,\"fLabelOffset\":0.005,\"fLabelSize\":0.035,\"fTickLength\":0.03,\"fTitleOffset\":0,\"fTitleSize\":0.035,\"fTitleColor\":1,\"fTitleFont\":42,\"fNbins\":1,\"fXmin\":0,\"fXmax\":37.1344634253702,\"fXbins\":[],\"fFirst\":0,\"fLast\":0,\"fBits2\":0,\"fTimeDisplay\":false,\"fTimeFormat\":\"\",\"fLabels\":null,\"fModLabs\":null},\"fZaxis\":{\"_typename\":\"TAxis\",\"fUniqueID\":0,\"fBits\":0,\"fName\":\"zaxis\",\"fTitle\":\"\",\"fNdivisions\":510,\"fAxisColor\":1,\"fLabelColor\":1,\"fLabelFont\":42,\"fLabelOffset\":0.005,\"fLabelSize\":0.035,\"fTickLength\":0.03,\"fTitleOffset\":1,\"fTitleSize\":0.035,\"fTitleColor\":1,\"fTitleFont\":42,\"fNbins\":1,\"fXmin\":0,\"fXmax\":1,\"fXbins\":[],\"fFirst\":0,\"fLast\":0,\"fBits2\":0,\"fTimeDisplay\":false,\"fTimeFormat\":\"\",\"fLabels\":null,\"fModLabs\":null},\"fBarOffset\":0,\"fBarWidth\":1000,\"fEntries\":0,\"fTsumw\":0,\"fTsumw2\":0,\"fTsumwx\":0,\"fTsumwx2\":0,\"fMaximum\":37.1344634253702,\"fMinimum\":0,\"fNormFactor\":0,\"fContour\":[],\"fSumw2\":[],\"fOption\":\"\",\"fFunctions\":{\"_typename\":\"TList\",\"name\":\"TList\",\"arr\":[],\"opt\":[]},\"fBufferSize\":0,\"fBuffer\":[],\"fBinStatErrOpt\":0,\"fStatOverflows\":2,\"fArray\":{\"$arr\":\"Float32\",\"len\":108}},\"fMinimum\":-1111,\"fMaximum\":-1111,\"fOption\":\"\",\"_yAxisLabel\":\"Projection of  ( \\/ GeV\\/c^{2} )\",\"_ymin\":0,\"_ymax\":33.7586031139729,\"_normValue\":0}},{\"_typename\":\"TWebSnapshot\",\"fUniqueID\":0,\"fBits\":0,\"fObjectID\":\"\",\"fOption\":\"l\",\"fKind\":1,\"fSnapshot\":{\"_typename\":\"RooCurve\",\"fUniqueID\":0,\"fBits\":525320,\"fName\":\"Model\",\"fTitle\":\"Projection of \",\"fLineColor\":2,\"fLineStyle\":1,\"fLineWidth\":3,\"fFillColor\":0,\"fFillStyle\":1000,\"fMarkerColor\":1,\"fMarkerStyle\":1,\"fMarkerSize\":1,\"fNpoints\":114,\"fX\":{\"$arr\":\"Float64\",\"len\":114,\"v\":[2.89369098675,2.89369508333333,2.89779166666667,2.90188825,2.90598483333333,2.91008141666667,2.914178,2.91827458333333,2.92237116666667,2.92646775,2.93056433333333,2.93466091666667,2.9387575,2.94285408333333,2.94695066666667,2.95104725,2.95514383333333,2.95924041666667,2.963337,2.96743358333333,2.97153016666667,2.97562675,2.97972333333333,2.98381991666667,2.9879165,2.99201308333333,2.99610966666667,3.00020625,3.00430283333333,3.00839941666667,3.012496,3.01659258333333,3.02068916666667,3.02478575,3.02888233333333,3.03297891666667,3.0370755,3.04117208333333,3.04526866666667,3.04936525,3.05346183333333,3.05755841666667,3.061655,3.06575158333333,3.06984816666667,3.07394475,3.07804133333333,3.080089625,3.08213791666667,3.08418620833333,3.0862345,3.08828279166667,3.09033108333333,3.092379375,3.09442766666667,3.09647595833333,3.09852425,3.10057254166667,3.10262083333333,3.104669125,3.10671741666667,3.10876570833333,3.110814,3.11491058333333,3.11900716666667,3.12310375,3.12720033333333,3.13129691666667,3.1353935,3.13949008333333,3.14358666666667,3.14768325,3.15177983333333,3.15587641666667,3.159973,3.16406958333333,3.16816616666667,3.17226275,3.17635933333333,3.18045591666667,3.1845525,3.18864908333333,3.19274566666667,3.19684225,3.20093883333333,3.20503541666667,3.209132,3.21322858333333,3.21732516666667,3.22142175,3.22551833333333,3.22961491666667,3.2337115,3.23780808333333,3.24190466666667,3.24600125,3.25009783333333,3.25419441666667,3.258291,3.26238758333333,3.26648416666667,3.27058075,3.27467733333333,3.27877391666667,3.2828705,3.28696708333333,3.29106366666667,3.29516025,3.29925683333333,3.30335341666667,3.30745,3.30745,3.31154658333333,3.31155067991667]},\"fY\":{\"$arr\":\"Float64\",\"len\":114,\"p\":1,\"v\":[35.9714575109804,35.9714575109804,36.1648844409779,36.388976724445,36.6476225439532,36.9452302967431,37.2868016397618,37.6780152808401,38.1253231698228,38.6360610093344,39.218575315316,39.8823696203021,40.6382728368231,41.4986332952106,42.4775425523529,43.5910937508697,44.8576801098976,46.2983400707405,47.9371567287172,49.8017204874382,51.9236654113043,54.3392915758962,57.0902879003502,60.2245726400713,63.7972722848597,67.8718650134149,72.521524656384,77.8307216696336,83.8971833247502,90.8344152714527,98.775191302605,107.876797546538,118.329431254249,130.369967631205,144.304034419922,160.539249907454,179.597019116011,200.991463421026,224.545187886721,250.658565187868,279.799799647581,312.355147974586,348.383134185006,387.314443047782,427.691394598502,467.073065809738,485.396832436536,502.215282628104,517.077544305646,529.556727180187,539.274379113855,545.923384313709,549.287289742923,549.254292757827,545.824577972311,539.110305080362,529.328248801188,516.785791401461,501.861581569318,484.982627793859,466.599840298521,447.164053379695,406.810227195493,366.804557509701,329.098107846166,294.677648044581,263.759754742896,236.085778806764,211.203278431976,188.665619304508,168.132893989087,149.393164732454,132.337056810159,116.91589402415,103.102922760927,90.8661960380488,80.1541063890944,70.89087727736,62.9784348522173,56.3015996500528,50.7344660548738,46.1466782124404,42.4089150997235,39.3972820950675,36.9965360983647,35.1022037012807,33.6217251362181,32.4747926938043,31.5930634752038,30.9194205712901,30.4069397411439,30.0176949773471,29.7215097238456,29.494733858639,29.3191019509428,29.1807070608953,29.0691071100829,28.9765677226701,28.8974361482072,28.8276349183993,28.7642606352238,28.7052720894771,28.6492521646568,28.5952291730822,28.5425449838043,28.4907592236613,28.4395807472399,28.3888193417934,28.3383521851287,28.2881008795975,28.2881008795975,28.2881008795975]},\"fFunctions\":{\"_typename\":\"TList\",\"name\":\"TList\",\"arr\":[],\"opt\":[]},\"fHistogram\":{\"_typename\":\"TH1F\",\"fUniqueID\":0,\"fBits\":512,\"fName\":\"Model\",\"fTitle\":\"Projection of \",\"fLineColor\":602,\"fLineStyle\":1,\"fLineWidth\":1,\"fFillColor\":0,\"fFillStyle\":1001,\"fMarkerColor\":1,\"fMarkerStyle\":1,\"fMarkerSize\":1,\"fNcells\":116,\"fXaxis\":{\"_typename\":\"TAxis\",\"fUniqueID\":0,\"fBits\":0,\"fName\":\"xaxis\",\"fTitle\":\"\",\"fNdivisions\":510,\"fAxisColor\":1,\"fLabelColor\":1,\"fLabelFont\":42,\"fLabelOffset\":0.005,\"fLabelSize\":0.035,\"fTickLength\":0.03,\"fTitleOffset\":1,\"fTitleSize\":0.035,\"fTitleColor\":1,\"fTitleFont\":42,\"fNbins\":114,\"fXmin\":2.85190501743333,\"fXmax\":3.35333664923333,\"fXbins\":[],\"fFirst\":0,\"fLast\":0,\"fBits2\":0,\"fTimeDisplay\":false,\"fTimeFormat\":\"\",\"fLabels\":null,\"fModLabs\":null},\"fYaxis\":{\"_typename\":\"TAxis\",\"fUniqueID\":0,\"fBits\":0,\"fName\":\"yaxis\",\"fTitle\":\"\",\"fNdivisions\":510,\"fAxisColor\":1,\"fLabelColor\":1,\"fLabelFont\":42,\"fLabelOffset\":0.005,\"fLabelSize\":0.035,\"fTickLength\":0.03,\"fTitleOffset\":0,\"fTitleSize\":0.035,\"fTitleColor\":1,\"fTitleFont\":42,\"fNbins\":1,\"fXmin\":0,\"fXmax\":604.216018717216,\"fXbins\":[],\"fFirst\":0,\"fLast\":0,\"fBits2\":0,\"fTimeDisplay\":false,\"fTimeFormat\":\"\",\"fLabels\":null,\"fModLabs\":null},\"fZaxis\":{\"_typename\":\"TAxis\",\"fUniqueID\":0,\"fBits\":0,\"fName\":\"zaxis\",\"fTitle\":\"\",\"fNdivisions\":510,\"fAxisColor\":1,\"fLabelColor\":1,\"fLabelFont\":42,\"fLabelOffset\":0.005,\"fLabelSize\":0.035,\"fTickLength\":0.03,\"fTitleOffset\":1,\"fTitleSize\":0.035,\"fTitleColor\":1,\"fTitleFont\":42,\"fNbins\":1,\"fXmin\":0,\"fXmax\":1,\"fXbins\":[],\"fFirst\":0,\"fLast\":0,\"fBits2\":0,\"fTimeDisplay\":false,\"fTimeFormat\":\"\",\"fLabels\":null,\"fModLabs\":null},\"fBarOffset\":0,\"fBarWidth\":1000,\"fEntries\":0,\"fTsumw\":0,\"fTsumw2\":0,\"fTsumwx\":0,\"fTsumwx2\":0,\"fMaximum\":604.216018717216,\"fMinimum\":0,\"fNormFactor\":0,\"fContour\":[],\"fSumw2\":[],\"fOption\":\"\",\"fFunctions\":{\"_typename\":\"TList\",\"name\":\"TList\",\"arr\":[],\"opt\":[]},\"fBufferSize\":0,\"fBuffer\":[],\"fBinStatErrOpt\":0,\"fStatOverflows\":2,\"fArray\":{\"$arr\":\"Float32\",\"len\":116}},\"fMinimum\":-1111,\"fMaximum\":-1111,\"fOption\":\"\",\"_yAxisLabel\":\"Projection of  ( \\/ GeV\\/c^{2} )\",\"_ymin\":0,\"_ymax\":549.287289742923,\"_normValue\":0}},{\"_typename\":\"TWebSnapshot\",\"fUniqueID\":0,\"fBits\":0,\"fObjectID\":\"\",\"fOption\":\"AXISSAME\",\"fKind\":1,\"fSnapshot\":{\"$ref\":15}},{\"_typename\":\"TWebSnapshot\",\"fUniqueID\":0,\"fBits\":0,\"fObjectID\":\"\",\"fOption\":\"brNDC\",\"fKind\":1,\"fSnapshot\":{\"_typename\":\"TPaveText\",\"fUniqueID\":0,\"fBits\":8,\"fLineColor\":1,\"fLineStyle\":1,\"fLineWidth\":1,\"fFillColor\":0,\"fFillStyle\":1001,\"fX1\":3.20503541819276,\"fY1\":336.282174014331,\"fX2\":3.29720854456625,\"fY2\":448.376233503847,\"fX1NDC\":0.7,\"fY1NDC\":0.55,\"fX2NDC\":0.88,\"fY2NDC\":0.7,\"fBorderSize\":1,\"fInit\":1,\"fShadowColor\":1,\"fCornerRadius\":0,\"fOption\":\"brNDC\",\"fName\":\"TPave\",\"fTextAngle\":0,\"fTextSize\":0,\"fTextAlign\":22,\"fTextColor\":1,\"fTextFont\":42,\"fLabel\":\"\",\"fLongest\":33,\"fMargin\":0.05,\"fLines\":{\"_typename\":\"TList\",\"name\":\"TList\",\"arr\":[{\"_typename\":\"TLatex\",\"fUniqueID\":0,\"fBits\":0,\"fName\":\"\",\"fTitle\":\"Mean = 3.0934 #pm 0.0007 GeV\\/c^2\",\"fTextAngle\":0,\"fTextSize\":0,\"fTextAlign\":0,\"fTextColor\":0,\"fTextFont\":0,\"fX\":0,\"fY\":0,\"fLineColor\":1,\"fLineStyle\":1,\"fLineWidth\":2,\"fLimitFactorSize\":3,\"fOriginSize\":0.0254999995231628},{\"_typename\":\"TLatex\",\"fUniqueID\":0,\"fBits\":0,\"fName\":\"\",\"fTitle\":\"Sigma = 0.0173 #pm 0.0031 GeV\\/c^2\",\"fTextAngle\":0,\"fTextSize\":0,\"fTextAlign\":0,\"fTextColor\":0,\"fTextFont\":0,\"fX\":0,\"fY\":0,\"fLineColor\":1,\"fLineStyle\":1,\"fLineWidth\":2,\"fLimitFactorSize\":3,\"fOriginSize\":0.0254999995231628},{\"_typename\":\"TLatex\",\"fUniqueID\":0,\"fBits\":0,\"fName\":\"\",\"fTitle\":\"Signal Yield = 4331 #pm 123\",\"fTextAngle\":0,\"fTextSize\":0,\"fTextAlign\":0,\"fTextColor\":0,\"fTextFont\":0,\"fX\":0,\"fY\":0,\"fLineColor\":1,\"fLineStyle\":1,\"fLineWidth\":2,\"fLimitFactorSize\":3,\"fOriginSize\":0.0254999995231628},{\"_typename\":\"TLatex\",\"fUniqueID\":0,\"fBits\":0,\"fName\":\"\",\"fTitle\":\"Background Yield = 1269 #pm 112\",\"fTextAngle\":0,\"fTextSize\":0,\"fTextAlign\":0,\"fTextColor\":0,\"fTextFont\":0,\"fX\":0,\"fY\":0,\"fLineColor\":1,\"fLineStyle\":1,\"fLineWidth\":2,\"fLimitFactorSize\":3,\"fOriginSize\":0.0254999995231628},{\"_typename\":\"TLatex\",\"fUniqueID\":0,\"fBits\":0,\"fName\":\"\",\"fTitle\":\"Chi2\\/ndof = 0.95\",\"fTextAngle\":0,\"fTextSize\":0,\"fTextAlign\":0,\"fTextColor\":0,\"fTextFont\":0,\"fX\":0,\"fY\":0,\"fLineColor\":1,\"fLineStyle\":1,\"fLineWidth\":2,\"fLimitFactorSize\":3,\"fOriginSize\":0.0254999995231628}],\"opt\":[\"\",\"\",\"\",\"\",\"\"]}}},{\"_typename\":\"TWebSnapshot\",\"fUniqueID\":0,\"fBits\":0,\"fObjectID\":\"\",\"fOption\":\"same\",\"fKind\":1,\"fSnapshot\":{\"_typename\":\"TLegend\",\"fUniqueID\":0,\"fBits\":8,\"fLineColor\":1,\"fLineStyle\":1,\"fLineWidth\":1,\"fFillColor\":0,\"fFillStyle\":1001,\"fX1\":3.20503541819276,\"fY1\":485.740920000352,\"fX2\":3.29720854456625,\"fY2\":590.362042190568,\"fX1NDC\":0.7,\"fY1NDC\":0.75,\"fX2NDC\":0.88,\"fY2NDC\":0.89,\"fBorderSize\":1,\"fInit\":1,\"fShadowColor\":1,\"fCornerRadius\":0,\"fOption\":\"brNDC\",\"fName\":\"TPave\",\"fTextAngle\":0,\"fTextSize\":0,\"fTextAlign\":12,\"fTextColor\":1,\"fTextFont\":42,\"fPrimitives\":{\"_typename\":\"TList\",\"name\":\"TList\",\"arr\":[{\"_typename\":\"TLegendEntry\",\"fUniqueID\":0,\"fBits\":0,\"fTextAngle\":0,\"fTextSize\":0,\"fTextAlign\":0,\"fTextColor\":0,\"fTextFont\":42,\"fLineColor\":1,\"fLineStyle\":1,\"fLineWidth\":1,\"fFillColor\":0,\"fFillStyle\":0,\"fMarkerColor\":1,\"fMarkerStyle\":8,\"fMarkerSize\":1,\"fObject\":{\"$ref\":21},\"fLabel\":\"Data\",\"fOption\":\"LEP\"},{\"_typename\":\"TLegendEntry\",\"fUniqueID\":0,\"fBits\":0,\"fTextAngle\":0,\"fTextSize\":0,\"fTextAlign\":0,\"fTextColor\":0,\"fTextFont\":42,\"fLineColor\":2,\"fLineStyle\":1,\"fLineWidth\":3,\"fFillColor\":0,\"fFillStyle\":0,\"fMarkerColor\":1,\"fMarkerStyle\":21,\"fMarkerSize\":1,\"fObject\":{\"$ref\":45},\"fLabel\":\"Model Fit\",\"fOption\":\"L\"},{\"_typename\":\"TLegendEntry\",\"fUniqueID\":0,\"fBits\":0,\"fTextAngle\":0,\"fTextSize\":0,\"fTextAlign\":0,\"fTextColor\":0,\"fTextFont\":42,\"fLineColor\":4,\"fLineStyle\":1,\"fLineWidth\":3,\"fFillColor\":0,\"fFillStyle\":0,\"fMarkerColor\":1,\"fMarkerStyle\":21,\"fMarkerSize\":1,\"fObject\":{\"$ref\":29},\"fLabel\":\"Signal Fit\",\"fOption\":\"L\"},{\"_typename\":\"TLegendEntry\",\"fUniqueID\":0,\"fBits\":0,\"fTextAngle\":0,\"fTextSize\":0,\"fTextAlign\":0,\"fTextColor\":0,\"fTextFont\":42,\"fLineColor\":3,\"fLineStyle\":2,\"fLineWidth\":3,\"fFillColor\":0,\"fFillStyle\":0,\"fMarkerColor\":1,\"fMarkerStyle\":21,\"fMarkerSize\":1,\"fObject\":{\"$ref\":37},\"fLabel\":\"Background fit\",\"fOption\":\"L\"}],\"opt\":[\"LEP\",\"L\",\"L\",\"L\"]},\"fEntrySeparation\":0.1,\"fMargin\":0.25,\"fNColumns\":1,\"fColumnSeparation\":0}},{\"_typename\":\"TWebSnapshot\",\"fUniqueID\":0,\"fBits\":0,\"fObjectID\":\"\",\"fOption\":\"blNDC\",\"fKind\":1,\"fSnapshot\":{\"_typename\":\"TPaveText\",\"fUniqueID\":0,\"fBits\":9,\"fLineColor\":1,\"fLineStyle\":1,\"fLineWidth\":1,\"fFillColor\":0,\"fFillStyle\":0,\"fX1\":3.05606563197926,\"fY1\":627.726731637992,\"fX2\":3.1491760346874,\"fY2\":668.827887396603,\"fX1NDC\":0.409084821428571,\"fY1NDC\":0.940000003948808,\"fX2NDC\":0.590915178571429,\"fY2NDC\":0.995000004768372,\"fBorderSize\":0,\"fInit\":1,\"fShadowColor\":1,\"fCornerRadius\":0,\"fOption\":\"blNDC\",\"fName\":\"title\",\"fTextAngle\":0,\"fTextSize\":0,\"fTextAlign\":22,\"fTextColor\":1,\"fTextFont\":42,\"fLabel\":\"\",\"fLongest\":15,\"fMargin\":0.05,\"fLines\":{\"_typename\":\"TList\",\"name\":\"TList\",\"arr\":[{\"_typename\":\"TLatex\",\"fUniqueID\":0,\"fBits\":0,\"fName\":\"\",\"fTitle\":\"J\\/\\\\Psi Mass Fit\",\"fTextAngle\":0,\"fTextSize\":0,\"fTextAlign\":0,\"fTextColor\":0,\"fTextFont\":0,\"fX\":0,\"fY\":0,\"fLineColor\":1,\"fLineStyle\":1,\"fLineWidth\":2,\"fLimitFactorSize\":3,\"fOriginSize\":0.04}],\"opt\":[\"\"]}}}],\"fScripts\":\"\",\"fHighlightConnect\":false,\"fFixedSize\":false});\n",
              "   Core.settings.HandleKeys = false;\n",
              "   Core.draw(\"root_plot_1742475687037\", obj, \"\");\n",
              "}\n",
              "\n",
              "function script_load_root_plot_1742475687037(src, on_error) {\n",
              "    let script = document.createElement('script');\n",
              "    script.src = src;\n",
              "    script.onload = function() { display_root_plot_1742475687037(JSROOT); };\n",
              "    script.onerror = function() { script.remove(); on_error(); };\n",
              "    document.head.appendChild(script);\n",
              "}\n",
              "\n",
              "if (typeof requirejs !== 'undefined') {\n",
              "\n",
              "    // We are in jupyter notebooks, use require.js which should be configured already\n",
              "    requirejs.config({\n",
              "       paths: { 'JSRootCore' : [ 'build/jsroot', 'https://root.cern/js/7.7.4/build/jsroot', 'https://jsroot.gsi.de/7.7.4/build/jsroot' ] }\n",
              "    })(['JSRootCore'],  function(Core) {\n",
              "       display_root_plot_1742475687037(Core);\n",
              "    });\n",
              "\n",
              "} else if (typeof JSROOT !== 'undefined') {\n",
              "\n",
              "   // JSROOT already loaded, just use it\n",
              "   display_root_plot_1742475687037(JSROOT);\n",
              "\n",
              "} else {\n",
              "\n",
              "    // We are in jupyterlab without require.js, directly loading jsroot\n",
              "    // Jupyterlab might be installed in a different base_url so we need to know it.\n",
              "    try {\n",
              "        var base_url = JSON.parse(document.getElementById('jupyter-config-data').innerHTML).baseUrl;\n",
              "    } catch(_) {\n",
              "        var base_url = '/';\n",
              "    }\n",
              "\n",
              "    // Try loading a local version of requirejs and fallback to cdn if not possible.\n",
              "    script_load_root_plot_1742475687037(base_url + 'static/build/jsroot.js', function(){\n",
              "        console.error('Fail to load JSROOT locally, please check your jupyter_notebook_config.py file');\n",
              "        script_load_root_plot_1742475687037('https://root.cern/js/7.7.4/build/jsroot.js', function(){\n",
              "            document.getElementById(\"root_plot_1742475687037\").innerHTML = \"Failed to load JSROOT\";\n",
              "        });\n",
              "    });\n",
              "}\n",
              "\n",
              "</script>\n"
            ]
          },
          "metadata": {}
        },
        {
          "output_type": "display_data",
          "data": {
            "text/plain": [
              "<IPython.core.display.HTML object>"
            ],
            "text/html": [
              "\n",
              "\n",
              "<div id=\"root_plot_1742475687049\" style=\"width: 800px; height: 700px; position: relative\">\n",
              "</div>\n",
              "\n",
              "<script>\n",
              "\n",
              "function display_root_plot_1742475687049(Core) {\n",
              "   let obj = Core.parse({\"_typename\":\"TCanvasWebSnapshot\",\"fUniqueID\":0,\"fBits\":0,\"fObjectID\":\"\",\"fOption\":\"\",\"fKind\":3,\"fSnapshot\":{\"_typename\":\"TCanvas\",\"fUniqueID\":0,\"fBits\":3342344,\"fLineColor\":1,\"fLineStyle\":1,\"fLineWidth\":1,\"fFillColor\":0,\"fFillStyle\":1001,\"fLeftMargin\":0.1,\"fRightMargin\":0.1,\"fBottomMargin\":0.1,\"fTopMargin\":0.1,\"fXfile\":2,\"fYfile\":2,\"fAfile\":1,\"fXstat\":0.99,\"fYstat\":0.99,\"fAstat\":2,\"fFrameFillColor\":0,\"fFrameLineColor\":1,\"fFrameFillStyle\":1001,\"fFrameLineStyle\":1,\"fFrameLineWidth\":1,\"fFrameBorderSize\":1,\"fFrameBorderMode\":0,\"fX1\":-0.986957675761027,\"fY1\":-0.717165937959748,\"fX2\":2.86201893915273,\"fY2\":3.44419323696157,\"fXtoAbsPixelk\":204.110959485105,\"fXtoPixelk\":204.110959485105,\"fXtoPixel\":206.808219336982,\"fYtoAbsPixelk\":556.187956374118,\"fYtoPixelk\":556.187956374118,\"fYtoPixel\":-161.485700164948,\"fUtoAbsPixelk\":0,\"fUtoPixelk\":0,\"fUtoPixel\":796,\"fVtoAbsPixelk\":672,\"fVtoPixelk\":672,\"fVtoPixel\":-672,\"fAbsPixeltoXk\":-0.986957675761027,\"fPixeltoXk\":-0.986957675761027,\"fPixeltoX\":0.00483539775742934,\"fAbsPixeltoYk\":3.44419323696157,\"fPixeltoYk\":-0.717165937959748,\"fPixeltoY\":-0.00619249877220434,\"fXlowNDC\":0,\"fYlowNDC\":0,\"fXUpNDC\":1,\"fYUpNDC\":1,\"fWNDC\":1,\"fHNDC\":1,\"fAbsXlowNDC\":0,\"fAbsYlowNDC\":0,\"fAbsWNDC\":1,\"fAbsHNDC\":1,\"fUxmin\":-0.602059991327962,\"fUymin\":-0.301029995663981,\"fUxmax\":2.47712125471966,\"fUymax\":3.0280572946658,\"fTheta\":30,\"fPhi\":30,\"fAspectRatio\":0,\"fNumber\":0,\"fTickx\":0,\"fTicky\":0,\"fLogx\":1,\"fLogy\":1,\"fLogz\":0,\"fPadPaint\":0,\"fCrosshair\":0,\"fCrosshairPos\":0,\"fBorderSize\":2,\"fBorderMode\":0,\"fModified\":false,\"fGridx\":false,\"fGridy\":false,\"fAbsCoord\":false,\"fEditable\":true,\"fFixedAspectRatio\":false,\"fPrimitives\":{\"_typename\":\"TList\",\"name\":\"TList\",\"arr\":[],\"opt\":[]},\"fExecs\":null,\"fName\":\"invariant_mass_canvas\",\"fTitle\":\"Invariant Mass\",\"fNumPaletteColor\":0,\"fNextPaletteColor\":0,\"fDISPLAY\":\"$DISPLAY\",\"fDoubleBuffer\":0,\"fRetained\":true,\"fXsizeUser\":0,\"fYsizeUser\":0,\"fXsizeReal\":20,\"fYsizeReal\":17.5,\"fWindowTopX\":0,\"fWindowTopY\":0,\"fWindowWidth\":0,\"fWindowHeight\":0,\"fCw\":796,\"fCh\":672,\"fCatt\":{\"_typename\":\"TAttCanvas\",\"fXBetween\":2,\"fYBetween\":2,\"fTitleFromTop\":1.2,\"fXdate\":0.2,\"fYdate\":0.3,\"fAdate\":1},\"kMoveOpaque\":true,\"kResizeOpaque\":true,\"fHighLightColor\":2,\"fBatch\":true,\"kShowEventStatus\":false,\"kAutoExec\":true,\"kMenuBar\":true},\"fActive\":false,\"fReadOnly\":true,\"fWithoutPrimitives\":false,\"fHasExecs\":false,\"fPrimitives\":[{\"_typename\":\"TWebSnapshot\",\"fUniqueID\":0,\"fBits\":0,\"fObjectID\":\"\",\"fOption\":\"\",\"fKind\":4,\"fSnapshot\":{\"_typename\":\"TWebPainting\",\"fUniqueID\":0,\"fBits\":0,\"fOper\":\"0:255,255,255;1:0,0,0;2:255,0,0;3:0,255,0;4:0,0,255;5:255,255,0;6:255,0,255;7:0,255,255;8:89,211,84;9:89,84,216;10:254,254,254;11:192,182,172;12:76,76,76;13:102,102,102;14:127,127,127;15:153,153,153;16:178,178,178;17:204,204,204;18:229,229,229;19:242,242,242;20:204,198,170;21:204,198,170;22:193,191,168;23:186,181,163;24:178,165,150;25:183,163,155;26:173,153,140;27:155,142,130;28:135,102,86;29:175,206,198;30:132,193,163;31:137,168,160;32:130,158,140;33:173,188,198;34:122,142,153;35:117,137,145;36:104,130,150;37:109,122,132;38:124,153,209;39:127,127,155;40:170,165,191;41:211,206,135;42:221,186,135;43:188,158,130;44:198,153,124;45:191,130,119;46:206,94,96;47:170,142,147;48:165,119,122;49:147,104,112;50:211,89,84;51:146,0,255;52:122,0,255;53:98,0,255;54:74,0,255;55:51,0,255;56:27,0,255;57:3,0,255;58:0,20,255;59:0,44,255;60:0,68,255;61:0,91,255;62:0,115,255;63:0,139,255;64:0,163,255;65:0,187,255;66:0,210,255;67:0,234,255;68:0,255,251;69:0,255,227;70:0,255,204;71:0,255,180;72:0,255,156;73:0,255,132;74:0,255,108;75:0,255,85;76:0,255,61;77:0,255,37;78:0,255,13;79:10,255,0;80:34,255,0;81:57,255,0;82:81,255,0;83:105,255,0;84:129,255,0;85:153,255,0;86:176,255,0;87:200,255,0;88:224,255,0;89:248,255,0;90:255,238,0;91:255,214,0;92:255,190,0;93:255,166,0;94:255,142,0;95:255,119,0;96:255,95,0;97:255,71,0;98:255,47,0;99:255,23,0;100:111,45,168;101:165,42,42;102:178,190,181;103:87,144,252;104:248,156,32;105:228,37,54;106:150,74,139;107:156,156,161;108:122,33,221;109:24,69,251;110:255,94,2;111:201,31,22;112:200,73,169;113:173,173,125;114:134,200,221;115:87,141,255;116:101,99,100;117:63,144,218;118:255,169,14;119:189,31,1;120:148,164,162;121:131,45,182;122:169,107,89;123:231,99,0;124:185,172,112;125:113,117,129;126:146,218,221;127:178,178,178;201:91,91,91;202:122,122,122;203:183,183,183;204:214,214,214;205:137,15,15;206:183,20,20;207:234,71,71;208:239,117,117;209:15,137,15;210:20,183,20;211:71,234,71;212:117,239,117;213:15,15,137;214:20,20,183;215:71,71,234;216:117,117,239;217:137,137,15;218:183,183,20;219:234,234,71;220:239,239,117;221:137,15,137;222:183,20,183;223:234,71,234;224:239,117,239;225:15,137,137;226:20,183,183;227:71,234,234;228:117,239,239;390:255,255,204;391:255,255,153;392:204,204,153;393:255,255,102;394:204,204,102;395:153,153,102;396:255,255,51;397:204,204,51;398:153,153,51;399:102,102,51;400:255,255,0;401:204,204,0;402:153,153,0;403:102,102,0;404:51,51,0;406:204,255,204;407:153,255,153;408:153,204,153;409:102,255,102;410:102,204,102;411:102,153,102;412:51,255,51;413:51,204,51;414:51,153,51;415:51,102,51;416:0,255,0;417:0,204,0;418:0,153,0;419:0,102,0;420:0,51,0;422:204,255,255;423:153,255,255;424:153,204,204;425:102,255,255;426:102,204,204;427:102,153,153;428:51,255,255;429:51,204,204;430:51,153,153;431:51,102,102;432:0,255,255;433:0,204,204;434:0,153,153;435:0,102,102;436:0,51,51;590:204,204,255;591:153,153,255;592:153,153,204;593:102,102,255;594:102,102,204;595:102,102,153;596:51,51,255;597:51,51,204;598:51,51,153;599:51,51,102;600:0,0,255;601:0,0,204;602:0,0,153;603:0,0,102;604:0,0,51;606:255,204,255;607:255,153,255;608:204,153,204;609:255,102,255;610:204,102,204;611:153,102,153;612:255,51,255;613:204,51,204;614:153,51,153;615:102,51,102;616:255,0,255;617:204,0,204;618:153,0,153;619:102,0,102;620:51,0,51;622:255,204,204;623:255,153,153;624:204,153,153;625:255,102,102;626:204,102,102;627:153,102,102;628:255,51,51;629:204,51,51;630:153,51,51;631:102,51,51;632:255,0,0;633:204,0,0;634:153,0,0;635:102,0,0;636:51,0,0;791:255,204,153;792:204,153,102;793:153,102,51;794:153,102,0;795:204,153,51;796:255,204,102;797:255,153,0;798:255,204,51;799:204,153,0;800:255,204,0;801:255,153,51;802:204,102,0;803:102,51,0;804:153,51,0;805:204,102,51;806:255,153,102;807:255,102,0;808:255,102,51;809:204,51,0;810:255,51,0;811:153,255,51;812:102,204,0;813:51,102,0;814:51,153,0;815:102,204,51;816:153,255,102;817:102,255,0;818:102,255,51;819:51,204,0;820:51,255,0;821:204,255,153;822:153,204,102;823:102,153,51;824:102,153,0;825:153,204,51;826:204,255,102;827:153,255,0;828:204,255,51;829:153,204,0;830:204,255,0;831:153,255,204;832:102,204,153;833:51,153,102;834:0,153,102;835:51,204,153;836:102,255,204;837:0,255,102;838:51,255,204;839:0,204,153;840:0,255,204;841:51,255,153;842:0,204,102;843:0,102,51;844:0,153,51;845:51,204,102;846:102,255,153;847:0,255,153;848:51,255,102;849:0,204,51;850:0,255,51;851:153,204,255;852:102,153,204;853:51,102,153;854:0,51,153;855:51,102,204;856:102,153,255;857:0,102,255;858:51,102,255;859:0,51,204;860:0,51,255;861:51,153,255;862:0,102,204;863:0,51,102;864:0,102,153;865:51,153,204;866:102,204,255;867:0,153,255;868:51,204,255;869:0,153,204;870:0,204,255;871:204,153,255;872:153,102,204;873:102,51,153;874:102,0,153;875:153,51,204;876:204,102,255;877:153,0,255;878:204,51,255;879:153,0,204;880:204,0,255;881:153,51,255;882:102,0,204;883:51,0,102;884:51,0,153;885:102,51,204;886:153,102,255;887:102,0,255;888:102,51,255;889:51,0,204;890:51,0,255;891:255,51,153;892:204,0,102;893:102,0,51;894:153,0,51;895:204,51,102;896:255,102,153;897:255,0,102;898:255,51,102;899:204,0,51;900:255,0,51;901:255,153,204;902:204,102,153;903:153,51,102;904:153,0,102;905:204,51,153;906:255,102,204;907:255,0,153;908:204,0,153;909:255,51,204;910:255,0,153;920:204,204,204;921:153,153,153;922:102,102,102;923:51,51,51;924:53,42,134;925:51,44,137;926:50,45,140;927:49,47,143;928:48,48,146;929:46,50,148;930:45,51,151;931:44,53,154;932:43,55,157;933:42,56,160;934:40,58,162;935:39,59,165;936:38,61,168;937:37,63,171;938:35,64,174;939:34,66,176;940:33,67,179;941:32,69,182;942:31,71,185;943:29,72,187;944:28,74,190;945:27,75,193;946:26,77,196;947:24,79,199;948:23,80,201;949:22,82,204;950:21,83,207;951:19,85,210;952:18,86,213;953:17,88,215;954:16,90,218;955:15,91,221;956:15,92,221;957:15,94,220;958:15,95,220;959:15,96,220;960:15,97,220;961:15,98,220;962:16,99,219;963:16,100,219;964:16,102,219;965:16,103,219;966:16,104,218;967:16,105,218;968:17,106,218;969:17,107,218;970:17,109,217;971:17,110,217;972:17,111,217;973:17,112,217;974:17,113,216;975:18,114,216;976:18,115,216;977:18,117,216;978:18,118,215;979:18,119,215;980:18,120,215;981:18,121,215;982:19,122,215;983:19,123,214;984:19,125,214;985:19,126,214;986:19,127,214;987:19,128,213;988:19,129,213;989:19,130,213;990:18,131,212;991:18,132,212;992:17,134,211;993:17,135,211;994:16,136,211;995:16,137,210;996:15,138,210;997:15,139,210;998:15,140,209;999:14,141,209;1000:14,142,208;1001:13,143,208;1002:13,145,208;1003:12,146,207;1004:12,147,207;1005:12,148,207;1006:11,149,206;1007:11,150,206;1008:10,151,205;1009:10,152,205;1010:9,153,205;1011:9,154,204;1012:8,155,204;1013:8,157,204;1014:8,158,203;1015:7,159,203;1016:7,160,202;1017:6,161,202;1018:6,162,202;1019:5,163,201;1020:7,164,200;1021:8,164,199;1022:9,165,198;1023:10,166,197;1024:12,166,195;1025:13,167,194;1026:14,167,193;1027:15,168,192;1028:17,169,191;1029:18,169,189;1030:19,170,188;1031:20,170,187;1032:22,171,186;1033:23,172,185;1034:24,172,184;1035:25,173,182;1036:27,173,181;1037:28,174,180;1038:29,175,179;1039:30,175,178;1040:32,176,176;1041:33,176,175;1042:34,177,174;1043:35,178,173;1044:37,178,172;1045:38,179,170;1046:39,180,169;1047:40,180,168;1048:42,181,167;1049:43,181,166;1050:44,182,165;1051:45,183,163;1052:48,183,162;1053:51,183,161;1054:54,183,159;1055:57,184,158;1056:59,184,156;1057:62,184,155;1058:65,184,154;1059:68,185,152;1060:71,185,151;1061:73,185,149;1062:76,185,148;1063:79,186,146;1064:82,186,145;1065:84,186,144;1066:87,186,142;1067:90,187,141;1068:93,187,139;1069:96,187,138;1070:98,187,137;1071:101,188,135;1072:104,188,134;1073:107,188,132;1074:110,188,131;1075:112,189,130;1076:115,189,128;1077:118,189,127;1078:121,189,125;1079:124,190,124;1080:126,190,123;1081:129,190,121;1082:132,190,120;1083:135,191,118;1084:137,190,117;1085:139,190,117;1086:142,190,116;1087:144,190,115;1088:146,190,114;1089:148,190,113;1090:151,190,112;1091:153,190,111;1092:155,189,110;1093:158,189,109;1094:160,189,108;1095:162,189,107;1096:165,189,106;1097:167,189,105;1098:169,189,104;1099:171,188,104;1100:174,188,103;1101:176,188,102;1102:178,188,101;1103:181,188,100;1104:183,188,99;1105:185,188,98;1106:188,188,97;1107:190,187,96;1108:192,187,95;1109:194,187,94;1110:197,187,93;1111:199,187,92;1112:201,187,92;1113:204,187,91;1114:206,186,90;1115:208,186,89;1116:210,187,88;1117:211,187,86;1118:212,188,85;1119:214,188,84;1120:215,188,83;1121:217,189,81;1122:218,189,80;1123:220,190,79;1124:221,190,78;1125:222,191,77;1126:224,191,75;1127:225,191,74;1128:227,192,73;1129:228,192,72;1130:229,193,70;1131:231,193,69;1132:232,194,68;1133:234,194,67;1134:235,194,66;1135:236,195,64;1136:238,195,63;1137:239,196,62;1138:241,196,61;1139:242,197,59;1140:244,197,58;1141:245,197,57;1142:246,198,56;1143:248,198,55;1144:249,199,53;1145:251,199,52;1146:252,200,51;1147:253,200,50;1148:253,202,49;1149:253,203,47;1150:253,205,46;1151:253,206,45;1152:253,208,44;1153:252,209,43;1154:252,211,42;1155:252,213,41;1156:252,214,39;1157:252,216,38;1158:252,217,37;1159:252,219,36;1160:251,220,35;1161:251,222,34;1162:251,224,33;1163:251,225,31;1164:251,227,30;1165:251,228,29;1166:250,230,28;1167:250,231,27;1168:250,233,26;1169:250,235,25;1170:250,236,23;1171:250,238,22;1172:250,239,21;1173:249,241,20;1174:249,242,19;1175:249,244,18;1176:249,246,17;1177:249,247,16;1178:249,249,14\",\"fBuf\":{\"$arr\":\"Float32\",\"len\":255,\"v\":[924,925,926,927,928,929,930,931,932,933,934,935,936,937,938,939,940,941,942,943,944,945,946,947,948,949,950,951,952,953,954,955,956,957,958,959,960,961,962,963,964,965,966,967,968,969,970,971,972,973,974,975,976,977,978,979,980,981,982,983,984,985,986,987,988,989,990,991,992,993,994,995,996,997,998,999,1000,1001,1002,1003,1004,1005,1006,1007,1008,1009,1010,1011,1012,1013,1014,1015,1016,1017,1018,1019,1020,1021,1022,1023,1024,1025,1026,1027,1028,1029,1030,1031,1032,1033,1034,1035,1036,1037,1038,1039,1040,1041,1042,1043,1044,1045,1046,1047,1048,1049,1050,1051,1052,1053,1054,1055,1056,1057,1058,1059,1060,1061,1062,1063,1064,1065,1066,1067,1068,1069,1070,1071,1072,1073,1074,1075,1076,1077,1078,1079,1080,1081,1082,1083,1084,1085,1086,1087,1088,1089,1090,1091,1092,1093,1094,1095,1096,1097,1098,1099,1100,1101,1102,1103,1104,1105,1106,1107,1108,1109,1110,1111,1112,1113,1114,1115,1116,1117,1118,1119,1120,1121,1122,1123,1124,1125,1126,1127,1128,1129,1130,1131,1132,1133,1134,1135,1136,1137,1138,1139,1140,1141,1142,1143,1144,1145,1146,1147,1148,1149,1150,1151,1152,1153,1154,1155,1156,1157,1158,1159,1160,1161,1162,1163,1164,1165,1166,1167,1168,1169,1170,1171,1172,1173,1174,1175,1176,1177,1178]}}},{\"_typename\":\"TWebSnapshot\",\"fUniqueID\":0,\"fBits\":0,\"fObjectID\":\"\",\"fOption\":\"\",\"fKind\":5,\"fSnapshot\":{\"_typename\":\"TStyle\",\"fUniqueID\":0,\"fBits\":0,\"fName\":\"Modern\",\"fTitle\":\"Modern Style\",\"fLineColor\":1,\"fLineStyle\":1,\"fLineWidth\":1,\"fFillColor\":19,\"fFillStyle\":1001,\"fMarkerColor\":1,\"fMarkerStyle\":1,\"fMarkerSize\":1,\"fTextAngle\":0,\"fTextSize\":0.05,\"fTextAlign\":11,\"fTextColor\":1,\"fTextFont\":42,\"fXaxis\":{\"_typename\":\"TAttAxis\",\"fNdivisions\":510,\"fAxisColor\":1,\"fLabelColor\":1,\"fLabelFont\":42,\"fLabelOffset\":0.005,\"fLabelSize\":0.035,\"fTickLength\":0.03,\"fTitleOffset\":1,\"fTitleSize\":0.035,\"fTitleColor\":1,\"fTitleFont\":42},\"fYaxis\":{\"_typename\":\"TAttAxis\",\"fNdivisions\":510,\"fAxisColor\":1,\"fLabelColor\":1,\"fLabelFont\":42,\"fLabelOffset\":0.005,\"fLabelSize\":0.035,\"fTickLength\":0.03,\"fTitleOffset\":0,\"fTitleSize\":0.035,\"fTitleColor\":1,\"fTitleFont\":42},\"fZaxis\":{\"_typename\":\"TAttAxis\",\"fNdivisions\":510,\"fAxisColor\":1,\"fLabelColor\":1,\"fLabelFont\":42,\"fLabelOffset\":0.005,\"fLabelSize\":0.035,\"fTickLength\":0.03,\"fTitleOffset\":1,\"fTitleSize\":0.035,\"fTitleColor\":1,\"fTitleFont\":42},\"fBarWidth\":1,\"fBarOffset\":0,\"fColorModelPS\":0,\"fDrawBorder\":0,\"fOptLogx\":0,\"fOptLogy\":0,\"fOptLogz\":0,\"fOptDate\":0,\"fOptStat\":0,\"fOptTitle\":1,\"fOptFile\":0,\"fOptFit\":0,\"fShowEventStatus\":0,\"fShowEditor\":0,\"fShowToolBar\":0,\"fNumberContours\":20,\"fAttDate\":{\"_typename\":\"TAttText\",\"fTextAngle\":0,\"fTextSize\":0.025,\"fTextAlign\":11,\"fTextColor\":1,\"fTextFont\":62},\"fDateX\":0.01,\"fDateY\":0.01,\"fEndErrorSize\":2,\"fErrorX\":0.5,\"fFuncColor\":2,\"fFuncStyle\":1,\"fFuncWidth\":2,\"fGridColor\":0,\"fGridStyle\":3,\"fGridWidth\":1,\"fLegendBorderSize\":1,\"fLegendFillColor\":0,\"fLegendFillStyle\":1001,\"fLegendFont\":42,\"fLegendTextSize\":0,\"fHatchesLineWidth\":1,\"fHatchesSpacing\":1,\"fFrameFillColor\":0,\"fFrameLineColor\":1,\"fFrameFillStyle\":1001,\"fFrameLineStyle\":1,\"fFrameLineWidth\":1,\"fFrameBorderSize\":1,\"fFrameBorderMode\":0,\"fHistFillColor\":0,\"fHistLineColor\":602,\"fHistFillStyle\":1001,\"fHistLineStyle\":1,\"fHistLineWidth\":1,\"fHistMinimumZero\":false,\"fHistTopMargin\":0.05,\"fCanvasPreferGL\":false,\"fCanvasColor\":0,\"fCanvasBorderSize\":2,\"fCanvasBorderMode\":0,\"fCanvasDefH\":500,\"fCanvasDefW\":700,\"fCanvasDefX\":10,\"fCanvasDefY\":10,\"fPadColor\":0,\"fPadBorderSize\":2,\"fPadBorderMode\":0,\"fPadBottomMargin\":0.1,\"fPadTopMargin\":0.1,\"fPadLeftMargin\":0.1,\"fPadRightMargin\":0.1,\"fPadGridX\":false,\"fPadGridY\":false,\"fPadTickX\":0,\"fPadTickY\":0,\"fPaperSizeX\":20,\"fPaperSizeY\":26,\"fScreenFactor\":1,\"fStatColor\":0,\"fStatTextColor\":1,\"fStatBorderSize\":1,\"fStatFont\":42,\"fStatFontSize\":0,\"fStatStyle\":1001,\"fStatFormat\":\"6.4g\",\"fStatX\":0.98,\"fStatY\":0.935,\"fStatW\":0.2,\"fStatH\":0.16,\"fStripDecimals\":true,\"fTitleAlign\":23,\"fTitleColor\":0,\"fTitleTextColor\":1,\"fTitleBorderSize\":0,\"fTitleFont\":42,\"fTitleFontSize\":0.05,\"fTitleStyle\":0,\"fTitleX\":0.5,\"fTitleY\":0.995,\"fTitleW\":0,\"fTitleH\":0,\"fLegoInnerR\":0.5,\"fLineStyles\":[\"\",\"  \",\" 12 12\",\" 4 8\",\" 12 16 4 16\",\" 20 12 4 12\",\" 20 12 4 12 4 12 4 12\",\" 20 20\",\" 20 12 4 12 4 12\",\" 80 20\",\" 80 40 4 40\",\"  \",\"  \",\"  \",\"  \",\"  \",\"  \",\"  \",\"  \",\"  \",\"  \",\"  \",\"  \",\"  \",\"  \",\"  \",\"  \",\"  \",\"  \",\"  \"],\"fHeaderPS\":\"\",\"fTitlePS\":\"\",\"fFitFormat\":\"5.4g\",\"fPaintTextFormat\":\"g\",\"fLineScalePS\":3,\"fJoinLinePS\":0,\"fCapLinePS\":0,\"fTimeOffset\":788918400,\"fImageScaling\":1,\"fCandleWhiskerRange\":1,\"fCandleBoxRange\":0.5,\"fCandleScaled\":false,\"fViolinScaled\":true,\"fXAxisExpXOffset\":0,\"fXAxisExpYOffset\":0,\"fYAxisExpXOffset\":0,\"fYAxisExpYOffset\":0,\"fAxisMaxDigits\":5,\"fOrthoCamera\":false}},{\"_typename\":\"TWebSnapshot\",\"fUniqueID\":0,\"fBits\":0,\"fObjectID\":\"\",\"fOption\":\"\",\"fKind\":1,\"fSnapshot\":{\"_typename\":\"TFrame\",\"fUniqueID\":0,\"fBits\":8,\"fLineColor\":1,\"fLineStyle\":1,\"fLineWidth\":1,\"fFillColor\":0,\"fFillStyle\":1001,\"fX1\":-0.602059991327962,\"fY1\":-0.301029995663981,\"fX2\":2.47712125471966,\"fY2\":3.0280572946658,\"fBorderSize\":1,\"fBorderMode\":0}},{\"_typename\":\"TWebSnapshot\",\"fUniqueID\":0,\"fBits\":0,\"fObjectID\":\"\",\"fOption\":\"\",\"fKind\":1,\"fSnapshot\":{\"_typename\":\"TH1F\",\"fUniqueID\":0,\"fBits\":520,\"fName\":\"invariant_mass_histogram\",\"fTitle\":\"\",\"fLineColor\":602,\"fLineStyle\":1,\"fLineWidth\":1,\"fFillColor\":0,\"fFillStyle\":1001,\"fMarkerColor\":1,\"fMarkerStyle\":1,\"fMarkerSize\":1,\"fNcells\":30002,\"fXaxis\":{\"_typename\":\"TAxis\",\"fUniqueID\":0,\"fBits\":0,\"fName\":\"xaxis\",\"fTitle\":\"Mass_{#mu#mu}(GeV\\/c^2)\",\"fNdivisions\":510,\"fAxisColor\":1,\"fLabelColor\":1,\"fLabelFont\":42,\"fLabelOffset\":0.005,\"fLabelSize\":0.035,\"fTickLength\":0.03,\"fTitleOffset\":1,\"fTitleSize\":0.042,\"fTitleColor\":1,\"fTitleFont\":42,\"fNbins\":30000,\"fXmin\":0.25,\"fXmax\":300,\"fXbins\":[],\"fFirst\":0,\"fLast\":0,\"fBits2\":0,\"fTimeDisplay\":false,\"fTimeFormat\":\"\",\"fLabels\":null,\"fModLabs\":null},\"fYaxis\":{\"_typename\":\"TAxis\",\"fUniqueID\":0,\"fBits\":0,\"fName\":\"yaxis\",\"fTitle\":\"N_{Events}\",\"fNdivisions\":510,\"fAxisColor\":1,\"fLabelColor\":1,\"fLabelFont\":42,\"fLabelOffset\":0.005,\"fLabelSize\":0.035,\"fTickLength\":0.03,\"fTitleOffset\":0,\"fTitleSize\":0.042,\"fTitleColor\":1,\"fTitleFont\":42,\"fNbins\":1,\"fXmin\":0,\"fXmax\":1,\"fXbins\":[],\"fFirst\":0,\"fLast\":0,\"fBits2\":0,\"fTimeDisplay\":false,\"fTimeFormat\":\"\",\"fLabels\":null,\"fModLabs\":null},\"fZaxis\":{\"_typename\":\"TAxis\",\"fUniqueID\":0,\"fBits\":0,\"fName\":\"zaxis\",\"fTitle\":\"\",\"fNdivisions\":510,\"fAxisColor\":1,\"fLabelColor\":1,\"fLabelFont\":42,\"fLabelOffset\":0.005,\"fLabelSize\":0.035,\"fTickLength\":0.03,\"fTitleOffset\":1,\"fTitleSize\":0.035,\"fTitleColor\":1,\"fTitleFont\":42,\"fNbins\":1,\"fXmin\":0,\"fXmax\":1,\"fXbins\":[],\"fFirst\":0,\"fLast\":0,\"fBits2\":0,\"fTimeDisplay\":false,\"fTimeFormat\":\"\",\"fLabels\":null,\"fModLabs\":null},\"fBarOffset\":0,\"fBarWidth\":1000,\"fEntries\":419631,\"fTsumw\":418873,\"fTsumw2\":418873,\"fTsumwx\":33342472.0575908,\"fTsumwx2\":3006473792.13847,\"fMaximum\":-1111,\"fMinimum\":-1111,\"fNormFactor\":0,\"fContour\":[],\"fSumw2\":[],\"fOption\":\"\",\"fFunctions\":{\"_typename\":\"TList\",\"name\":\"TList\",\"arr\":[],\"opt\":[]},\"fBufferSize\":0,\"fBuffer\":[],\"fBinStatErrOpt\":0,\"fStatOverflows\":2,\"fArray\":{\"$arr\":\"Float32\",\"len\":30002,\"v\":[451,173,161,175,169,145,162,130,123,132,101,91,101,82,82,85,81,70,63,66,56,79,58,57,61,54,73,61,65,56,71,58,66,68,71,57,60,75,86,73,82,58,59,81,56,75,68,74,76,89,110,80,91,89,102,92,80,93,73,63,78,67,76,81,80,74,69,71,72,78,81,82,74,58,69,87,103,135,119,112,92,98,76,61,67,75,76,77,81,65,74,59,69,69,69,74,65,77,64,83,77,64,67,81,58,66,58,66,55,81,70,57,55,62,54,74,74,71,70,68,66,61,59,65,55,61,61,66,84,44,65,51,56,60,71,62,53,61,56,53,66,65,70,60,67,60,67,58,52,64,67,59,56,52,66,61,61,50,52,44,61,63,41,54,60,60,63,58,53,70,62,56,56,53,50,57,44,43,48,58,56,57,68,54,59,47,59,50,64,52,58,62,57,47,54,51,45,58,51,61,47,43,57,34,54,54,51,43,36,44,34,42,53,47,51,50,41,53,44,40,45,65,43,51,51,47,36,49,41,29,37,45,37,35,37,39,46,50,45,36,47,33,33,40,26,40,40,46,37,39,35,36,39,33,41,49,31,29,45,36,31,38,27,36,33,35,36,38,40,43,36,51,36,46,44,73,88,99,103,135,185,238,326,429,505,536,546,394,334,266,198,145,101,89,64,47,29,35,27,30,33,39,22,27,31,31,25,21,19,20,15,23,22,20,27,24,19,19,19,13,16,16,21,28,28,25,29,18,23,23,22,17,23,29,25,33,22,17,28,30,45,39,41,49,53,42,44,42,31,38,16,16,22,23,17,20,13,25,17,16,13,20,19,16,19,15,11,23,13,20,13,17,17,15,11,19,14,18,13,20,18,10,19,7,14,11,13,20,7,13,15,20,15,12,10,15,17,14,9,13,14,11,12,8,11,18,8,14,8,9,4,7,16,12,16,11,10,6,11,10,15,11,5,14,11,7,11,14,11,17,12,16,11,16,17,9,14,15,21,13,9,11,12,13,11,16,14,13,9,11,11,4,9,17,10,13,8,14,7,11,14,5,4,3,6,6,12,13,11,9,8,7,12,11,7,9,7,10,13,14,13,4,16,9,8,12,11,6,11,16,11,11,10,9,11,13,10,7,10,12,10,6,10,19,10,9,9,7,13,11,3,11,10,12,8,12,6,12,8,8,8,19,14,7,10,9,10,16,7,4,10,8,8,5,7,10,10,11,11,12,7,7,11,6,15,11,7,10,14,7,12,8,9,7,16,11,7,5,8,6,10,13,9,8,7,13,7,13,16,11,15,8,10,8,6,7,14,10,7,8,6,9,10,3,6,9,12,15,9,7,7,9,9,12,10,10,5,7,9,10,7,9,10,9,7,13,7,4,6,11,11,10,8,6,8,11,10,7,5,9,8,8,10,6,7,6,4,6,11,10,11,7,7,5,6,9,7,2,11,8,4,15,12,7,14,9,8,9,6,7,10,9,8,5,13,6,5,9,6,11,8,9,14,5,9,9,8,5,8,7,13,11,12,10,10,8,5,12,7,5,10,6,10,5,14,10,11,9,10,11,6,9,10,14,5,13,12,5,12,11,16,10,11,5,2,5,6,11,7,7,9,9,6,14,4,9,6,8,15,2,7,6,10,8,15,11,12,10,8,9,11,12,10,7,12,3,8,6,8,10,10,6,4,6,12,7,8,10,6,6,10,9,10,6,9,4,7,7,11,11,6,10,10,10,6,10,8,6,8,5,5,9,13,7,7,9,8,4,10,7,9,6,5,10,15,6,13,9,6,7,12,5,9,9,5,7,5,8,8,5,7,5,10,6,6,6,7,8,9,8,6,8,11,4,13,9,11,8,5,5,5,8,8,9,16,13,4,7,6,7,11,3,11,6,10,8,10,12,8,8,8,6,10,8,5,7,8,3,15,4,11,6,9,7,4,10,7,4,5,7,14,13,5,9,13,10,4,7,8,5,10,11,7,3,7,6,7,7,8,12,7,7,9,13,4,12,7,6,11,6,11,10,7,10,13,15,13,12,14,16,19,16,17,15,26,26,32,24,27,30,35,29,36,49,49,70,41,49,63,55,46,75,73,68,52,65,57,58,41,39,37,43,29,38,25,25,21,15,23,18,23,16,12,18,19,10,6,19,11,19,10,16,8,12,11,13,14,10,15,15,22,20,17,20,23,10,23,23,25,30,20,35,31,37,32,41,46,37,35,36,38,25,34,36,39,41,27,36,31,21,29,22,23,21,33,28,23,17,24,18,23,26,26,34,29,26,25,29,27,21,28,27,26,45,22,37,32,17,25,21,19,15,24,16,17,18,21,19,11,12,8,11,11,10,10,14,10,5,8,10,13,10,7,11,9,9,11,6,6,9,11,9,5,6,8,6,6,5,9,8,7,9,7,7,7,7,7,4,8,9,7,2,7,4,10,9,9,8,7,9,5,9,11,8,7,8,4,7,7,6,4,4,9,5,9,3,5,7,9,3,9,13,5,10,6,3,5,11,4,7,3,3,3,7,8,8,7,2,1,7,11,7,5,12,3,9,9,9,5,3,7,3,5,6,7,5,5,7,7,11,9,0,11,6,1,7,6,6,6,4,7,8,4,6,1,3,5,3,6,7,7,5,5,6,7,3,7,3,10,3,12,6,1,8,4,6,6,6,10,9,7,4,5,6,7,9,5,6,9,5,8,5,6,7,4,9,5,4,6,6,6,10,4,9,6,4,2,7,4,8,8,7,4,7,6,3,5,5,8,6,8,5,8,5,7,6,9,5,5,5,7,4,4,6,4,5,4,6,6,1,4,7,7,6,4,5,4,9,5,6,3,4,4,7,8,6,7,7,7,6,5,5,9,8,8,7,5,8,8,6,3,10,3,5,7,8,5,10,10,8,6,7,4,4,5,4,3,4,5,5,7,4,9,5,5,4,4,4,5,4,5,6,5,8,10,5,6,1,7,3,5,7,8,9,7,7,4,6,6,5,10,5,6,7,12,5,7,6,5,10,8,4,8,6,4,5,7,5,5,9,5,3,5,10,7,7,5,4,3,7,6,6,7,4,6,6,2,3,3,6,5,5,4,11,6,3,2,9,3,7,4,8,6,5,4,5,4,4,4,2,8,5,9,6,2,4,5,10,7,4,4,5,10,3,3,5,8,7,8,5,5,5,8,2,7,6,6,5,3,3,6,7,3,3,7,6,6,7,6,9,4,3,6,6,1,2,4,4,4,6,7,2,4,7,5,11,1,3,8,1,8,4,8,8,2,5,2,5,14,10,7,8,10,4,2,4,5,5,3,5,4,6,3,4,4,4,4,4,8,5,6,6,7,3,0,7,7,6,3,3,3,7,5,5,4,5,5,8,4,5,6,4,7,9,7,8,4,6,6,3,9,6,1,4,6,5,1,8,3,4,2,7,9,6,6,2,2,6,9,6,7,4,5,4,3,5,11,1,4,5,8,6,3,5,6,2,5,4,4,5,5,5,4,2,2,3,3,0,9,7,4,5,6,3,6,7,8,3,4,7,10,6,5,6,5,7,7,5,6,7,4,7,5,5,8,2,7,8,4,2,3,5,7,3,4,0,6,4,7,3,7,1,3,4,13,5,7,5,3,5,5,8,3,3,6,2,2,5,4,1,3,4,7,6,7,3,1,6,6,10,4,8,0,3,6,1,6,4,7,8,5,10,9,9,7,5,10,3,4,3,5,5,6,4,6,10,4,7,5,1,6,6,5,7,3,6,4,2,4,5,3,7,4,3,3,4,7,4,1,2,7,1,7,3,9,2,5,3,6,4,6,6,6,1,5,5,4,4,5,3,4,5,2,6,3,6,7,3,5,8,3,4,7,3,2,5,8,4,7,5,0,9,4,4,9,7,7,8,6,6,9,2,3,3,6,6,7,6,2,7,5,1,2,2,6,5,7,6,2,8,4,4,5,7,1,2,4,5,2,3,2,5,5,6,3,7,5,8,2,1,1,12,5,4,1,3,6,4,7,3,2,7,3,4,2,5,8,3,4,2,6,6,6,3,3,6,5,2,3,5,3,5,4,6,7,9,3,5,2,6,4,2,8,4,7,7,4,3,3,2,2,6,2,3,4,7,1,3,5,2,4,2,3,6,0,10,7,5,5,4,5,3,2,3,4,3,1,3,3,1,5,5,4,3,2,1,5,1,5,1,2,2,4,4,3,7,4,5,3,3,7,4,6,3,3,6,5,8,3,5,4,2,2,6,6,4,6,4,4,4,2,6,3,4,2,2,5,2,4,4,4,5,4,4,9,4,4,5,9,3,6,6,3,3,4,1,1,4,4,3,6,3,2,4,6,4,5,5,6,7,2,4,2,6,2,4,8,7,3,6,4,3,8,2,4,3,2,1,5,4,8,4,3,4,3,3,4,7,2,5,4,1,2,5,5,2,2,3,4,6,4,4,6,3,5,6,3,4,1,2,8,6,6,2,2,5,3,7,4,4,2,5,5,5,2,3,7,2,7,5,3,5,5,4,9,3,4,0,1,5,4,3,6,5,2,2,3,7,3,4,4,8,2,2,4,5,3,7,6,3,3,4,4,4,3,5,4,3,2,0,3,8,1,3,1,1,4,4,6,5,9,3,5,5,6,5,4,2,6,4,3,1,4,4,4,10,4,3,5,4,2,4,5,3,2,9,8,3,9,3,4,2,3,2,4,8,2,3,8,4,2,5,5,5,3,7,2,5,4,3,12,4,4,6,4,4,0,5,2,6,1,1,7,5,3,4,4,3,4,1,2,2,5,3,5,5,3,5,3,2,7,1,9,4,3,3,5,4,3,3,5,3,2,8,1,6,2,5,5,3,8,5,7,7,1,2,2,6,6,5,3,6,8,6,7,4,6,8,4,5,6,5,7,4,4,4,2,3,3,3,6,2,4,6,5,3,1,4,2,6,4,8,5,6,6,2,5,5,4,6,4,3,4,4,4,9,5,2,7,9,5,6,2,4,4,4,2,5,5,3,3,4,6,4,4,2,2,3,3,6,3,4,4,3,1,3,3,7,5,7,3,2,2,1,2,4,3,5,4,1,2,2,2,3,4,3,3,6,5,4,4,4,2,4,8,4,4,1,5,6,5,8,1,3,5,5,1,4,3,5,4,6,3,2,5,3,8,5,7,1,3,6,10,6,7,9,2,7,2,7,4,2,4,4,0,4,4,5,2,2,1,5,2,4,7,2,3,4,5,3,2,3,3,3,4,3,2,3,6,4,1,5,3,5,3,7,2,1,3,0,3,0,6,5,3,4,3,2,11,5,3,4,6,5,5,6,7,2,5,4,4,4,4,2,1,1,1,7,5,3,10,2,3,9,6,6,3,2,5,4,3,4,4,5,6,5,1,6,3,3,2,4,6,5,1,6,2,4,3,8,7,3,5,5,5,2,4,6,9,5,4,6,4,0,2,2,5,2,4,1,5,4,4,2,5,8,4,4,4,7,2,4,2,7,5,6,7,7,6,5,6,4,4,7,4,5,2,4,4,5,5,3,2,4,2,4,1,4,3,2,6,4,6,1,3,5,3,4,5,4,7,4,3,7,4,3,6,4,8,5,3,7,7,3,4,0,3,4,7,6,3,6,3,3,4,3,5,4,3,5,7,7,4,4,5,3,4,3,2,7,3,3,7,4,5,4,3,4,3,2,3,8,4,5,6,3,6,6,7,3,2,5,13,5,8,7,4,8,3,6,5,7,2,3,5,3,7,6,5,3,4,2,6,5,5,4,4,5,4,0,0,6,3,3,4,9,2,9,5,3,7,5,1,6,5,4,6,3,1,3,5,6,3,0,4,13,4,3,5,2,5,7,5,2,4,10,5,1,4,6,4,6,3,5,3,4,5,7,6,6,7,5,4,2,6,1,3,5,5,3,4,1,3,4,7,3,5,8,2,6,4,0,9,6,5,6,4,3,6,4,3,2,2,10,3,1,7,11,6,4,7,5,2,2,7,3,4,5,3,3,4,6,3,5,1,2,6,1,4,4,9,6,1,5,2,4,6,8,5,7,8,4,8,4,3,8,2,5,3,4,4,0,7,6,3,4,6,7,2,3,3,2,2,3,5,2,5,3,7,1,7,2,5,4,4,3,9,9,3,4,3,2,5,4,6,4,7,7,3,4,5,2,3,3,7,5,5,1,4,2,3,5,3,0,6,4,5,3,5,3,5,2,4,1,4,3,4,4,1,5,4,3,8,2,5,4,6,5,1,3,2,4,5,4,4,3,9,2,2,7,3,6,6,2,1,9,5,3,7,7,3,7,2,5,6,8,4,0,4,5,3,3,2,1,2,4,4,7,0,5,1,5,3,3,4,8,9,6,3,5,5,3,5,7,8,6,6,4,6,8,2,3,3,6,4,3,5,4,5,6,4,6,5,2,5,4,7,7,4,4,3,5,3,3,8,4,2,3,2,7,5,5,9,7,5,2,6,6,10,3,3,5,6,8,7,1,7,1,5,8,4,6,4,4,5,4,7,3,5,2,3,7,3,4,5,3,2,3,6,3,5,4,7,3,8,6,4,1,5,3,4,3,7,6,3,2,7,5,4,6,4,5,6,3,4,3,4,6,6,5,4,3,2,1,7,5,7,1,6,6,5,8,1,4,6,6,5,4,2,8,9,3,3,6,2,9,3,3,3,7,7,6,6,6,6,6,8,6,3,4,4,3,3,5,3,6,6,5,1,7,5,1,6,1,5,3,2,5,6,5,6,6,6,8,9,6,6,6,5,9,2,4,4,4,4,4,9,8,7,4,3,6,4,3,8,10,9,3,7,6,11,5,5,7,7,6,7,4,5,8,3,4,5,7,6,6,3,4,9,8,3,7,5,8,9,4,9,2,3,5,8,9,4,9,7,9,5,5,4,0,3,7,4,4,5,5,2,10,9,7,10,5,6,4,2,8,4,3,5,6,4,5,7,10,9,5,12,7,3,3,2,6,2,8,5,1,5,3,4,5,4,14,5,4,5,5,4,10,4,4,5,8,4,3,7,4,3,3,5,3,9,7,3,3,4,5,5,7,12,8,6,9,4,5,6,7,3,8,2,4,7,10,5,7,5,8,5,5,8,4,8,7,8,5,10,6,6,5,2,5,9,11,3,5,5,9,6,5,1,3,8,9,3,7,6,4,3,8,7,9,9,4,10,5,2,7,4,3,9,2,5,7,7,3,5,8,12,2,4,5,9,6,5,11,7,4,8,8,6,3,10,1,9,4,9,5,4,4,6,4,9,12,6,5,11,11,4,7,6,6,5,3,6,7,2,5,3,4,9,12,5,11,9,5,3,8,5,3,5,6,7,3,4,11,6,4,7,6,3,4,6,5,4,7,1,7,7,4,8,8,4,6,3,4,7,5,6,5,4,5,8,6,5,10,6,8,7,6,4,4,7,1,7,6,3,5,3,7,9,7,9,9,10,6,4,7,6,8,8,4,5,5,2,5,8,7,7,6,2,5,6,7,5,6,6,7,7,5,9,4,8,7,6,11,8,7,6,7,7,8,8,8,13,8,7,10,10,7,7,8,8,8,7,10,8,5,5,4,8,10,3,7,9,8,4,10,2,4,7,5,13,6,0,3,7,10,9,5,4,16,7,8,8,7,10,5,9,5,6,4,8,8,7,6,9,6,4,8,15,7,1,7,4,10,9,7,6,9,4,6,5,5,8,6,7,8,2,4,8,9,5,10,5,11,7,2,4,9,7,4,5,5,9,10,12,5,5,7,4,3,5,6,7,4,5,11,4,7,6,5,6,9,6,6,3,6,4,8,5,6,7,7,7,5,6,5,11,2,3,8,13,10,3,13,11,10,6,5,5,6,10,6,5,11,12,7,9,8,4,6,4,5,9,5,3,2,5,4,8,7,4,6,7,5,2,4,4,7,10,8,2,10,5,4,12,7,6,7,9,8,8,9,12,9,8,5,3,6,4,7,7,12,5,3,8,5,6,5,8,6,6,10,5,8,5,7,10,7,9,4,8,2,10,8,4,10,6,5,4,6,8,10,7,6,8,9,10,7,5,9,8,6,5,6,9,6,3,10,5,8,5,12,11,8,8,6,12,8,12,10,10,11,6,5,2,7,7,7,7,5,3,12,11,10,5,4,8,6,8,7,3,10,4,7,9,7,5,11,9,7,9,8,10,1,4,7,5,7,9,6,7,12,8,3,3,8,9,6,11,5,8,5,7,9,9,5,12,12,10,8,9,5,6,8,7,7,9,8,6,3,5,8,8,7,9,9,8,6,6,7,13,7,14,6,5,4,12,6,2,10,12,7,6,7,11,3,6,5,5,11,9,6,8,10,7,11,6,7,7,8,2,10,6,11,11,4,11,3,5,6,6,9,4,4,20,3,6,6,5,8,8,8,12,10,10,8,9,5,5,8,9,7,5,7,4,7,8,7,8,12,6,4,8,7,9,6,4,7,8,6,10,6,9,13,8,8,3,5,11,7,4,9,8,8,5,8,9,9,8,6,4,7,4,6,12,4,5,5,10,6,8,8,5,0,5,13,6,4,10,10,8,12,8,11,6,7,6,5,11,7,8,8,12,9,5,11,9,12,12,8,4,7,8,11,11,10,5,7,6,4,8,6,11,9,9,13,13,10,4,6,10,5,1,10,8,7,12,4,8,13,8,5,5,6,13,9,6,6,2,3,13,9,13,6,11,9,17,10,9,9,5,10,6,8,9,10,9,6,7,6,10,7,12,5,7,10,7,10,11,6,9,7,12,14,12,5,6,11,1,11,6,13,10,6,9,9,11,11,10,3,6,7,12,10,14,15,9,6,9,12,4,6,6,8,9,8,3,13,6,12,10,8,12,9,10,11,8,6,10,7,4,6,7,3,8,9,7,7,11,4,7,5,12,8,12,4,2,8,11,6,7,7,7,12,9,10,14,6,5,4,8,11,5,4,8,3,4,14,7,9,15,8,6,10,11,6,7,6,4,9,8,7,9,7,9,13,4,10,5,8,10,5,7,5,10,12,4,7,7,6,4,8,3,9,13,6,8,7,9,12,10,6,10,10,7,6,8,6,7,15,10,10,10,8,8,13,7,6,9,7,8,5,10,11,11,10,12,6,9,12,7,9,8,6,12,8,4,11,8,7,8,3,4,8,9,8,10,5,6,9,9,6,8,7,10,4,5,6,6,10,9,8,12,5,9,9,4,5,13,11,5,8,14,8,2,7,9,8,7,5,13,7,5,8,14,14,11,4,12,13,6,16,7,9,10,8,11,6,8,8,4,7,10,12,9,4,6,12,9,10,4,9,9,4,5,10,11,10,7,8,6,4,3,5,7,2,7,5,5,8,7,13,9,13,3,4,3,4,9,6,6,4,10,5,2,9,5,9,10,13,13,13,6,11,4,4,6,11,9,9,7,8,7,7,9,13,5,7,5,11,2,13,6,8,6,7,8,9,5,8,8,10,10,9,6,6,5,3,11,8,13,10,9,7,11,11,8,10,10,8,10,5,6,6,9,6,3,8,9,9,8,4,6,10,12,8,12,9,6,6,10,7,14,10,9,6,6,4,8,8,8,12,8,8,9,10,11,10,11,14,6,10,12,10,9,9,5,3,9,8,11,1,7,10,5,14,7,12,8,9,5,14,8,2,4,9,7,10,11,10,8,8,7,10,8,7,11,4,9,9,10,13,10,6,7,4,10,6,10,12,14,12,6,10,9,12,9,11,6,7,3,11,7,6,11,6,6,15,6,6,9,10,9,17,9,10,8,3,9,15,9,14,5,3,8,13,7,5,13,9,6,6,10,14,9,6,9,5,7,10,7,10,7,10,10,8,13,8,9,9,7,9,10,10,8,8,6,9,6,11,6,8,4,7,8,13,6,6,6,8,8,14,8,10,4,8,7,7,9,8,6,5,12,5,3,13,9,6,7,15,6,4,7,8,6,9,6,13,7,17,7,15,12,10,7,13,14,8,6,6,5,12,6,5,10,11,11,7,8,11,10,11,5,9,9,12,10,6,10,12,7,11,6,9,5,7,8,12,9,5,10,8,10,6,12,10,10,12,8,10,9,11,11,15,8,8,8,10,9,8,11,3,9,8,8,6,9,9,5,9,2,11,7,7,6,15,10,10,11,11,11,11,9,6,6,12,9,15,11,8,13,9,4,9,9,6,4,9,7,10,14,11,8,13,9,12,8,13,5,11,6,6,14,4,13,5,9,9,9,4,13,10,13,5,7,8,5,10,9,15,14,9,6,9,13,7,7,8,10,5,13,8,5,7,3,10,5,12,8,6,13,9,11,7,9,8,8,15,8,13,6,13,9,9,9,16,7,9,13,13,8,13,11,11,13,5,7,6,15,7,14,9,9,7,13,13,9,15,8,16,7,14,9,9,12,5,10,14,11,6,9,10,7,14,10,9,12,12,11,11,8,14,11,5,12,13,10,9,10,10,18,5,7,8,8,14,12,10,12,2,14,11,6,8,7,7,11,11,10,11,6,6,7,8,8,12,6,14,8,11,9,12,12,14,9,8,10,14,7,11,9,7,8,6,7,10,6,8,7,9,13,16,5,10,9,8,6,9,9,11,10,9,8,6,15,9,10,12,8,8,7,5,13,13,9,3,8,14,8,10,17,10,11,11,9,9,5,13,15,6,6,6,6,7,9,10,12,8,11,11,12,6,6,11,12,11,10,11,8,8,12,7,12,9,2,8,14,9,8,10,12,14,15,6,13,8,7,12,5,11,17,16,8,7,9,13,8,12,11,7,9,8,11,19,10,13,5,10,9,9,7,11,7,10,3,13,7,8,14,10,8,3,8,10,6,10,7,14,11,9,5,9,11,10,9,13,11,10,8,14,11,2,9,9,3,4,9,6,5,14,9,10,6,11,5,10,9,13,5,5,14,7,9,6,10,4,8,9,5,7,9,6,12,8,9,9,12,13,13,8,12,5,11,8,5,12,11,7,6,11,6,9,6,14,7,6,10,13,14,10,13,9,10,5,11,9,11,8,11,13,17,12,9,14,12,10,9,10,12,5,7,7,14,10,8,8,2,9,7,7,7,10,8,11,14,9,9,13,8,12,7,5,8,7,9,7,8,10,9,12,6,5,16,7,10,9,16,9,13,11,9,10,8,8,4,11,14,12,12,9,15,5,10,13,8,8,10,6,3,11,9,11,10,9,12,8,13,13,9,10,9,10,9,13,12,12,8,9,7,6,10,14,8,11,7,15,9,10,10,13,10,15,8,17,6,9,5,4,11,11,6,7,7,7,9,5,9,13,12,10,11,11,9,7,14,7,7,14,9,11,8,12,12,8,13,11,7,9,10,17,6,16,9,16,9,10,9,8,5,6,9,10,10,9,14,9,7,10,11,10,6,9,7,12,11,9,11,10,11,12,13,7,11,12,11,11,12,7,13,5,8,10,7,8,10,10,6,12,16,11,14,13,14,9,11,12,8,5,9,6,13,10,13,10,9,9,8,13,5,9,9,14,12,8,8,15,5,11,7,24,6,14,10,3,15,12,12,11,16,15,12,13,12,12,12,7,8,14,8,7,12,8,7,13,6,9,15,3,5,8,10,11,9,13,15,10,6,12,10,9,6,9,10,7,15,10,8,15,11,15,11,7,8,15,12,9,8,6,7,6,8,10,9,10,12,11,11,7,9,11,9,12,5,6,8,11,6,14,8,16,12,8,9,9,12,8,6,10,7,13,9,13,9,13,15,9,10,5,6,8,6,13,12,19,3,11,12,12,13,12,12,10,13,13,9,15,11,13,11,8,10,5,11,9,8,11,9,6,10,7,11,10,17,11,5,12,11,14,12,7,8,12,6,8,9,9,11,6,7,9,12,13,10,14,7,8,11,16,8,18,12,10,10,12,13,10,5,9,9,13,11,8,5,10,16,7,9,8,12,18,11,9,13,15,6,7,6,5,11,11,12,13,7,13,18,9,13,12,13,5,8,10,6,9,8,10,12,7,5,11,16,15,11,9,13,13,10,14,7,8,8,6,6,10,16,10,9,13,11,13,9,8,16,9,9,10,14,10,12,7,17,10,8,14,12,10,11,0,10,12,9,13,9,7,11,9,10,10,10,7,8,7,10,9,13,6,9,4,10,10,9,12,8,10,12,7,11,2,8,11,13,22,8,19,9,7,10,6,8,7,14,5,5,11,14,13,13,13,8,11,9,11,7,11,9,11,7,6,10,13,9,12,12,11,11,14,12,9,10,10,9,5,10,5,10,12,10,10,8,12,9,5,9,6,12,7,8,15,10,7,14,9,12,11,15,13,6,11,11,11,16,10,15,9,8,7,12,13,12,14,18,10,13,6,11,13,12,8,5,8,9,10,6,12,9,6,12,12,11,11,10,6,14,11,6,12,9,11,15,8,17,7,8,16,11,9,13,11,10,6,8,10,6,11,9,15,8,7,8,9,10,7,13,12,9,13,11,9,3,14,7,8,15,9,11,9,15,12,9,9,8,11,9,15,11,7,3,11,14,11,10,4,13,9,11,10,5,15,5,10,12,9,11,13,7,9,9,7,8,14,14,12,8,15,1,7,9,8,6,17,7,12,16,4,8,9,7,10,10,13,6,6,12,7,3,10,14,9,8,11,15,10,15,11,11,18,15,9,12,8,8,15,7,14,11,11,7,7,8,6,15,7,12,8,11,6,8,15,9,9,10,9,11,15,5,11,9,18,16,9,9,10,9,7,9,10,9,9,7,7,10,10,11,8,12,11,13,9,11,6,8,14,9,10,10,11,4,8,10,7,8,10,10,9,10,12,13,13,7,8,5,14,11,20,13,14,12,11,8,6,11,15,11,12,7,9,14,4,7,7,14,7,16,5,12,11,7,7,12,13,7,10,8,7,14,8,11,15,6,10,10,15,10,7,5,8,20,10,11,12,9,10,14,6,6,8,14,13,13,12,11,8,9,10,16,11,9,12,11,8,4,7,10,9,7,12,11,12,15,8,10,7,10,11,10,11,10,11,12,13,13,8,5,7,7,4,7,6,8,6,6,11,3,4,13,9,10,12,12,13,10,10,14,7,7,6,5,8,9,3,12,11,13,8,9,9,5,9,7,10,10,14,8,11,12,10,10,11,9,8,10,9,9,8,5,6,8,12,10,19,6,7,10,7,10,8,12,10,7,12,11,6,6,11,7,9,10,8,12,16,18,7,12,8,8,4,8,11,11,8,5,10,8,8,10,9,11,14,7,11,9,16,11,13,12,14,9,11,10,9,15,7,8,9,12,9,10,10,8,11,10,10,11,6,6,11,11,14,6,10,8,14,10,18,9,12,7,17,14,16,10,9,10,8,7,4,14,8,8,9,9,10,5,5,11,15,8,12,11,13,8,11,13,6,11,8,11,10,14,12,10,7,10,10,6,4,5,10,7,12,12,11,4,6,12,13,18,5,12,11,17,8,6,11,10,8,6,14,9,11,8,20,6,10,12,11,13,8,13,14,9,7,13,6,9,4,6,9,12,7,10,7,16,8,5,8,7,8,10,5,5,12,8,4,12,11,12,9,8,9,7,8,11,12,9,3,12,14,7,6,10,14,10,15,4,8,7,13,8,11,7,8,14,7,11,6,6,8,12,9,11,8,15,9,9,11,5,10,15,15,10,15,9,9,16,13,11,8,8,12,11,11,15,20,13,13,9,11,7,7,14,12,7,11,13,8,6,8,11,12,11,18,12,6,9,8,7,12,12,8,10,9,16,12,10,11,8,14,10,12,4,6,13,6,4,6,10,7,11,8,11,8,11,15,7,13,14,10,7,16,13,13,10,7,6,9,9,13,11,12,11,10,8,10,10,9,10,11,7,13,8,11,12,7,9,8,12,12,14,10,9,6,13,5,7,6,8,9,10,9,14,15,8,12,15,6,9,6,12,8,10,4,13,6,5,16,15,15,4,12,11,13,11,6,9,8,8,12,6,7,18,9,11,3,13,17,6,9,9,11,8,12,7,7,8,11,13,9,8,13,12,9,11,12,4,8,10,11,10,8,10,8,12,8,10,6,14,6,6,16,11,10,24,7,4,8,12,7,7,5,12,6,13,11,10,8,15,13,11,13,8,12,4,3,13,13,6,15,8,6,14,5,10,8,6,6,9,8,4,17,7,5,15,10,12,7,8,10,9,12,8,8,7,13,4,18,11,7,6,8,13,13,8,12,5,8,11,12,14,13,13,10,13,11,8,9,6,11,12,3,14,19,12,15,8,10,7,5,12,6,7,13,8,12,8,8,16,9,12,9,10,6,5,11,6,6,9,7,9,8,7,14,10,15,11,10,10,7,16,7,8,21,14,7,9,19,12,6,9,11,12,14,10,11,10,13,12,8,7,9,10,12,11,12,8,8,8,6,2,17,12,15,11,13,8,10,7,16,9,11,12,11,12,11,8,13,11,14,6,8,13,8,14,6,10,9,5,8,19,11,8,8,12,7,19,13,9,8,6,11,15,5,14,8,9,17,13,7,5,7,10,8,11,10,14,6,7,8,8,5,12,13,7,15,6,10,10,9,9,11,9,8,10,13,8,6,11,11,11,14,13,9,16,12,8,9,6,17,12,9,10,6,5,8,6,6,10,10,4,8,7,3,10,12,10,10,11,12,14,10,8,7,8,10,11,7,11,9,14,9,9,7,9,10,8,9,10,10,13,13,9,12,10,11,11,10,10,6,8,12,11,8,15,11,17,10,5,7,22,12,15,10,11,13,6,14,10,4,11,10,7,13,14,15,12,11,9,6,11,6,9,11,10,8,7,12,8,7,14,8,10,10,15,9,14,7,6,10,12,12,11,13,9,8,14,11,6,9,7,5,18,14,8,18,17,11,12,5,13,5,6,8,12,7,13,8,14,5,10,7,10,6,10,10,13,11,16,5,9,19,8,15,10,6,11,11,9,21,13,6,8,10,6,9,14,10,9,14,19,19,14,7,8,9,9,17,12,10,9,10,14,7,10,18,15,9,8,11,19,15,8,14,8,12,13,12,9,12,9,17,12,17,15,15,9,11,14,4,12,11,11,10,7,12,7,9,15,7,22,5,8,9,7,4,7,16,13,13,7,15,7,11,11,9,10,14,10,15,15,8,13,15,12,17,13,4,13,12,9,7,9,15,8,8,12,8,11,8,6,11,12,5,17,6,13,10,6,14,10,8,10,8,8,4,18,13,9,11,18,5,18,11,8,6,8,11,13,6,13,14,13,6,9,4,12,11,12,13,17,10,8,9,11,11,7,9,11,17,16,12,6,11,15,10,10,9,11,13,12,10,10,7,10,19,10,13,8,15,15,16,10,9,10,16,11,12,8,15,10,20,9,4,10,20,12,12,14,11,13,12,16,11,9,11,7,14,12,10,5,19,11,5,16,11,8,14,12,11,9,10,11,12,10,15,12,10,5,11,16,13,9,9,13,9,15,10,17,7,17,14,16,10,9,8,4,9,13,8,15,7,9,14,12,12,7,14,7,14,8,9,8,11,14,7,10,12,11,7,15,14,9,12,10,11,14,10,14,11,9,16,17,10,14,9,10,6,14,12,7,13,10,11,9,12,8,6,17,14,11,14,7,10,12,13,16,13,16,11,11,5,9,7,12,7,14,18,9,19,9,10,11,14,16,13,14,11,12,16,14,8,7,16,10,16,7,10,13,10,10,13,10,10,16,8,15,18,14,13,15,15,14,12,14,9,11,14,13,10,8,8,11,14,15,7,19,17,16,15,12,15,12,14,17,11,15,15,9,4,9,17,10,13,9,15,15,11,10,8,9,10,12,14,11,14,10,17,14,12,12,9,13,18,12,10,6,9,9,21,14,12,10,11,9,11,15,11,13,11,13,18,10,13,17,14,10,17,12,17,8,7,13,20,14,12,13,9,12,13,8,12,15,10,13,7,7,6,12,10,9,13,14,10,10,14,8,15,15,13,14,16,18,14,13,10,8,11,12,16,9,12,9,17,14,10,16,9,14,7,14,16,15,12,10,12,21,11,14,8,15,9,14,17,9,12,18,14,8,24,13,12,18,14,14,19,10,12,12,7,10,20,14,7,11,12,14,11,15,10,16,15,15,8,9,10,11,14,8,10,18,17,12,12,17,16,18,12,11,11,16,10,10,17,16,10,17,12,17,14,14,16,13,13,18,16,13,11,17,12,11,7,11,7,14,10,11,10,18,9,17,7,11,12,24,12,10,13,10,9,11,14,15,22,15,7,18,16,16,11,16,13,11,11,14,11,9,15,8,13,16,13,11,10,15,13,13,15,12,11,9,13,11,11,19,20,14,18,19,14,22,21,17,7,15,9,18,14,21,18,12,15,11,14,11,16,9,10,13,12,12,17,8,22,14,12,12,14,14,10,10,15,9,13,14,16,10,11,13,9,18,16,11,15,12,17,11,8,15,16,13,15,13,15,9,17,12,13,10,18,16,10,7,14,18,18,21,16,17,15,11,16,10,13,14,13,12,14,8,23,15,11,18,15,17,18,14,13,13,14,13,23,15,17,18,13,19,16,14,21,16,16,10,8,16,10,15,13,9,16,22,8,12,8,11,16,15,14,16,11,12,13,11,16,8,18,12,11,9,13,11,15,8,17,9,7,12,16,12,12,14,16,17,14,9,14,13,13,12,17,15,27,14,21,20,10,11,15,16,13,18,13,19,17,17,15,21,15,16,9,19,14,11,14,13,15,12,8,17,20,16,12,22,15,17,14,14,20,14,19,16,21,17,17,21,18,17,15,16,24,18,20,17,16,14,15,10,20,13,16,16,18,11,22,17,19,10,18,20,11,14,12,22,13,16,12,21,22,8,23,13,16,10,17,9,17,16,18,17,11,14,16,15,20,16,13,21,7,15,11,15,14,26,16,19,17,12,16,17,21,10,15,14,14,14,15,12,19,22,18,13,14,14,17,15,17,26,8,20,8,12,18,22,10,13,13,19,15,18,14,22,12,12,23,24,18,12,20,14,12,14,14,11,17,19,15,18,16,21,11,12,12,9,20,15,17,22,11,17,21,14,20,20,11,19,12,21,18,20,12,14,18,14,25,13,27,18,14,19,22,13,18,18,22,19,24,25,18,16,17,17,13,18,16,17,11,18,12,15,28,17,17,19,18,12,29,14,8,16,18,19,17,18,16,15,27,14,20,15,18,14,24,14,11,21,18,7,14,15,16,17,19,18,21,13,18,20,21,14,21,13,15,19,18,13,12,21,17,29,20,15,21,16,15,21,20,13,20,24,18,15,11,13,14,20,10,16,17,20,17,21,18,20,17,17,20,16,17,20,17,22,19,15,14,16,15,25,26,12,20,21,12,26,17,19,20,16,21,13,16,16,11,7,23,18,17,18,23,14,11,15,19,18,14,22,21,18,16,20,20,18,17,22,19,25,15,22,16,22,25,19,17,16,18,16,15,25,25,11,22,15,17,31,19,17,13,20,22,24,17,23,21,22,12,31,21,19,23,14,21,15,13,22,10,24,24,20,14,27,24,23,13,15,16,19,27,20,26,11,14,18,19,19,21,12,21,24,24,16,23,21,13,23,21,13,22,14,23,14,20,16,17,20,12,30,17,20,17,23,21,19,14,11,19,22,14,23,23,19,31,23,18,17,19,28,25,25,15,17,19,21,20,20,19,17,20,20,21,17,33,24,16,17,21,18,15,23,24,23,20,26,21,24,27,22,30,15,20,23,15,18,12,18,17,24,18,25,22,26,15,25,15,20,32,22,31,26,18,19,22,15,32,22,18,18,15,24,24,23,23,21,19,25,14,21,17,28,26,21,24,15,14,23,26,22,20,32,19,17,16,15,27,22,25,20,37,16,28,20,20,25,30,25,24,21,24,29,24,19,28,18,23,31,19,26,30,15,25,20,20,21,28,21,28,30,35,28,24,35,31,20,26,35,21,22,17,31,21,28,23,30,24,33,30,29,22,29,29,27,24,26,16,22,26,25,29,21,25,25,17,18,24,17,26,24,23,37,20,20,28,24,26,33,28,17,21,17,36,22,22,21,29,30,31,26,26,24,32,22,25,23,23,23,22,23,38,18,27,23,29,28,26,24,24,26,24,24,33,28,26,32,26,35,28,35,22,34,17,33,20,32,30,27,21,33,27,30,25,35,30,33,32,19,26,26,35,30,35,33,33,29,27,24,34,36,24,29,27,26,24,31,26,23,31,25,35,25,18,25,30,28,30,14,36,29,38,29,35,26,26,28,27,27,27,28,28,36,33,33,37,29,31,32,29,23,26,32,29,33,32,21,44,31,27,40,33,30,32,34,32,31,39,36,27,41,29,26,28,24,33,26,28,26,25,31,37,25,28,35,26,31,39,23,34,33,37,31,35,35,32,35,30,38,39,33,20,36,28,22,34,32,34,35,24,27,33,53,41,35,28,29,30,41,30,30,30,30,26,27,36,22,30,32,35,33,40,38,29,24,30,28,28,36,30,36,27,35,38,47,28,41,35,29,41,41,40,35,41,36,38,29,49,32,25,47,39,30,29,37,48,41,43,24,41,39,40,29,42,31,38,32,32,31,35,37,37,40,35,36,46,34,44,43,39,39,40,39,42,41,29,39,32,51,45,36,34,39,42,42,32,43,39,46,36,43,23,33,36,37,37,44,42,31,38,41,34,30,40,47,32,37,27,34,38,41,36,50,39,41,40,42,39,45,36,49,35,47,44,38,32,51,43,44,36,35,50,32,38,37,47,51,46,41,42,43,35,44,44,36,44,39,44,43,44,40,51,48,40,48,62,55,46,56,48,40,35,43,44,48,52,46,39,55,51,41,56,52,47,41,50,37,37,44,46,54,60,47,38,43,57,58,50,46,36,41,50,45,49,54,48,46,43,42,35,55,47,62,48,50,41,48,58,42,40,61,61,52,45,41,49,55,46,54,43,53,49,52,46,50,46,53,48,59,56,44,52,49,46,50,62,59,53,53,36,48,42,50,53,51,60,52,58,47,50,62,62,56,54,50,54,52,54,45,66,59,61,65,59,52,69,57,56,47,50,62,56,67,45,52,49,62,58,66,73,63,55,53,72,60,54,55,49,53,50,58,75,75,65,55,65,54,60,58,53,65,67,58,64,72,56,69,65,53,64,70,59,57,55,77,70,60,68,82,48,63,72,57,87,71,83,69,72,62,78,72,78,64,71,65,55,63,58,68,61,67,62,55,66,68,59,60,73,65,67,65,57,63,87,79,76,70,73,66,71,65,61,69,78,76,61,68,84,76,55,71,73,73,59,66,57,68,74,79,72,80,71,64,79,74,68,84,75,76,77,78,75,75,72,73,71,74,69,64,83,87,77,80,90,77,83,78,88,101,70,79,87,76,94,79,67,86,84,89,89,69,80,89,76,92,94,96,78,80,79,86,78,79,94,103,71,91,69,86,81,87,85,84,90,105,93,87,87,95,108,79,83,108,95,111,92,103,104,97,106,99,98,89,99,104,101,93,99,88,86,115,93,120,89,88,101,107,103,106,100,91,100,105,114,106,107,82,110,83,95,130,98,109,119,101,93,103,113,104,111,128,102,119,104,109,104,116,139,98,127,140,113,108,108,115,115,115,119,113,121,107,135,117,117,136,124,116,116,125,135,116,132,129,128,150,127,131,128,127,129,129,143,128,139,139,131,129,118,121,144,137,149,138,137,160,143,128,129,131,144,142,128,131,166,157,142,143,110,125,149,138,138,139,139,152,142,155,147,171,146,143,136,156,132,146,146,164,171,150,136,154,172,152,140,165,161,156,160,173,177,149,165,147,144,182,185,173,193,168,174,193,141,157,187,188,195,165,163,168,181,184,190,190,206,167,202,182,210,186,195,184,194,184,187,201,204,197,194,204,202,206,194,181,185,228,214,214,211,187,198,193,194,219,203,212,194,217,217,216,208,225,231,220,250,232,214,214,226,222,233,211,244,255,227,232,227,252,259,245,214,240,229,232,240,244,229,258,243,242,259,235,248,249,261,254,256,254,242,216,266,249,266,264,241,249,283,272,257,252,245,271,296,285,283,287,284,265,246,283,315,276,285,303,311,273,314,302,284,314,268,327,304,311,307,276,314,305,353,356,314,329,291,339,328,304,306,293,319,337,371,312,326,326,345,350,318,358,337,324,354,336,329,333,341,348,347,341,337,371,333,353,361,363,329,386,402,381,358,360,382,350,340,378,349,358,350,386,393,358,392,369,362,366,389,384,379,397,387,380,361,407,397,378,412,390,398,393,388,406,405,434,407,381,443,440,451,392,430,440,410,415,456,447,409,423,420,438,424,435,446,448,442,435,420,461,457,434,443,464,462,467,398,474,469,435,462,430,425,469,462,486,450,458,460,495,469,405,470,475,511,478,460,484,472,477,516,484,472,530,516,505,500,495,496,482,471,483,499,471,521,488,508,497,497,470,540,468,497,554,529,529,519,523,502,509,509,489,527,487,463,509,489,541,477,525,494,544,517,492,497,546,514,494,514,523,518,532,512,501,520,558,531,532,546,515,507,527,483,539,563,523,533,507,506,532,534,494,512,528,520,524,533,504,551,539,531,520,495,520,468,548,530,515,514,513,523,521,480,521,532,483,515,474,479,519,473,511,514,547,523,545,521,503,497,525,485,518,481,506,498,482,531,509,482,478,498,481,454,487,522,482,482,498,502,481,465,502,462,492,494,487,469,487,487,480,485,445,474,479,487,450,417,477,418,459,461,502,509,489,428,473,472,460,475,455,448,455,417,447,451,441,478,444,427,413,460,418,456,438,409,418,407,440,425,435,396,408,414,393,380,445,383,444,409,406,371,448,418,396,422,429,364,415,383,401,383,393,398,376,367,339,404,357,388,397,370,341,371,352,390,374,344,369,369,354,372,332,367,334,378,332,347,374,339,379,359,341,335,330,321,321,345,321,346,336,336,351,310,343,285,338,328,320,297,305,286,335,309,305,307,266,305,261,275,295,317,315,309,311,287,270,276,245,282,286,262,267,292,290,271,266,240,262,278,269,240,255,230,257,270,247,272,250,260,248,254,239,239,255,252,250,264,227,252,219,231,242,230,257,235,243,237,232,226,263,247,221,230,231,212,234,209,223,204,205,224,227,221,214,204,234,198,190,213,186,208,223,195,206,214,170,179,206,179,185,205,184,192,195,169,177,193,170,199,209,166,203,170,162,181,174,178,196,171,186,175,149,177,150,170,160,166,158,160,173,145,177,162,170,176,170,161,148,156,166,166,151,165,141,142,155,165,151,120,149,152,131,139,140,110,130,125,136,133,170,142,134,121,117,150,125,129,131,137,136,128,130,134,124,134,132,127,111,116,110,137,136,129,111,130,122,112,136,122,114,132,110,145,106,120,145,128,114,97,126,105,104,120,100,102,106,136,94,111,109,110,107,118,104,119,102,95,115,105,104,89,104,112,91,82,95,104,90,91,87,96,100,112,96,105,99,95,92,103,106,86,97,78,89,91,98,98,99,81,81,82,75,81,95,96,79,91,69,71,74,83,84,76,92,69,74,75,73,75,80,80,67,86,77,86,74,82,74,75,76,75,84,80,71,67,75,72,70,66,96,62,82,64,67,61,82,61,62,75,82,77,68,67,59,61,69,72,68,79,72,71,65,54,60,53,70,52,64,52,68,68,76,70,59,59,62,71,72,60,59,76,53,68,78,61,56,60,66,65,59,54,64,53,56,53,56,54,47,66,63,55,44,56,49,52,45,68,55,52,49,51,48,55,55,59,47,48,49,51,45,66,66,58,53,56,53,35,37,52,47,46,53,43,51,43,47,58,51,46,51,47,56,49,49,49,60,46,42,50,47,44,59,60,40,42,51,45,48,43,33,52,54,29,48,47,34,55,52,44,50,48,49,42,53,41,49,46,37,47,40,47,50,34,52,33,35,48,42,48,41,35,32,46,38,37,31,49,37,38,38,47,44,39,39,28,40,31,37,35,39,36,25,35,39,33,49,35,37,36,37,36,37,25,41,31,32,30,40,36,35,35,38,30,38,32,33,36,38,23,38,27,39,35,30,32,33,32,33,27,28,31,41,27,28,28,40,33,25,27,33,36,31,28,41,17,35,32,39,34,30,22,36,36,33,40,23,31,32,35,26,27,31,29,29,23,28,27,34,27,30,35,33,26,37,33,34,32,37,33,26,25,20,28,30,25,22,30,34,34,23,32,28,31,19,28,29,23,23,25,33,28,35,28,21,21,24,34,20,28,35,24,28,22,28,27,32,20,25,33,25,17,33,24,21,27,24,23,29,30,27,30,21,28,29,18,29,23,17,15,19,20,28,14,20,24,21,27,24,32,20,20,27,25,20,20,30,19,19,25,31,17,24,18,36,31,35,19,21,28,29,20,22,15,22,25,24,22,22,26,16,28,18,26,19,17,21,21,23,25,22,18,26,21,20,20,21,22,25,18,21,26,20,16,16,26,28,21,23,21,17,13,14,20,23,28,32,20,28,22,15,19,15,22,20,8,24,15,16,14,18,18,25,24,20,17,23,19,29,12,13,11,17,9,23,26,13,19,16,21,18,19,21,19,14,13,22,22,13,20,22,16,15,21,11,29,14,17,25,11,24,14,27,13,14,19,25,13,15,24,15,15,19,13,18,12,19,16,21,19,20,20,15,18,22,15,13,20,13,22,16,17,12,9,17,24,14,14,14,11,19,14,15,14,17,13,26,21,10,19,15,20,16,15,17,17,11,15,19,15,16,12,14,22,17,18,19,19,19,11,11,15,16,17,14,21,19,16,8,17,17,12,18,21,13,17,15,23,8,11,16,14,14,11,12,23,16,19,14,21,15,17,11,15,10,16,10,13,13,15,7,10,10,13,14,13,16,16,13,26,17,12,18,13,17,11,11,11,17,12,19,15,17,17,6,9,9,12,18,10,14,13,14,11,15,16,18,9,13,10,20,10,10,11,16,15,10,15,12,16,15,15,12,17,11,13,12,14,16,11,7,13,15,6,17,14,9,15,10,11,11,8,5,10,8,11,10,19,10,13,11,13,8,12,14,4,11,12,14,4,10,12,9,19,12,8,11,9,11,15,12,11,13,12,13,8,10,10,17,11,13,14,15,12,11,15,12,12,10,9,9,10,12,14,11,14,5,18,7,10,10,12,13,10,9,12,9,8,9,7,14,9,11,8,10,16,9,12,9,15,9,8,7,12,6,14,15,9,13,8,15,14,10,18,15,10,11,6,5,15,14,8,13,17,16,5,7,6,10,9,12,10,6,13,10,14,11,12,14,9,17,15,8,11,3,7,10,9,11,8,5,6,6,13,5,4,15,10,10,8,9,9,15,5,13,6,8,11,6,11,8,6,8,8,8,12,11,7,7,7,14,10,17,7,8,10,7,10,12,11,11,11,6,7,11,1,9,9,4,3,16,8,9,12,3,8,12,11,11,13,9,10,7,11,8,6,11,9,8,9,8,7,10,6,7,10,6,10,9,6,14,6,8,5,9,11,6,6,6,6,8,10,7,12,8,9,9,6,8,10,11,9,9,7,2,7,7,3,8,9,6,9,7,6,17,10,10,8,6,12,12,6,8,6,10,8,9,9,6,7,15,10,5,9,9,11,7,9,9,9,6,8,3,7,6,13,7,8,7,9,6,10,4,9,6,15,12,6,7,12,10,8,4,1,11,3,6,7,3,10,13,14,11,5,8,7,12,8,10,8,9,7,10,7,12,4,6,6,4,9,6,4,8,6,8,4,6,7,6,9,7,7,6,7,4,7,11,7,5,7,11,5,4,3,6,11,8,3,11,2,2,7,8,8,8,9,4,8,6,6,6,8,3,8,5,9,8,8,6,11,6,7,7,7,2,5,8,8,11,5,10,4,9,5,8,3,6,5,6,8,8,6,8,4,3,12,8,5,9,4,5,9,6,8,13,7,5,11,11,10,9,5,6,5,5,3,8,5,7,4,10,5,7,5,4,5,5,6,10,5,5,5,5,7,8,2,3,8,7,12,11,5,8,8,5,5,7,4,7,7,9,10,3,9,4,6,1,4,8,5,4,8,4,6,10,4,8,7,9,5,4,7,12,3,8,4,6,5,8,1,3,4,10,12,8,4,3,4,5,3,3,5,7,7,7,9,7,5,4,7,5,7,3,6,4,8,1,12,4,7,7,8,5,5,6,9,7,3,5,9,5,6,4,10,9,7,5,7,6,10,7,6,8,2,4,7,7,9,9,3,8,4,7,8,6,3,4,3,4,10,10,5,5,8,4,4,3,5,5,3,8,6,2,4,4,5,7,6,10,5,11,6,7,5,7,3,3,6,3,3,5,3,12,4,5,8,6,3,7,2,4,5,6,4,4,8,5,2,7,9,6,8,5,9,7,4,7,5,3,8,4,7,7,2,1,11,5,5,2,3,2,4,9,3,10,6,10,11,4,6,5,10,1,6,10,5,5,5,5,3,6,4,3,6,3,4,8,5,6,8,3,4,10,5,8,8,5,3,6,7,5,5,7,3,4,6,7,5,4,5,3,6,5,4,5,5,4,1,3,4,2,5,5,3,8,6,6,9,5,5,4,6,3,3,6,7,1,9,5,6,7,6,2,2,2,7,2,4,7,9,5,6,4,8,3,3,9,10,3,7,6,6,3,3,4,7,4,6,5,6,2,5,4,3,3,3,9,4,4,1,6,5,6,5,4,4,4,3,6,7,2,5,3,5,5,3,11,6,5,3,5,6,5,4,4,4,7,3,2,4,5,1,6,2,4,4,3,3,8,5,3,3,7,2,4,2,12,3,6,1,7,8,3,3,6,1,7,5,4,6,5,6,3,5,3,3,7,6,4,5,2,3,4,1,0,4,6,6,5,2,5,6,5,5,5,5,4,6,6,2,1,5,6,7,4,4,3,4,6,5,4,4,5,6,2,5,5,6,2,10,6,3,6,6,7,3,4,3,4,4,7,4,3,5,7,4,6,6,3,2,2,4,2,8,2,4,1,2,4,7,0,3,2,2,5,5,3,5,2,4,4,2,4,5,6,3,4,4,10,4,2,3,3,6,5,6,4,9,7,5,2,5,5,2,3,3,2,1,5,7,2,3,3,4,5,4,3,6,5,3,6,3,1,5,10,4,2,4,4,3,6,4,7,2,4,4,2,5,3,7,6,2,1,5,3,3,7,4,2,8,3,6,1,5,4,9,5,3,4,5,4,3,2,1,3,3,3,3,4,2,2,6,3,6,7,4,2,5,3,3,10,6,3,4,3,3,1,3,9,3,6,2,4,3,4,3,2,2,3,1,3,0,1,4,7,2,6,5,4,2,6,1,3,0,2,6,5,2,5,5,4,3,5,2,4,3,4,4,2,0,4,4,1,1,4,5,3,2,7,5,1,4,5,6,3,5,9,4,0,5,2,3,5,6,0,2,0,4,5,5,3,4,4,3,8,5,4,2,2,2,3,4,2,3,2,2,2,3,3,5,5,1,4,5,1,3,2,2,2,2,2,4,8,5,4,6,5,2,7,4,1,0,3,2,1,2,2,4,3,2,2,8,0,4,5,3,0,4,3,4,5,4,3,5,0,2,5,3,4,2,2,3,1,4,6,2,5,2,4,4,3,4,4,1,4,2,3,6,3,4,2,4,5,4,2,0,2,3,2,4,0,3,4,2,5,4,4,1,5,2,3,4,7,4,3,8,4,2,2,2,2,7,6,3,8,4,3,1,3,1,5,3,6,0,1,4,4,2,4,2,1,6,2,3,3,4,4,5,2,3,3,2,3,7,0,3,2,3,2,1,1,2,1,4,5,3,1,4,5,2,3,3,8,8,0,0,5,0,1,4,4,6,5,2,2,1,3,1,2,2,2,4,2,3,0,3,1,2,3,2,3,3,4,1,2,0,4,7,2,1,6,4,2,2,4,5,5,4,3,5,1,3,2,1,4,2,4,5,4,2,1,2,4,5,5,3,1,2,4,5,3,4,2,5,1,2,2,0,5,3,2,6,3,3,4,1,1,3,1,4,5,2,0,2,4,2,2,2,1,5,2,4,1,4,3,0,4,5,7,1,4,0,3,2,5,2,2,3,1,3,1,6,5,3,6,5,4,2,4,5,2,4,4,4,4,3,6,2,2,4,2,1,3,3,0,2,1,7,2,3,4,1,0,1,2,2,4,1,5,3,2,3,3,3,5,3,3,3,1,2,4,1,2,1,2,1,2,1,2,2,2,3,3,3,5,1,3,3,6,4,4,2,1,0,3,5,3,3,1,3,6,0,0,0,1,0,3,1,3,4,4,3,3,1,4,0,2,5,5,4,2,2,3,3,2,1,4,1,3,2,2,1,2,0,2,1,6,1,3,0,3,2,1,0,3,2,3,3,4,3,2,2,5,1,3,3,3,7,5,4,1,3,3,3,2,3,4,0,1,4,1,2,5,1,5,1,2,2,4,4,3,2,0,3,2,1,5,3,0,3,5,1,1,4,1,2,2,1,1,2,3,3,4,1,3,2,3,3,3,5,3,3,4,1,1,4,6,1,1,0,1,4,4,3,3,2,2,4,2,4,4,5,4,2,3,3,1,1,5,3,4,6,7,4,4,4,0,3,5,2,1,2,0,4,3,1,3,1,2,3,3,5,5,2,3,2,3,1,2,5,3,3,4,4,3,4,4,3,3,3,3,1,3,3,0,1,6,3,1,4,4,4,2,3,1,4,0,2,2,1,3,3,5,2,2,2,1,2,3,5,6,3,2,5,1,2,6,2,3,1,2,2,1,0,5,3,4,5,3,5,1,1,2,3,1,3,5,5,0,2,2,3,1,6,3,5,5,4,2,1,3,2,2,1,1,0,1,0,1,4,3,3,2,1,2,3,4,5,1,3,2,2,1,3,2,1,3,1,3,2,3,2,4,3,2,1,1,1,6,2,2,5,0,4,3,2,1,2,1,1,4,5,2,3,1,3,2,4,2,4,2,2,0,2,3,2,2,5,1,3,3,1,4,3,3,0,4,0,2,1,1,1,6,3,4,6,0,4,1,5,1,4,1,3,1,5,3,2,5,2,1,3,1,1,1,1,1,3,4,1,2,2,3,3,0,2,1,1,1,4,0,2,3,0,3,1,3,4,2,2,4,2,2,5,4,0,3,1,1,2,1,3,1,1,2,2,2,4,0,4,2,3,2,2,2,1,0,2,2,1,3,0,0,1,2,4,1,2,5,3,2,1,1,1,5,3,2,0,1,4,3,1,2,2,5,1,1,1,2,5,0,2,0,2,1,2,1,0,2,1,0,2,4,1,1,1,2,2,2,2,1,1,4,1,3,1,3,5,3,6,1,1,1,1,3,0,3,2,1,5,1,2,1,3,0,1,1,3,1,1,1,2,2,3,1,1,3,1,2,3],\"v1\":1,\"n1\":6,\"v2\":[2,4,3,2,3,0,4,2,2,3,2,2,2,5,2,3,0,1,1,4,5,0,3,2,1,4,3,4,1,0,1,1,3,4,2,8,1,0,1,3,1,0,2,0,1,3,0,3,1,2,2,1,1,2,2,4,3,0,2,3,2,4,2,1,5,1,5,5,3,1,3,3,0,1,1,2,2,1,1,1,1,3,0,1,3,6,1,0,1,7,4,3,0,3,1,2,2,3,1,1,4,1,0,2,2,1,3,3,0,1,1,1,1,1,2,0,3,2,2,2,0,2,1,1,1,1,2,1,3,2,2,5,1,2,5,1,2,2,2,1,2,1,2,2,3,0,7,1,3,2,4,1,2,1,4,2,0,2,2,1,3,0],\"v3\":1,\"n3\":6,\"v4\":[2,1,0,5,1,0,3,4,2,2,0,3,0,1,2,1,1,3,3,5,1,3,2,3,1,4,3,0,2,1,2,1,1,1,2,2,1,3,0,5,1,6,1,1,3,3,0,1,3,1,0,1,2,1,3,0,2,1,7,1,4,3,3,0,2,3,3,0,0,2,1,0,1,1,4,0,2,2,0,6,3,3,2,1,1,1,0,3,0,1,2,0,3,2,1,3,1,2,2,0,2,2,2,0,1,0,0,5,1,0,3,0,3,1,2,0,3,0,1,0,1,4,1,3,3,0,4,8,4,0,0,3,3,1,1,1,1,1,0,2,2,3,0,1,0,1,0,2,2,1,2,1,0,0,0,4,2,1,0,2,2,2,3,1,1,1,1,1,0,0,2,1,1,2,1,0,1,0,0,0,0,2,1,3,1,2,5,1,1,2,2,2,1,2,5,0,2,2,3,1,4,1,4,3,2,3,0,4,4,0,1,2,2,2,3,1,2,1,3,3,1,0,3,2,3,2,1,1,1,1,1,3,2,0,0,1,6,0,2,0,2,1,1,0,1,1,1,0,2,4,1,2,2,3,4,2,3,3,4,2,3,0,2,3,0,2,4,2,1,0,5,3,2,1,3,0,1,1,2,1,1,3,1,2,0,1,0,0,5],\"v5\":1,\"n5\":7,\"v6\":[3,4,3,4,1,2,0,2,0,2,3,6,4,2,2,3,2,0,0,2,4,2,2,2,0,0,0,3,0,0,4,0,2,2,0,3,1,3,1,2,1,0,0,1,1,4,1,1,1,2,0,2,1,2,2,2,0,3,1,4,2,2,1,1,3,1,0,0,1,0,2,1,2,4,1,0,2,0,0,0,3,4,1,1,1,2,0,3,0,2,2,0,1,2,2,2,3,0,0,2,1,0,1,1,1,2,2,4,4,2,0,1,1,2,2,0,1,2,1,2,3,3,4,2,0,3,0,1,0,1,3,0,0,4,1,1,2,1,3,0,2,0,0,2,1,0,0,1,0,2,3,1,2,1,1,1,2,3,1,4,3,2,1,3,0,2,1,1,3,0,1,1,6,4,4,1,1,0,0,0,1,2,2,1,0,1,0,1,0,0,2,0,3,0,0,1,1,4,1,2,3,3,1,0,1,0,1,2,1,0,0,3,2,0,0,2,4,0,2,1,1,0,3,2,1,1,0,2,0,2,3,1,5,0,0,0,1,0,1,1,0,3,0,2,1,0,1,2,0,3,2,2,0,0,0,0,0,1,1,2,0,2,0,0,3,2,2,3,1,0,3,2,0,0,1,0,2,1,1,1,4,0,1,0,2,1,0,1,5,0,1,4,0,2,2,1,1,2,3,1,0,1,2,1,4,1,3,1,2,3,0,1,1,0,1,2,3,3,1,3,2,2,1,1,2,2,0,1,1,1,2,1,0,0,1,2,0,0,3,0,3,1,1,2,1,1],\"v7\":2,\"n7\":7,\"p8\":12930,\"v8\":[1,5,2,3,3,1,1,4,1,0,1,1,6,3,2,2,2,0,3,3,0,1,1,0,0,2,2,3,0,2,0,1,0,1,1,1,2,2,3,2,1,1,0,1,3,2,2,2,3,1,1,1,2,1,0,2,1,0,0,1,2,1,0,1,1,2,2,4,1,0,0,1,0,0,1,2,2,1,1,1,1,3,0,0,1,2,1,2,2,2,1,2,0,1,1,1,5,0,0,1,2,1,3,3,0,2,2,3,2,1,1,1,1,0,0,0,0,1,2,1,1,3,5,1,0,1,3,2,0,2,2,2,1,2,1,2,1,1,1,1,2,3,0,0,0,1,2,1,3,2,1,1,3,1,2,0,1,1,3,3,0,1,1,2,1,1,2,2,1,1,1,0,4,1,0,1,0,0,4,2,2],\"v9\":1,\"n9\":6,\"v10\":[2,1,1,0,1,2,2,1,2,4,1,1,2,2,1,0,2,0,3,1,1,1,2,0,1,0,0,0,0,1,1,3,2,0,2,3,2,0,0,2,0,2,0,2,1,0,0,0,1,1,2,2,3,1,4,0,2,0,0,5,0,3,2,4,0,1,2,2,5,0,1,4,0,0,3,0,1,2,2,0,2,1,1,3,1,1,0,0,1,1,0,3,2,2,1,0,3,1,1,2,0,2,2,1,1,0,0,0,2,1,0,1,2,1,0,0,2,1,3,0,2,2,2,0,0,1,2,1,0,1,0,1,1,0,1,1,2,1,4,1,0,0,1,2,3,3,2,0,0,1,0,1,2,1,1,1,0,2,2,2,1,4,0,1,0,3,2,0,1,1,0,2,2,1,0,4,1,1,1,2,2,2,0,3,3,3,0,2,0,1,0,3,1,2,0,1,1,0,0,1,2,5,0,1,1,0,2,1,0,1,1,0,2,1,2,2,1,2,2],\"v11\":1,\"n11\":6,\"v12\":[2,4,1,0,2,1,1,0,2,2,0,1,1,1,0,1,2,1,0,3,1,2,0,0,3,1,0,0,1,2,2,0,0,0,5,2,4,1,0,0,0,1,2,0,2,1,2,3,1,0,0,0,2,0,0,1,3,1,0,0,1,1,1,0,2,0,2,1,2,2,0,1,2,1,1,2,2,0,1,3,1,0,0,2,0,1,2,0,1,0,1,0,3,0,1,0,0,1,0,0,1,0,1,1,4,2,2,3,2,1,2,1,0,1,2,4,1,3,2,1,1,5,1,2,1,2,0,2,0,1,1,2,0,3,1,0,1,2,2,2,1,0,1,1,0,0,1,0,0,2,1,0,0,0,0,2,1,0,2,0,1,2,1,0,1,2,2,0,1,0,1,0,0,1,1,1,3,1,0,1,0,0,0,1,2,0,0,3,0,3,0,0,0,0,1,0,1,0,0,1,3,1,0,1,0,0,0,1,0,0,1,2,1,0,2,2,0,1,0,1,2,0,1,1,3,1,1,2,0,2,1,0,1,1,2,2,0,1,0,1,3,1,0,0,2,0,1,1,0,2,1,0,0,2,1,0,0,0,4,0,0,0,0,1,1,2,1,3,0,0,0,2,1,2,2,1,2,0,0,1,1,1,1,0,1,3,0,1,0,2,1,1,1,2,1,1,0,1,0,0,1,0,0,1,1,1,0,0,1,0,0,4,2,0,1,0,1,3,1,0,0,0,0,0,0,1,1,0,3,1,3,2,0,2,1,0,0,3,2,1,0,0,0,0,1,0,0,1,0,1,0,1,0,2,1,0,0,1,0,2,2,2,1,0,0,0,1,1,0,0,1,1,1,1,2,1,3,4,0,0,0,0,2,2,0,1,0,0,1,3,1,2,0,3,2,0,0,1,0,0,2,1,0,1,0,1,3,1,3,1,1,0,0,0,0,1,0,1,1,0,1,1,1,2,0,0,0,2,1,1,2,1,0,1,0,3,1,0,2,1,0,2,2,0,0,0,3,1,2,1,1,5,0,1,1,2,1,1,2,1,3,0,1,3,0,2,0,1,0,0,1,1,1,1,0,2,0,2,1,2,1,1,1,2,0,3,1,1,0,1,2,2,1,2,0,3,1,0,0,0,2,1,1,0,1,1,0,0,1,1,2,1,0,1,1,0,1,0,3,0,0,0,2,0,0,1,1,2,1,0,1,1,0,2,1,2,1,1,0,0,3,0,1,0,0,0,2,2,0,0,1,1,1,1,2,2,1,3,1,0,0,0,2,0,0,0,0,1,0,0,1,0,0,0,0,2,0,0,1,4,1,0,0,0,0,2,0,0,2,1,1,0,0,2,1,1,2,2,1,0,1,2,0,2,0,0,1,2,0,1,2,2,1,0,0,0,1,2,0,2,4,0,2,1,1,0,2,0,1,0,0,2,0,2,1,0,1,0,0,2,3,0,0],\"v13\":1,\"n13\":6,\"v14\":[2,1,0,1,1,2,1,0,1,0,0,0,2,1,1,0,2,1,2,1,3,0,2,0,2,1,0,0,1,0,0,1,1,0,0,0,1,1,1,1,2,0,0,1,3,0,1,1,2,2,0,2,1,1,3,1,1,1,1,1,0,2,1,1,1,0,0,0,0,0,2,0,0,1,2,0,1,0,0,2,0,1,0,0,2,0,1,0,2,3,3,1,1,1,1,0,1,1,1,0,0,1,4,1,1,1,0,1,1,1,3,0,1,0,0,0,0,1,2,1,0,1,0,1,0,0,1,1,2,0,1,0,0,0,5,1,0,1,0,2,0,1,1,0,1,0,2,0,0,1,1,0,0,1,0,0,1,1,1,0,0,2,1,0,0,0,0],\"v15\":1,\"n15\":6,\"v16\":[2,1,1,1,0,2,0,1,1,0,0,1,1,1,0,1,2,0,1,0,3,1,0,0,0,0,1,1,3,0,2,0,1,1,0,0,0,0,0,1,1,1,2,0,0,0,0,0,1,1,0,1,0,0,1,0,2,0,0,0,1,1,0,2,2,1,0,0,2,1,1,0,1,3,1,1,1,0,0,2,0,0,1,2,0,0,2,0,1,1,2,0,1,0,0,0,0,0,1,0,1,0,0,1,1,2,0,1,1,0,0,1,1,2,2,1,1,1,1,0,1,0,0,0,0,0,2,1,2,0,1,3,0,0,0,2,1,2,2,0,0,0,0,2,0,1,1,1,0,0,1,4,1,2,0,0,0,0,0,0,0,0,4,0,0,1,3,1,1,2,1,2,1,0,0,0,0,1,1,0,0,0,2,1,1,2,0,1,3,1,1,0,0,0,1,2,0,1,1,2,0,1,1,0,0,0,2,1,2,2,2,1,1,0,0,1,0,1,0,1,0,0,0,0,0,2,2,0,3,3,0,0,0,0,1,0,0,2,1,1,0,0,0,0,0,0,2,1,3,2,0,2,2,0,0,0,1,1,1,1,1,0,1,1,1,1,0,2,1,5,3,2,2,0,1,0,1,1,0,1,0,1,2,0,3,1,0,0,0,1,0,0,1,2,1,2,1,2,0,0,1,2,0,0,1,0,1,1,0,1,1,0,1,0,2,0,2,1,0,0,1,0,1,0,0,1,0,0,1,2,0,2,1,0,0,0,0,0,0,0,0,1,0,0,1,1,0,0,1,2,0,0,1,2,0,0,2,1,1,2,1,0,2,0,1,2,0,0,1,0,2,1,0,2,0,0,1,2,1,0,0,0,1,1,0,0,0,1,0,1,0,1,3,0,1,0,0,2,0,2,1,0,2,0,0,1,1,3,0,2,1,0],\"v17\":1,\"n17\":6,\"p18\":14583,\"v18\":[1,3,0,2,0,0,0,1,0,0,0,0,0,1,1,0,1,0,0,0,0,1,1,1,2,0,1,0,3,1,1,0,1,0,1,0,1,2,0,3,0,3,0,1,2,0,0,0,1,1,0,1,1,1,0,0,1,0,0,1,0,0,1,3,1,1,1,0,0,2,0,1,0,2,0,2,1,0,1,0,0,1,0,1,2,0,0,0,1,1,0,0,1,1,0,0,1,2,1,0,1,1,0,1,1,0,0,1,0,2,2,0,0,2,1,1,1,0,1,1,0,2,0,0,2,1,0,1,1,0,0,1,1,2,0,0,0,1,0,1,0,0,0,0,1,1,1,0,2,0,0,0,0,0,2,2,0,0,0,1,0,0,3,0,1,0,1,1,0,2,1,0,2,1,1,3,1,0,1,1,0,0,0,1,0,1,2,0,2,1,2,0,0,0,4,0,1,1,0,0,0,3,0],\"v19\":1,\"n19\":7,\"p20\":14794,\"v20\":[2,0,2,1,1,1,0,0,2,1,1,3,1,0,0,3,0,1,0,2,0,1,2,1,1,1,2,1,1,0,0,2,0,0,1,0,1,0,0,0,1,2,1,0,1,0,1,1,0,1,2,2,2,1,0,0,1,0,0,1,1,0,0,2,0,1,2,0,1,0,1,3,1,1,0,0,1,1,0,1,1,1,1,0,1,2,2,1,1,0,2,0,1,1,0,0,0,1,2,1,2,0,0,0,0,0,0,0,0,1,0,0,1,0,0,0,1,1,0,0,0,1,1,0,0,2,0,0,1,2,1,1,0,1,0,0,4,1,1,0,0,0,0,1,0,0,1,0,0,2,0,0,0,0,0,2,0,0,0,0,0,2,0,1,0,0,3,1,0,1,2,1,0,0,0,0,0,0,0,0,3,3,1,0,1,0,1,0,0,1,0,0,0,0,1,1,0,0,0,0,0,0,0,1,0,0,2,1,0,0,0,0,3,0,0,1,0,0,1,0,1,0,2,0,0,3,2,0,2,1,1,1,0,1,0,0,1,3,0,0,0,0,2,2,1,1,1,0,1,1,2,2,0,0,0,0,0,1,1,0,0,0,1,0,2,0,1,0,1,1,1,0,0,1,1,1,0,1,0,0,1,0,2,2,0,0,0,1,2,0,0,1,1,0,0,2,0,0,0,4,1,0,1,0,0,0,1,0,0,0,0,0,2,1,0,0,0,1,1,2,0,0,0,2,0,1,0,0,0,1,0,0,1,0,1,1,2,1,0,0,1,0,0,1,0,0,0,1,0,0,1,0,0,0,0,2,0,0,1,0,0,0,0,0,1,0,0,1,0,1,0,0,1,0,0,1,1,1,1,0,1,0,1,0,0,0,0,2,0,0,0,0,1,0,0,1,0,0,1,0,1,2,1,2,1,0,0,1,1,0,1,1,1,1,1,2,0,0,2,1,1,0,0,0,1,0,2,1,0,0,1,2,0,1,0,1,1,0,1,0,1,0,0,0,0,0,0,0,2,0,0,1,0,1,0,0,2,1,0,1,0,0,0,1,0,2,0,0,3,2,0,2,2,1,1,1,0,1,0,0,2,0,0,1,0,0,0,0,0,0,0,0,0,1,1,0,2,1,0,1,3,0,0,0,0,2,1,2,2,0,0,1,1,1,2,3,1,0,0,1,0,2,0,1,0,0,0,1,1,1,1,2,0,0,1,1,3,1,0,1,2,0,0,0,0,0,0,1,0,1,0,0,0,1,0,1,1,0,1,0,0,1,0,0,0,0,2,0,1,0,0,1,0,0,0,1,0,0,2,0,0,0,2,1,1,0,0,1,1,0,0,1,0,0,1,1,0,0,0,1,1,0,0,2,0,0,1,0,1,0,1,1,0,0,0,1,1,1,0,3,1,0,1,1,0,0,1,0,2,0,1,0,1,0,1,0,0,1,3,2,1,1,0,1,1,2,1,0,0,0,0,0,0,1,1,1,1,2,0,0,0,2,0,1,0,0,0,0,2,0,0,0,1,1,1,1,0,1,2,0,0,0,1,0,0,0,2,2,0,0,0,0,2,0,1],\"p21\":15501,\"v21\":[1,1,0,1,1,0,0,0,0,0,0,0,1,0,1,0,1,0,1,0,2,1,0,0,1,0,0,0,1,1,0,0,1,0,0,0,1,0,1,3,1,0,0,1,1,0,1,3,1,1,1,2,1,0,1,1,1,0,1,0,1,1,1,0,1,0,0,0,0,0,0,0,0,2,2,1,0,1,1,1,1,2,1,0,1,1,0,2,0,0,1,0,0,0,0,0,1,0,1,0,0,1,1,1,0,0,0,0,0,1,2,1,0,1,1,1,0,1,1,0,0,1,0,1,2,0,1,1,0,0,1,1,0,0,0,0,2,3,1,1,0,0,0,0,1,1,0,0,1,0,1,0,0,0,1,0,0,0,1,1,2,0,0,2,1,0,0,0,0,1,0,0,0,1,0,0,0,1,0,0,0,0,0,0,0,1,0,2,0,0,0,3,0,0,1,0,1,1,0,0,0,1,1,0,0,0,1,1,1,0,1,1,0,1,1,0,0,0,1,0,1,1,0,1,0,2,0,2,2,0,0,0,0,0,0,0,1,0,0,2,2,1,0,0,1,1,0,1,0,0,1,0,0,0,0,0,2,0,0,0,1,0,1,0,0,1,0,1,0,1,0,0,0,0,2,1,1,0,0,2,0,0,1,0,0,0,0,1,1,0,0,0,0,1,0,1,0,0,0,1,0,1,1,0,1,0,1,0,1,0,0,0,1,0,1,4,0,0,0,0,1,1,0,0,1,0,1,0,1,0,1,0,0,0,0,1,3,0,0,1,0,0,0,0,1,0,1,1,1,0,1,1,1,1,2,0,1,0,0,1,0,1,1,0,1,0,1,1,1],\"p22\":15880,\"v22\":[1,0,0,1,0,1,0,0,0,0,0,0,1,0,1,0,3,0,0,0,0,1,3,1,1,1,1,0,1,1,0,0,0,2,1,0,0,2,0,0,0,1,0,0,0,0,0,1,0,1,0,1,0,0,0,1,0,0,0,1,0,0,0,1,0,1,0,0,0,0,0,1,0,0,2,0,1,0,0,0,0,0,0,1,0,0,1,2,0,1,3,0,0,0,1,0,1,0,0,0,0,0,0,0,1,0,0,2,0,0,1,0,0,0,0,0,0,1,0,0,0,2,0,0,0,0,1,0,0,0,2,0,1,0,0,0,0,1,0,1,0,1,0,0,0,1,1,1,1,2,3,1,0,0,0,0,0,1,0,0,1,0,0,2,1,0,0,0,0,0,1,0,0,1,1,0,1,0,0,1,1,0,1,0,1,2,0,1,0,0,1,0,1,0,0,0,1,1,1,2,0,0,1,0,0,0,0,2,1,0,1,1,1,0,0,0,0,1,0,0,0,1,1,0,0,0,0,0,0,0,3,1,3,0,0,0,1,1,0,0,1,0,0,1,0,0,0,1,0,1,0,0,0,0,0,0,1,1,1,0,1,1,0,0,1,0,0,1,0,0,0,0,0,0,0,2,0,1,3,3,0,0,1,2,0,0,0,0,0,0,1,0,0,1,0,0,1,1,0,1,0,1,0,0,0,0,1,0,0,1,0,1,3,0,2,1,0,0,0,0,0,1,0,1,1,2,0,0],\"v23\":1,\"n23\":6,\"p24\":16219,\"v24\":[1,0,0,0,0,0,0,0,0,2,0,1,1,0,0,2,0,0,0,0,1,0,0,0,0,1,1,0,0,1,0,1,2,0,1,2,0,0,1,0,0,0,0,3,0,0,0,0,0,0,0,1,0,0,1,0,0,1,1,1,0,0,1,1,0,0,0,0,0,0,1,1,0,0,0,0,2,0,1,0,1,1,0,0,0,2,1,0,0,0,1,0,1,0,0,1,0,1,0,0,0,1,0,0,0,0,1,0,0,0,1,0,1,0,1,0,0,1,0,0,0,0,0,1,1,0,0,0,0,0,0,0,0,0,1,0,0,0,0,0,1,1,0,1,1,1,0,0,0,1,0,1,0,0,0,1,0,2,0,2,0,0,1,0,0,2,1,2,0,0,2,1,1,0,0,0,1,0,0,0,1,0,0,1,1,0,0,2,1,0,0,0,0,1,0,0,1,0,0,0,0,0,0,0,1,0,0,0,0,0,1,0,0,0,1,1,0,1,1,1,3,0,0,0,1,0,1,1,0,0,1,2,2,1,1,1,0,0,0,2,0,0,0,0,0,0,0,2,0,2,0,1,1,1,0,0,0,1,1,0,2,1,1,0,0,0,0,1,0,1,0,0,0,0,0,0,1,1,0,0,0,0,1,0,0,0,0,0,0,0,0,1,1,1,1,0,0,0,1,0,0,0,0,0,1,0,0,1,0,0,1,1,0,0,0,0,1,0,0,0,0,1,2,0,1,0,0,0,2,0,0,0,1,0,1,1,0,0,0,2,1,0,0,1,0,0,0,1,1,1,0,2,0,0,0,2,0,1,0,2,0,0,0,0,0,0,0,1,0,0,2,2,1,0,1,0,0,0,1,1,0,1,0,0,0,0,2,1,1,0,1,0,0,0,0,0,0,0,2,0,2,0,0,0,0,0,1,0,0,0,0,0,1,0,2,1,1,0,0,0,0,0,0,0,0,0,1,0,1,0,0,1,0,0,0,0,0,1,1,1,0,1,1,0,1,2,0,0,0,0,1],\"p25\":16681,\"v25\":[1,0,0,0,0,0,0,0,1,1,0,0,0,1,0,1,0,1,0,0,0,0,0,1,2,1,0,1,0,0,0,0,1,0,0,0,0,1,0,0,1,0,0,0,0,3,1,1,1,1,1,0,0],\"v26\":1,\"n26\":6,\"p27\":16741,\"v27\":[1,0,1,0,0,0,2,1,3,0,0,1,0,1,0,0,0,0,0,1,0,2,1,0,0,0,0,0,1,0,1,0,0,0,0,0,2,0,2,0,0,0,0,1,1,0,1,0,0,1,2,0,1,0,0,1,0,0,1,0,0,1,0,1,0,1,1,0,0,0,1,0,0,1,0,1,0,1,0,0,1,2,3,1,1,0,1,0,0,0,2,0,0,0,0,0,0,0,0,0,1,0,1,0,0,0,0,1,2,0,0,2,0,0,0,0,0,0,0,0,1,1,1,0,0,0,1,0,1,0,0,0,0,2,0,1,1,0,0,1,0,0,1,1,0,1,1,0,0,0,0,1,0,1,0,0,0,0,1,0,0,1,1,0,2,1,0,0,0,0,0,0,0,0,0,1,0,1,1,0,0,2,1,0,1,1,1,0,0,0,1,0,1,1,0,0,0,0,0,0,0,0,1,0,0,0,1,2,1,0,1,0,1,0,0,1,1,0,0,0,0,0,0,1,0,0,0,1,0,0,0,1,0,0,1,0,0,0,1,1,0,0,0,1,0,0,0,1,0,0,0,1,1,0,1,1,0,1],\"p28\":17011,\"v28\":[1,0,1,0,0,0,0,0,0,0,0,1,0,0,0,3,1,0,1,0,0,1,1,0,0,2,1,1,0,0,0,0,0,1,0,0,0,1,1,1,1,0,0,0,0,1,0,1,0,0,0,0,0,0,0,1,0,0,0,0,0,0,0,2,2,1,0,0,0,1,0,1,0,0,1,1,0,0,0,0,0,1,1,0,1,0,0,4,0,0,0,1,0,0,0,0,0,0,1,0,0,0,1,0,0,1,0,0,0,0,1,0,1,0,2,0,0,0,0,0,0,0,0,0,1,0,0,0,3,0,0,1,0,1,1,0,0,3,2,1,0,0,0,0,1,0,0,1,0,0,0,0,1,0,2,0,1,1,1,0,1,0,0,0,0,0,1,0,1,0,1,1,1,1,0,0,0,1,1,0,0,0,1,0,1,1,0,0,2,1,1,1,0,0,0,1,0,0,0,1,1,1,0,1,0,1,0,0,0,1,0,1,0,2,1,1,2,1,0,1,1,0,0,2,0,0,0,0,0,0,1,1,0,1,0,1,0,0,1,0,0,0,0,0,0,1,0,0,1,0,0,1,0,0,0,1,0,0,0,0,1,0,0,0,0,0,0,0,1,0,2,0,0,0,1,1,1,2,1,0,0,0,0,1,0,0,0,0,0,0,0,1,0,0,0,0,0,1,0,0,2,0,1,1,0,0,0,0,1,0,0,1,0,0,0,1,0,0,0,0,0,1,0,0,0,0,0,0,1,0,1,0,0,0,0,0,0,1,1,0,0,0,0,0,0,1,0,1,0,0,0,0,3,0,1,0,0,0,0,1],\"p29\":17382,\"v29\":[1,0,1,0,1,0,0,0,1,0,0,0,1,0,0,1,0,1,1,1,0,0,0,0,0,0,0,0,1,0,0,0,0,1,1,0,0,0,0,1,1,1,0,0,0,0,0,1,0,0,0,0,0,0,1,0,0,0,0,0,0,1,0,2,0,0,0,0,1,0,0,1,0,0,1,0,1,0,0,1,1,0,0,0,0,0,1,0,0,0,0,1,1,0,1,0,1,1,0,0,1,0,0,0,0,0,0,0,0,1,2,1,0,0,0,0,1,1,1,0,0,0,0,0,1,0,1,1,1,0,1,2,0,3,0,0,1,0,2,0,1,0,0,0,0,0,0,0,0,1,0,0,0,0,0,1,0,1,0,0,0,2,0,0,0,0,0,0,0,1,0,0,0,0,0,1,0,0,0,1,1,1,0,1,0,1,0,1,0,0,0,0,1,3,1,0,1,0,1,1,2,1,0,0,1,1,0,0,0,1,0,0,0,0,3,0,1,0,0,0,0,1,0,0,0,0,1,0,0,0,1,2,0,0,1,0,1,0,0,0,0,0,0,0,1,1,1,0,0,1],\"p30\":17644,\"v30\":1,\"p31\":17663,\"v31\":[1,1,0,0,1,1,0,1,0,0,0,0,0,0,0,1,0,0,0,1,0,1,0,0,0,1,2,0,0,0,1,0,1,0,0,1,0,1,1,0,0,0,0,0,0,1,0,0,0,0,0,0,0,0,2,0,0,1,0,0,0,2,0,2,1,0,2],\"p32\":17743,\"v32\":[1,0,1,1,0,0,0,0,2,1,2,0,1,0,0,1,0,1,3,0,0,0,0,1,0,1,1,0,0,0,0,0,0,0,1,1,0,1,1,0,0,0,1,1,0,1,0,0,0,0,0,1],\"p33\":17805,\"v33\":[1,0,0,0,1,0,0,0,1,0,0,0,0,1,0,1,0,0,0,0,0,0,1,1,0,0,0,0,0,0,1,1],\"p34\":17850,\"v34\":[1,0,0,0,1,1,0,0,0,1,1,0,0,1,0,1,0,0,1,2,0,1,0,1,1,2,0,0,1,0,1,0,0,1,0,0,0,1],\"p35\":17900,\"v35\":[1,0,0,0,0,0,1,0,0,1,1,0,0,0,0,1,1,1,0,0,0,0,0,1,1,0,0,0,0,1,0,0,0,0,2,1,0,1,1,0,0,0,0,0,0,0,2,0,0,1,1,0,0,2,0,1,1,0,0,0,0,0,0,0,1,1,1,0,1,1,0,0,1,0,0,0,0,1,0,0,1,1,0,0,0,2,1,1,0,1,0,0,0,1,0,0,0,0,1,0,0,0,0,2,0,0,0,0,0,1,0,0,0,0,1,0,0,0,0,0,0,1,0,0,1,1,0,0,1,0,0,0,0,0,0,0,0,0,1,1,0,0,0,0,0,0,0,1,0,0,0,0,0,0,1,0,0,0,0,1,0,1,0,0,0,0,0,1,0,1,0,2,0,0,1,0,0,0,0,0,0,3,0,0,0,0,0,1,0,0,0,0,0,0,0,1,1,0,1,0,0,0,1,0,2,0,0,0,0,0,1,0,0,0,1],\"p36\":18125,\"v36\":[1,0,0,0,3,0,0,0,0,0,0,1,0,0,1,0,0,0,1,0,0,3,0,0,0,1,0,1,0,1,1,1,1,0,0,0,0,0,0,1,0,1,1,0,1,1,0,0,0,0,0,0,0,0,1,0,0,0,1,0,0,0,2,0,0,1,0,0,0,0,1,0,1,1,0,0,0,0,0,0,1,0,0,0,0,0,0,0,1,0,0,0,0,0,0,0,0,1,1,0,0,0,0,0,0,0,0,1],\"p37\":18245,\"v37\":[1,0,0,1,0,0,0,0,0,0,0,2,0,0,0,0,0,0,0,0,1,1,0,0,0,1,1,0,0,1,0,0,0,0,1,0,1,0,0,0,0,1,0,0,1],\"p38\":18301,\"v38\":[1,0,0,0,0,0,1,0,0,1,0,0,0,1,0,0,0,2,1,0,0,0,1,0,0,1,1,0,0,1,0,1,0,1,0,1],\"p39\":18349,\"v39\":[1,0,0,0,0,1,1,0,0,0,0,1,1,0,1,1,1,0,1,0,1,0,1,0,0,0,1,1,0,0,0,0,2,1,1,0,1],\"p40\":18408,\"v40\":[1,0,0,0,0,0,1,0,0,0,0,2,2,0,1,0,0,0,0,0,0,1,0,0,0,1,0,0,0,1,1,0,0,1,0,0,0,0,0,0,0,0,1,0,1,0,2,0,1,0,0,1,0,0,0,1,0,0,0,0,0,0,0,1,0,0,0,0,0,1,0,0,0,0,1,0,1,0,0,0,0,0,0,0,1,1],\"p41\":18507,\"v41\":[1,0,0,0,0,0,1],\"p42\":18530,\"v42\":[1,0,0,0,0,0,0,0,0,1,0,0,0,0,0,0,0,0,0,1,0,0,0,0,0,0,0,0,1,0,3,0,0,0,0,0,1,2,0,0,1,0,1,0,0,0,0,1,1,0,1,0,0,1],\"p43\":18601,\"v43\":[1,1],\"p44\":18614,\"v44\":[2,0,0,0,1,0,0,0,0,0,0,0,1,1,1,0,1],\"p45\":18645,\"v45\":[1,0,0,0,0,0,0,0,0,0,1,0,0,0,1,0,0,0,0,1,1,1,0,0,1,0,0,0,0,1,0,2,0,0,0,0,0,0,2,0,0,0,0,0,0,2,0,0,0,0,0,0,1,0,1],\"p46\":18713,\"v46\":[1,0,0,0,0,0,2,0,1,1,0,0,0,1,0,0,0,2,0,0,0,1,0,0,0,0,1,0,0,0,0,0,0,0,1,1,0,0,0,0,0,1,1,0,1,0,0,1,0,0,0,0,0,0,1,1,0,1,0,2,0,0,0,0,0,0,1,0,0,1,0,1,0,2,1,0,0,0,0,1,0,0,0,0,0,0,1,0,0,0,1,0,0,0,0,0,0,0,0,0,1,0,0,0,0,0,0,1,0,0,0,0,0,0,0,1],\"p47\":18840,\"v47\":[1,0,1,0,0,1,0,0,1,0,1,1,0,0,1,0,0,0,1],\"p48\":18870,\"v48\":[1,2,1,0,0,0,0,0,0,0,0,0,1,0,0,0,0,0,0,1,0,0,0,0,0,0,0,0,0,1,0,0,0,0,0,0,0,0,0,1,0,1,0,0,0,1,0,0,1,0,1,0,0,0,0,0,0,0,0,1,0,0,0,0,1,0,0,0,0,0,0,1,2,1,0,0,0,0,0,0,1],\"p49\":18962,\"v49\":[1,0,0,2,0,0,1,0,0,0,0,0,0,0,0,1,0,1],\"p50\":18991,\"v50\":[1,2,0,0,0,0,0,0,1,0,0,1,0,0,0,0,1,0,0,0,0,0,0,0,0,1],\"p51\":19029,\"v51\":[1,0,0,0,1,0,0,0,0,1,0,0,3,0,0,0,0,0,0,1,1,0,1,0,1,0,0,0,0,0,0,1,0,0,0,0,0,0,0,0,1,0,0,1,0,0,1,0,0,0,2,0,0,0,1,0,0,0,1,0,0,0,0,0,2,0,1,0,1,0,1,0,0,0,0,1,0,0,0,0,0,0,0,0,0,1,0,0,0,0,0,0,0,2,0,0,0,0,0,0,0,0,0,1,1,0,1,0,0,0,1,0,1,1,0,0,0,0,0,0,0,1,0,0,0,0,0,0,0,0,0,1,0,0,0,0,0,2,0,0,0,0,0,1,0,1,0,1,1,0,1,0,1,0,0,0,1,1,0,0,1,0,0,0,0,1,0,0,0,0,0,0,0,0,0,1,1,1,0,1,1,0,0,0,0,0,0,0,0,0,1,0,0,0,0,0,0,0,0,1,0,0,0,0,0,1,0,0,0,1,1,0,1,0,0,0,1,0,1,0,0,1,0,0,0,0,0,1,0,0,0,0,0,0,1,0,0,0,0,0,1,1],\"p52\":19284,\"v52\":[1,0,0,0,0,0,0,0,1],\"p53\":19304,\"v53\":[1,0,0,0,1,1,0,1],\"p54\":19323,\"v54\":[1,0,0,2,1,0,0,0,0,2,1,0,0,0,0,1,0,0,0,1,0,0,2,0,0,0,1],\"p55\":19362,\"v55\":[2,0,0,0,1,0,0,0,2,0,0,0,1,0,0,0,0,2,1,0,0,0,0,0,1,0,1],\"p56\":19400,\"v56\":[1,0,0,0,0,0,0,0,1,1,1,0,0,0,0,0,0,1,2,0,0,0,0,0,0,0,0,1,1,0,0,0,0,1,0,1,1,0,0,1,0,0,1,0,0,0,1,1,0,0,0,0,0,0,0,1,0,0,0,0,0,0,0,0,1,0,1,0,0,0,0,0,0,1,1,0,0,0,0,0,1,1],\"p57\":19507,\"v57\":[1,0,0,0,0,0,0,0,2],\"p58\":19530,\"v58\":[1,0,0,0,0,0,0,0,1,0,0,0,0,0,1,0,1,1,1,0,2,0,0,0,0,0,1],\"p59\":19576,\"v59\":[1,1,0,0,1,1,1],\"p60\":19596,\"v60\":[1,1,1,0,0,0,0,2,0,0,0,0,0,0,0,0,1,1,0,0,0,0,0,0,0,0,0,1,0,0,0,1,0,1,0,1,0,0,0,1,0,1,0,0,1,1,0,0,0,0,0,0,0,1,0,0,1,2],\"p61\":19695,\"v61\":[1,0,0,0,0,0,0,0,0,1,2,1],\"p62\":19725,\"v62\":[1,0,0,0,0,0,0,0,0,0,1,0,0,0,1,0,0,0,1,0,0,0,0,0,0,0,0,0,2,0,0,0,0,0,0,0,0,0,2,0,0,0,0,0,0,1,1,0,0,0,0,1,1,1,0,1,0,0,1,1,0,0,0,0,1,0,0,1,0,0,1,0,0,0,0,0,0,2],\"p63\":19813,\"v63\":[2,1,0,0,1,0,2,1,1,0,0,0,1,0,0,0,1],\"p64\":19840,\"v64\":[1,1,0,0,0,0,0,0,0,0,1,0,0,2],\"p65\":19869,\"v65\":[1,0,1,0,0,0,0,1,0,0,0,1,0,0,1,0,0,0,0,0,1,0,1,1,0,0,0,0,0,0,0,0,1,0,1,0,0,1,0,0,0,1,1,0,0,0,0,0,0,0,0,1,0,0,0,0,1,0,0,0,0,1,0,0,0,0,1,0,1,0,1,0,0,1],\"p66\":19954,\"v66\":1,\"p67\":19978,\"v67\":[1,0,0,0,1,2,0,0,0,0,0,1,0,1],\"p68\":20007,\"v68\":[1,0,0,1,1,0,0,1],\"p69\":20025,\"v69\":[2,1,0,0,0,0,0,0,0,0,0,2,0,0,0,0,0,1,1,1,0,0,0,0,0,0,0,1,0,0,1],\"p70\":20066,\"v70\":[1,1,0,0,0,0,0,0,1],\"p71\":20095,\"v71\":[1,0,1,0,0,1,0,0,0,0,2,2],\"p72\":20118,\"v72\":2,\"p73\":20129,\"v73\":[1,1,0,0,3,0,0,0,1,0,0,0,0,0,0,0,0,1],\"p74\":20165,\"v74\":[1,0,1,0,0,0,0,1,1,0,0,0,0,0,0,1,0,1],\"p75\":20203,\"v75\":[1,0,0,0,0,2,0,1,0,0,0,0,0,0,1,0,0,0,0,1,0,1],\"p76\":20242,\"v76\":[1,0,0,0,0,0,1,0,0,0,1,0,0,0,0,0,0,0,0,1,0,0,0,0,1,0,0,0,0,0,1,0,0,1,1,1],\"p77\":20302,\"v77\":[1,0,0,0,0,1,0,1,0,0,1,0,1,0,0,0,1,0,0,0,0,0,0,0,0,1],\"p78\":20351,\"v78\":[1,0,0,0,1,0,1,0,0,0,1,2,0,0,0,0,2,0,0,0,1,0,0,0,0,1,0,0,1,0,0,0,0,0,1,0,0,0,0,0,0,0,1,0,0,0,0,0,0,1],\"p79\":20417,\"v79\":[1,0,0,0,0,0,0,0,0,1,0,0,1,0,0,0,1,0,0,1,0,0,0,1,0,0,2,0,0,0,0,0,1,1,0,0,0,0,0,1,0,0,0,1],\"p80\":20472,\"v80\":[2,0,1,0,0,2,0,0,0,0,0,0,1,1,0,0,0,0,1,1,0,0,0,0,0,0,2],\"p81\":20515,\"v81\":[1,0,0,0,1,0,0,0,0,1],\"p82\":20536,\"v82\":[1,0,0,0,0,0,0,0,0,1,0,0,0,0,0,0,3,0,0,1,0,0,1,0,0,0,1,1,0,1,0,0,0,0,0,0,0,1,0,0,0,1,0,0,0,0,0,0,0,0,2,0,0,0,0,0,0,0,0,0,1,1,0,1,0,1,0,0,0,0,1,0,0,0,0,0,0,0,0,0,1],\"p83\":20627,\"v83\":[1,0,1,0,0,0,1,0,0,0,1,0,0,1,0,0,0,1,2,0,1],\"p84\":20658,\"v84\":[1,1,0,0,0,0,0,0,0,0,1,0,0,1,1],\"p85\":20683,\"v85\":[1,0,0,1],\"p86\":20699,\"v86\":[1,0,0,0,1],\"p87\":20717,\"v87\":[1,0,0,1,0,0,0,0,0,0,1],\"p88\":20746,\"v88\":[2,0,0,0,1,1,1,0,0,0,0,1,0,1,0,0,0,1,1,1,0,0,0,0,1,0,0,0,0,0,0,0,0,1,0,1,1],\"p89\":20795,\"v89\":[2,0,0,0,0,0,0,0,0,1,0,0,0,1,0,0,0,0,0,0,0,1,0,0,0,0,0,0,0,0,1,0,0,0,0,0,0,0,0,1,0,0,0,0,2,0,0,1,0,0,0,1,0,0,0,0,1,0,1,0,0,0,0,0,0,0,0,1],\"p90\":20887,\"v90\":1,\"p91\":20902,\"v91\":[1,0,0,0,2,0,0,0,0,0,0,1,0,0,0,0,0,0,0,0,1,0,0,0,0,0,1,0,0,1,0,1,0,0,0,0,0,1,0,0,0,0,0,0,1],\"p92\":20960,\"v92\":[1,0,0,0,0,1,0,0,1,1,0,0,0,0,0,1,1,0,0,1,0,0,0,0,0,0,0,1],\"p93\":21009,\"v93\":[1,0,0,0,0,0,0,1,0,0,0,1,0,2],\"p94\":21038,\"v94\":[1,0,0,1,0,0,0,0,0,0,1,0,0,0,0,0,2,0,0,0,0,0,1,0,1,1,0,0,0,1],\"p95\":21079,\"v95\":1,\"p96\":21105,\"v96\":[1,0,0,0,0,0,1,1,0,0,0,0,0,0,0,1],\"p97\":21155,\"v97\":1,\"p98\":21168,\"v98\":1,\"p99\":21183,\"v99\":[1,0,0,1,4,0,0,1,0,0,0,0,0,0,0,1,0,0,1,1,0,1],\"p100\":21217,\"v100\":1,\"p101\":21235,\"v101\":[1,1,0,0,0,0,0,0,1,0,0,0,0,0,1,0,2,0,1,0,0,0,0,0,1,0,1],\"p102\":21277,\"v102\":[1,0,1],\"p103\":21292,\"v103\":[2,0,2],\"p104\":21334,\"v104\":1,\"p105\":21347,\"v105\":[1,0,0,0,0,0,1,0,0,0,1],\"p106\":21378,\"v106\":[1,0,0,0,0,0,1,0,0,0,0,1,0,0,0,0,0,0,0,1,1,0,0,0,2,0,0,3,0,0,0,0,0,0,0,1,0,1,0,0,1,1,0,0,1,0,0,0,0,0,0,1,1,1,0,0,0,0,0,1,0,0,0,0,1,0,1,0,0,0,0,0,1,1,0,1,0,0,1,0,0,1,0,0,1,0,0,0,0,0,0,0,0,1,0,1],\"p107\":21487,\"v107\":[1,1,0,0,1,0,0,0,0,0,0,0,1,1,0,0,1,0,0,0,0,1,0,0,0,1],\"p108\":21535,\"v108\":[1,0,1],\"p109\":21558,\"v109\":1,\"p110\":21575,\"v110\":[1,0,0,0,0,0,1],\"p111\":21593,\"v111\":[1,0,0,0,0,0,0,0,2,1,0,0,0,0,0,0,0,0,1,0,0,0,0,0,0,1,0,0,0,0,1],\"p112\":21636,\"v112\":[1,0,0,0,0,0,0,0,0,0,2],\"p113\":21657,\"v113\":[1,0,1,0,0,1],\"p114\":21688,\"v114\":1,\"p115\":21710,\"v115\":[1,0,0,0,0,0,1,0,0,0,0,0,0,0,0,1],\"p116\":21738,\"v116\":[1,0,0,1],\"p117\":21767,\"v117\":[1,0,0,0,1,1,0,0,0,0,2,0,0,0,0,0,0,0,0,0,1,0,0,0,0,1,0,0,0,0,0,0,0,0,1],\"p118\":21813,\"v118\":[1,0,0,0,0,0,0,0,1,0,0,0,0,0,0,0,0,0,1,1,0,0,1,0,1,0,1,0,1,0,0,1],\"p119\":21867,\"v119\":1,\"p120\":21890,\"v120\":[2,0,0,0,0,1,1,0,1,0,0,0,0,0,0,1],\"p121\":21930,\"v121\":[1,0,0,0,0,0,0,0,1,0,0,0,0,0,0,1,0,0,0,0,1,0,1,0,0,0,0,0,1],\"p122\":21979,\"v122\":[1,0,0,0,0,0,0,1,0,0,0,1,0,0,0,0,0,1,0,0,0,0,1],\"p123\":22012,\"v123\":[1,0,0,0,0,0,1,1,0,0,1,0,0,0,0,0,0,2,0,0,1],\"p124\":22047,\"v124\":[1,0,0,1,0,0,0,0,0,0,2],\"p125\":22075,\"v125\":[1,0,0,0,0,0,0,1],\"p126\":22102,\"v126\":[1,0,0,0,0,0,0,0,0,0,1,0,0,0,1],\"p127\":22129,\"v127\":[1,0,0,1,0,0,1],\"p128\":22159,\"v128\":[1,0,0,0,0,0,2,0,0,0,0,0,0,0,0,0,2,1,0,0,0,1],\"p129\":22194,\"v129\":[1,0,0,1,1,0,0,0,0,1,1,1,0,0,0,0,0,0,0,1,0,1,1,0,0,0,0,1,0,0,0,0,0,0,1,0,0,0,1,0,0,0,1,0,0,0,0,0,1,0,1],\"p130\":22260,\"v130\":[1,0,0,0,1,0,0,0,0,0,1],\"p131\":22288,\"v131\":1,\"p132\":22302,\"v132\":[1,0,1,0,0,0,0,0,1,0,0,1],\"p133\":22328,\"v133\":[1,1,0,0,1,0,0,1],\"p134\":22349,\"v134\":1,\"p135\":22361,\"v135\":1,\"p136\":22382,\"v136\":1,\"p137\":22396,\"v137\":[2,0,0,0,0,0,0,1],\"p138\":22424,\"v138\":[1,0,0,0,0,0,0,0,0,0,1],\"p139\":22449,\"v139\":[1,0,0,0,0,0,0,0,1],\"p140\":22472,\"v140\":1,\"p141\":22489,\"v141\":[1,0,0,0,0,0,0,0,0,1,1],\"p142\":22510,\"v142\":1,\"p143\":22529,\"v143\":1,\"p144\":22557,\"v144\":[1,1],\"p145\":22569,\"v145\":[1,0,0,0,0,0,0,0,1],\"p146\":22600,\"v146\":[1,0,0,0,0,0,0,1],\"p147\":22629,\"v147\":[1,0,0,1,0,0,1,0,0,0,0,1,0,0,0,0,0,0,1,1,0,0,0,0,1,0,0,0,0,1],\"p148\":22687,\"v148\":[1,0,1],\"p149\":22705,\"v149\":1,\"p150\":22723,\"v150\":[2,1,0,0,0,0,0,0,0,0,0,1,0,0,1],\"p151\":22752,\"v151\":[1,0,0,0,0,0,0,0,1],\"p152\":22772,\"v152\":[1,0,1,0,1],\"p153\":22791,\"v153\":1,\"p154\":22822,\"v154\":[1,0,0,0,0,1,0,1,0,0,0,0,0,0,1,0,0,1],\"p155\":22871,\"v155\":[1,0,0,0,0,0,0,2,0,0,0,0,0,1],\"p156\":22896,\"v156\":1,\"p157\":22908,\"v157\":[1,0,2,0,0,0,0,0,0,0,0,0,1],\"p158\":22945,\"v158\":[1,0,0,0,0,0,0,0,0,1],\"p159\":22986,\"v159\":[1,0,0,1,0,0,0,1],\"p160\":23034,\"v160\":[1,0,0,1],\"p161\":23081,\"v161\":1,\"p162\":23096,\"v162\":1,\"p163\":23125,\"v163\":[1,0,0,0,0,0,1,1],\"p164\":23152,\"v164\":[2,0,0,0,0,0,0,0,1,0,0,0,0,0,1,0,0,0,0,1,0,0,0,1],\"p165\":23192,\"v165\":1,\"p166\":23205,\"v166\":1,\"p167\":23217,\"v167\":[1,0,0,0,0,0,0,0,0,1],\"p168\":23237,\"v168\":[1,0,0,0,0,0,0,0,0,0,1],\"p169\":23272,\"v169\":[1,0,0,0,0,0,1,0,0,0,1,0,0,0,1],\"p170\":23312,\"v170\":[1,0,0,0,0,0,1,0,1,0,0,0,0,1,0,0,0,0,0,0,0,0,1],\"p171\":23349,\"v171\":[1,0,0,0,0,0,0,0,0,0,1,0,0,0,0,0,0,0,1,0,0,0,1,0,0,0,0,1,1],\"p172\":23434,\"v172\":[1,0,0,0,1,0,0,0,0,0,0,0,0,0,1,1],\"p173\":23465,\"v173\":[1,0,0,1,0,0,0,1,0,0,0,0,0,1,0,0,0,0,0,0,0,0,0,1,0,0,0,0,0,1],\"p174\":23521,\"v174\":1,\"p175\":23554,\"v175\":[1,0,0,1,0,1],\"p176\":23589,\"v176\":[1,0,0,0,0,0,0,0,0,0,1,0,0,0,1,1],\"p177\":23617,\"v177\":[1,1],\"p178\":23630,\"v178\":2,\"p179\":23642,\"v179\":[1,0,0,0,0,0,0,1,0,0,0,1,1],\"p180\":23681,\"v180\":[1,0,1,0,0,0,0,0,2,1],\"p181\":23702,\"v181\":[1,1,0,0,0,1,0,0,0,0,0,0,1,1,0,1,0,0,1,0,0,0,0,1],\"p182\":23736,\"v182\":[1,0,0,0,0,1,0,0,0,0,1,0,0,0,0,0,0,0,0,0,1],\"p183\":23771,\"v183\":[1,0,0,0,0,0,1,0,1,0,0,0,0,0,0,0,0,1,0,0,0,0,0,0,0,0,0,2,0,0,0,1,0,0,0,1,0,0,0,0,0,0,0,0,1,0,0,0,2,0,0,0,0,0,0,0,1],\"p184\":23839,\"v184\":1,\"p185\":23873,\"v185\":[1,1,1],\"p186\":23887,\"v186\":1,\"p187\":23912,\"v187\":[1,0,0,0,0,1,0,0,0,0,0,0,0,0,0,1],\"p188\":23944,\"v188\":[2,0,0,0,0,0,0,0,0,0,2,0,1],\"p189\":23968,\"v189\":[1,0,1],\"p190\":23998,\"v190\":1,\"p191\":24013,\"v191\":1,\"p192\":24047,\"v192\":1,\"p193\":24061,\"v193\":[1,0,0,0,0,1,0,0,0,1],\"p194\":24093,\"v194\":[1,1,1,0,0,0,0,0,1,0,0,0,0,0,1,1],\"p195\":24123,\"v195\":[1,0,0,0,1,0,0,0,0,0,1,1],\"p196\":24149,\"v196\":1,\"p197\":24161,\"v197\":1,\"p198\":24184,\"v198\":[1,0,0,0,1,2,0,2],\"p199\":24216,\"v199\":[1,0,0,0,0,0,0,0,1,0,0,0,0,0,0,1,0,0,1],\"p200\":24273,\"v200\":[1,0,0,0,1],\"p201\":24302,\"v201\":1,\"p202\":24314,\"v202\":[1,0,0,0,0,0,0,0,0,1,0,0,1,0,0,0,0,0,0,0,1],\"p203\":24351,\"v203\":[1,1],\"p204\":24365,\"v204\":2,\"p205\":24420,\"v205\":[1,1,0,0,0,0,0,0,0,1,0,0,0,0,1],\"p206\":24450,\"v206\":1,\"p207\":24461,\"v207\":[1,0,0,0,0,0,0,0,1,1,0,0,0,1,0,0,0,0,0,0,0,0,0,1,0,0,0,0,1],\"p208\":24501,\"v208\":1,\"p209\":24520,\"v209\":[1,0,0,0,0,0,0,1],\"p210\":24552,\"v210\":1,\"p211\":24564,\"v211\":[1,1],\"p212\":24592,\"v212\":[1,0,0,1,0,0,0,0,0,0,0,1,0,0,1,1,0,1],\"p213\":24639,\"v213\":[1,0,0,0,0,1,0,0,0,1,0,0,1],\"p214\":24666,\"v214\":1,\"p215\":24678,\"v215\":[1,1,0,0,1,0,0,0,0,0,0,0,1,1],\"p216\":24718,\"v216\":[1,0,0,1],\"p217\":24743,\"v217\":1,\"p218\":24806,\"v218\":1,\"p219\":24820,\"v219\":[1,0,0,0,0,0,0,0,0,1],\"p220\":24871,\"v220\":[1,0,0,0,0,0,0,0,0,0,2],\"p221\":24900,\"v221\":[1,0,0,1],\"p222\":24920,\"v222\":[1,0,0,0,0,0,0,0,0,1,2,1],\"p223\":24947,\"v223\":[1,0,0,1],\"p224\":24965,\"v224\":[2,0,0,0,0,0,1,0,0,0,0,0,0,0,0,0,1,0,0,0,0,0,0,0,0,1,0,0,0,0,0,0,0,0,1,0,0,1],\"p225\":25016,\"v225\":1,\"p226\":25101,\"v226\":[1,0,0,0,0,0,1],\"p227\":25118,\"v227\":[1,0,1,0,0,0,0,0,1,0,0,0,0,0,0,0,0,1],\"p228\":25149,\"v228\":[1,0,0,1,0,0,0,0,0,0,2],\"p229\":25172,\"v229\":[1,0,0,0,0,0,0,0,0,0,1],\"p230\":25197,\"v230\":[1,0,0,0,0,0,1],\"p231\":25238,\"v231\":[1,0,0,0,1,0,0,1],\"p232\":25286,\"v232\":1,\"p233\":25297,\"v233\":1,\"p234\":25326,\"v234\":1,\"p235\":25348,\"v235\":1,\"p236\":25361,\"v236\":[2,0,0,0,0,0,1,0,1],\"p237\":25417,\"v237\":[1,0,0,0,1],\"p238\":25444,\"v238\":1,\"p239\":25473,\"v239\":[1,0,0,1,0,0,0,0,1,0,0,0,0,0,0,1],\"p240\":25509,\"v240\":1,\"p241\":25544,\"v241\":[1,1,0,0,0,0,0,0,0,1],\"p242\":25629,\"v242\":[1,0,0,0,0,0,0,0,0,1,0,1,1],\"p243\":25691,\"v243\":1,\"p244\":25704,\"v244\":1,\"p245\":25749,\"v245\":[1,0,0,0,1,0,0,0,0,0,0,1],\"p246\":25780,\"v246\":2,\"p247\":25797,\"v247\":1,\"p248\":25825,\"v248\":[1,1],\"p249\":25854,\"v249\":1,\"p250\":25871,\"v250\":1,\"p251\":25934,\"v251\":1,\"p252\":25969,\"v252\":[1,0,0,0,0,0,0,1],\"p253\":25995,\"v253\":[1,0,0,0,0,0,0,1],\"p254\":26019,\"v254\":[1,0,0,0,0,0,0,1],\"p255\":26072,\"v255\":1,\"p256\":26163,\"v256\":[1,0,0,0,0,1],\"p257\":26189,\"v257\":[1,0,0,2,1],\"p258\":26211,\"v258\":1,\"p259\":26226,\"v259\":[1,0,1,0,0,0,0,0,0,1],\"p260\":26287,\"v260\":1,\"p261\":26316,\"v261\":1,\"p262\":26331,\"v262\":1,\"p263\":26344,\"v263\":1,\"p264\":26365,\"v264\":[1,0,0,1,0,0,0,1],\"p265\":26389,\"v265\":1,\"p266\":26412,\"v266\":[1,0,0,1],\"p267\":26435,\"v267\":[1,0,0,1,0,0,0,0,0,0,0,1,0,0,0,0,0,0,0,0,1],\"p268\":26471,\"v268\":1,\"p269\":26502,\"v269\":1,\"p270\":26516,\"v270\":[1,1],\"p271\":26555,\"v271\":[1,1,0,0,0,0,1],\"p272\":26611,\"v272\":1,\"p273\":26624,\"v273\":1,\"p274\":26653,\"v274\":[1,0,0,0,0,0,0,1],\"p275\":26680,\"v275\":1,\"p276\":26697,\"v276\":[1,0,0,0,0,1],\"p277\":26717,\"v277\":1,\"p278\":26751,\"v278\":1,\"p279\":26767,\"v279\":[1,0,0,0,0,0,0,0,0,1],\"p280\":26801,\"v280\":[1,0,0,0,0,0,0,0,0,0,1],\"p281\":26823,\"v281\":[1,0,1,0,0,1],\"p282\":26861,\"v282\":[1,0,0,0,1],\"p283\":26899,\"v283\":1,\"p284\":26920,\"v284\":[1,0,0,0,0,1,0,0,0,0,0,0,0,0,0,1],\"p285\":26949,\"v285\":1,\"p286\":26995,\"v286\":[1,0,0,0,0,0,0,1,1,0,0,0,0,0,0,1,0,0,0,0,0,1,0,0,0,0,0,1],\"p287\":27036,\"v287\":[1,0,0,0,1,0,0,0,0,1],\"p288\":27155,\"v288\":1,\"p289\":27166,\"v289\":1,\"p290\":27220,\"v290\":[1,0,1],\"p291\":27237,\"v291\":[1,0,0,0,0,0,0,1],\"p292\":27264,\"v292\":1,\"p293\":27322,\"v293\":1,\"p294\":27348,\"v294\":[1,0,0,1],\"p295\":27362,\"v295\":1,\"p296\":27441,\"v296\":1,\"p297\":27471,\"v297\":1,\"p298\":27495,\"v298\":[1,0,0,0,1,0,0,0,1],\"p299\":27519,\"v299\":[1,0,1,1],\"p300\":27537,\"v300\":[1,0,0,0,0,0,0,0,0,1],\"p301\":27575,\"v301\":1,\"p302\":27604,\"v302\":[1,0,0,0,0,1],\"p303\":27639,\"v303\":[1,0,0,0,0,1,0,0,1,0,0,0,0,0,0,0,1,0,0,0,0,1,0,0,0,0,0,0,0,0,1],\"p304\":27691,\"v304\":1,\"p305\":27708,\"v305\":1,\"p306\":27751,\"v306\":1,\"p307\":27771,\"v307\":[1,0,0,0,0,0,0,0,1],\"p308\":27805,\"v308\":1,\"p309\":27857,\"v309\":[1,0,0,0,1],\"p310\":27876,\"v310\":[1,0,1,0,1],\"p311\":27899,\"v311\":1,\"p312\":27910,\"v312\":1,\"p313\":27931,\"v313\":1,\"p314\":27974,\"v314\":1,\"p315\":28028,\"v315\":1,\"p316\":28044,\"v316\":1,\"p317\":28153,\"v317\":1,\"p318\":28188,\"v318\":1,\"p319\":28213,\"v319\":[1,0,0,1],\"p320\":28266,\"v320\":1,\"p321\":28309,\"v321\":1,\"p322\":28353,\"v322\":1,\"p323\":28385,\"v323\":1,\"p324\":28441,\"v324\":[1,0,0,0,1],\"p325\":28468,\"v325\":1,\"p326\":28531,\"v326\":[1,0,0,0,0,1],\"p327\":28587,\"v327\":1,\"p328\":28600,\"v328\":1,\"p329\":28658,\"v329\":1,\"p330\":28677,\"v330\":1,\"p331\":28705,\"v331\":1,\"p332\":28720,\"v332\":1,\"p333\":28766,\"v333\":[1,0,0,0,0,0,0,0,1],\"p334\":28811,\"v334\":[1,0,0,0,0,1],\"p335\":28843,\"v335\":[1,0,0,0,0,0,0,0,1],\"p336\":28897,\"v336\":1,\"p337\":28913,\"v337\":[1,0,0,0,0,1],\"p338\":28959,\"v338\":1,\"p339\":28997,\"v339\":1,\"p340\":29031,\"v340\":1,\"p341\":29054,\"v341\":[1,0,0,0,0,1,0,1,0,0,0,0,1,0,0,0,0,0,0,0,0,0,1],\"p342\":29152,\"v342\":[1,0,0,0,0,0,0,1,0,0,0,0,0,0,0,1],\"p343\":29198,\"v343\":1,\"p344\":29218,\"v344\":[1,0,0,0,0,0,1],\"p345\":29278,\"v345\":1,\"p346\":29292,\"v346\":1,\"p347\":29317,\"v347\":1,\"p348\":29335,\"v348\":[1,1],\"p349\":29391,\"v349\":[1,0,0,1],\"p350\":29412,\"v350\":[1,0,0,0,0,0,0,0,1],\"p351\":29434,\"v351\":1,\"p352\":29503,\"v352\":[1,0,0,0,0,0,0,1],\"p353\":29531,\"v353\":[1,0,0,0,0,0,0,0,0,0,1],\"p354\":29560,\"v354\":1,\"p355\":29588,\"v355\":[1,1],\"p356\":29628,\"v356\":1,\"p357\":29648,\"v357\":1,\"p358\":29659,\"v358\":1,\"p359\":29673,\"v359\":1,\"p360\":29703,\"v360\":1,\"p361\":29779,\"v361\":[1,0,0,0,0,0,0,1],\"p362\":29817,\"v362\":[1,0,0,0,1],\"p363\":29868,\"v363\":1,\"p364\":29906,\"v364\":1,\"p365\":29921,\"v365\":1,\"p366\":29959,\"v366\":[1,0,1],\"p367\":30001,\"v367\":307}}}],\"fScripts\":\"\",\"fHighlightConnect\":false,\"fFixedSize\":false});\n",
              "   Core.settings.HandleKeys = false;\n",
              "   Core.draw(\"root_plot_1742475687049\", obj, \"\");\n",
              "}\n",
              "\n",
              "function script_load_root_plot_1742475687049(src, on_error) {\n",
              "    let script = document.createElement('script');\n",
              "    script.src = src;\n",
              "    script.onload = function() { display_root_plot_1742475687049(JSROOT); };\n",
              "    script.onerror = function() { script.remove(); on_error(); };\n",
              "    document.head.appendChild(script);\n",
              "}\n",
              "\n",
              "if (typeof requirejs !== 'undefined') {\n",
              "\n",
              "    // We are in jupyter notebooks, use require.js which should be configured already\n",
              "    requirejs.config({\n",
              "       paths: { 'JSRootCore' : [ 'build/jsroot', 'https://root.cern/js/7.7.4/build/jsroot', 'https://jsroot.gsi.de/7.7.4/build/jsroot' ] }\n",
              "    })(['JSRootCore'],  function(Core) {\n",
              "       display_root_plot_1742475687049(Core);\n",
              "    });\n",
              "\n",
              "} else if (typeof JSROOT !== 'undefined') {\n",
              "\n",
              "   // JSROOT already loaded, just use it\n",
              "   display_root_plot_1742475687049(JSROOT);\n",
              "\n",
              "} else {\n",
              "\n",
              "    // We are in jupyterlab without require.js, directly loading jsroot\n",
              "    // Jupyterlab might be installed in a different base_url so we need to know it.\n",
              "    try {\n",
              "        var base_url = JSON.parse(document.getElementById('jupyter-config-data').innerHTML).baseUrl;\n",
              "    } catch(_) {\n",
              "        var base_url = '/';\n",
              "    }\n",
              "\n",
              "    // Try loading a local version of requirejs and fallback to cdn if not possible.\n",
              "    script_load_root_plot_1742475687049(base_url + 'static/build/jsroot.js', function(){\n",
              "        console.error('Fail to load JSROOT locally, please check your jupyter_notebook_config.py file');\n",
              "        script_load_root_plot_1742475687049('https://root.cern/js/7.7.4/build/jsroot.js', function(){\n",
              "            document.getElementById(\"root_plot_1742475687049\").innerHTML = \"Failed to load JSROOT\";\n",
              "        });\n",
              "    });\n",
              "}\n",
              "\n",
              "</script>\n"
            ]
          },
          "metadata": {}
        }
      ],
      "source": [
        "# Nome único para cada execução para evitar conflitos\n",
        "hist_name = \"invariant_mass_histogram\"\n",
        "canvas_name = \"invariant_mass_canvas\"\n",
        "\n",
        "# Verifica e remove o histograma existente\n",
        "if ROOT.gROOT.FindObject(hist_name):\n",
        "    ROOT.gROOT.FindObject(hist_name).Delete()\n",
        "\n",
        "# Verifica e remove o canvas existente\n",
        "if ROOT.gROOT.FindObject(canvas_name):\n",
        "    ROOT.gROOT.FindObject(canvas_name).Delete()\n",
        "\n",
        "# Criação do histograma com ROOT\n",
        "bins = 30000\n",
        "low = 0.25\n",
        "up = 300.0\n",
        "hist = ROOT.TH1F(hist_name, r';Mass_{#mu#mu}(GeV/c^2);N_{Events}',bins , low, up)\n",
        "\n",
        "hist.GetXaxis().SetTitleSize(0.042)\n",
        "hist.GetYaxis().SetTitleSize(0.042)\n",
        "hist.SetStats(False)\n",
        "\n",
        "# Preenchendo o histograma com os dados de massa invariante\n",
        "for mass in mass_dimu:\n",
        "    hist.Fill(mass)\n",
        "\n",
        "# Criação do canvas e desenho do histograma\n",
        "ROOT.gStyle.SetOptStat(0)\n",
        "ROOT.gStyle.SetTextFont(42)\n",
        "canvas = ROOT.TCanvas(canvas_name, \"Invariant Mass\", 800, 700)\n",
        "canvas.SetLogx()\n",
        "canvas.SetLogy()\n",
        "hist.Draw()\n",
        "\n",
        "# Atualiza o canvas para garantir que o gráfico seja exibido\n",
        "canvas.Update()\n",
        "'''\n",
        "label = ROOT.TLatex()\n",
        "label.SetTextAlign(22)\n",
        "#label.DrawLatex(0.55, 3.0e3, \"#eta\")\n",
        "label.DrawLatex(0.77, 3.0e2, \"#rho,#omega\")\n",
        "label.DrawLatex(1.20, 4.0e2, \"#phi\")\n",
        "label.DrawLatex(4.00, 7.0e2, \"J/#psi\")\n",
        "label.DrawLatex(4.60, 1.0e2, \"#psi'\")\n",
        "label.DrawLatex(13.0, 0.9e2, \"Y(1,2,3S)\")\n",
        "label.DrawLatex(91.0, 6.5e2, \"Z\")\n",
        "label.SetNDC(True)\n",
        "label.SetTextAlign(11)\n",
        "label.SetTextSize(0.03)\n",
        "label.DrawLatex(0.10, 0.92, \"#bf{CMS Open Data}\")\n",
        "label.SetTextAlign(31)\n",
        "label.DrawLatex(0.90, 0.92, \"#sqrt{s} = 13 TeV, L_{int} = 4.7 fb^{-1}\");\n",
        "'''\n",
        "\n",
        "canvas.Draw()\n",
        "\n",
        "# Caso queira salvar o resultado\n",
        "canvas.SaveAs(\"invariant_mass.png\")"
      ]
    },
    {
      "cell_type": "code",
      "execution_count": null,
      "metadata": {
        "id": "_igdL-c7JEzq"
      },
      "outputs": [],
      "source": [
        "#f = TFile(\"muon_data_tree.root\")\n",
        "#f.ls()\n"
      ]
    },
    {
      "cell_type": "code",
      "execution_count": null,
      "metadata": {
        "id": "os_OjwjTJNYj"
      },
      "outputs": [],
      "source": [
        "#f.tree.Print()"
      ]
    },
    {
      "cell_type": "code",
      "execution_count": null,
      "metadata": {
        "id": "7ATm79XhLTka"
      },
      "outputs": [],
      "source": [
        "#max_Events = f.tree.GetEntries()\n",
        "#max_Events"
      ]
    },
    {
      "cell_type": "code",
      "execution_count": null,
      "metadata": {
        "id": "vgmszv9ViTmc",
        "colab": {
          "base_uri": "https://localhost:8080/",
          "height": 87
        },
        "outputId": "ab0d4b7c-fa42-4f9a-8ac9-287d3ad5da1d"
      },
      "outputs": [
        {
          "output_type": "execute_result",
          "data": {
            "text/plain": [
              "'\\nhist2 = ROOT.TH1F(\"\", \";Mass_{#mu#mu}(GeV/c^2);N_{Events}\",bins , low, up)\\n\\nhist2.GetXaxis().SetTitleSize(0.040)\\nhist2.GetYaxis().SetTitleSize(0.040)\\nhist2.SetStats(False)\\n\\n# Preenchendo o histograma com os dados de massa invariante\\nfor i, mass in enumerate(f.tree):\\n    hist2.Fill(mass.mass_dimu)\\n    if i>max_Events:\\n      break\\n\\n# Criação do canvas e desenho do histograma\\ncanvas2 = ROOT.TCanvas(\"canvas2\", \"Invariant Mass\", 800, 700)\\n\\nhist2.Draw()\\n# Atualiza o canvas para garantir que o gráfico seja exibido\\ncanvas2.Update()\\n'"
            ],
            "application/vnd.google.colaboratory.intrinsic+json": {
              "type": "string"
            }
          },
          "metadata": {},
          "execution_count": 96
        }
      ],
      "source": [
        "'''\n",
        "hist2 = ROOT.TH1F(\"\", \";Mass_{#mu#mu}(GeV/c^2);N_{Events}\",bins , low, up)\n",
        "\n",
        "hist2.GetXaxis().SetTitleSize(0.040)\n",
        "hist2.GetYaxis().SetTitleSize(0.040)\n",
        "hist2.SetStats(False)\n",
        "\n",
        "# Preenchendo o histograma com os dados de massa invariante\n",
        "for i, mass in enumerate(f.tree):\n",
        "    hist2.Fill(mass.mass_dimu)\n",
        "    if i>max_Events:\n",
        "      break\n",
        "\n",
        "# Criação do canvas e desenho do histograma\n",
        "canvas2 = ROOT.TCanvas(\"canvas2\", \"Invariant Mass\", 800, 700)\n",
        "\n",
        "hist2.Draw()\n",
        "# Atualiza o canvas para garantir que o gráfico seja exibido\n",
        "canvas2.Update()\n",
        "'''"
      ]
    },
    {
      "cell_type": "code",
      "execution_count": null,
      "metadata": {
        "id": "zMYAmMUVtYY4",
        "colab": {
          "base_uri": "https://localhost:8080/"
        },
        "outputId": "f5793248-f6ba-4e46-859f-e7fd333eaf5d"
      },
      "outputs": [
        {
          "output_type": "stream",
          "name": "stdout",
          "text": [
            "7\n",
            "[#1] INFO:DataHandling -- RooDataHist::adjustBinning(data): fit range of variable mass expanded to nearest bin boundaries: [2.9,3.3] --> [2.89779,3.30745]\n"
          ]
        }
      ],
      "source": [
        "#Configurar os limites da massa do pico escolhido, como exemplos usaremos o pico do J/Psi->muon+muon\n",
        "#Com o hist sem o log em y\n",
        "jpsi_pdg_mass =3.0969 #3096.900/1000\n",
        "m_min = 2.9\n",
        "m_max = 3.3\n",
        "jpsi_bins = int((m_max - m_min)/0.05)\n",
        "print(jpsi_bins)\n",
        "\n",
        "# Definindo a variável de massa para RooFit\n",
        "#Create a Mass variable that RooFit can use, and importing the relevant dataset\n",
        "mass = ROOT.RooRealVar(\"mass\", \"m_{\\mu^{+}\\mu^{-}}\", m_min, m_max, \"GeV/c^{2}\")\n",
        "# Convertendo o histograma em um dataset do RooFit\n",
        "data = ROOT.RooDataHist(\"data\", \"dataset with mass\", ROOT.RooArgList(mass), hist)\n"
      ]
    },
    {
      "cell_type": "code",
      "execution_count": null,
      "metadata": {
        "id": "LF3j6jUIiTjH"
      },
      "outputs": [],
      "source": [
        "## Sinal PDF : Crystal Ball + Gaussian\n",
        "frac_gauss = ROOT.RooRealVar(\"frac_gauss\", \"\", 0.4, 0.0, 1.0)\n",
        "mean = ROOT.RooRealVar(\"mean\", \"\",jpsi_pdg_mass , m_min, m_max)\n",
        "sigma_gauss = ROOT.RooRealVar(\"sigma gauss\", \"\",0.019 , 0.000001, 1.0)\n",
        "\n",
        "frac_cb = ROOT.RooRealVar(\"frac_cb\", \"\", 0.6, 0.0, 1.0)\n",
        "sigma_cb = ROOT.RooRealVar(\"sigma cb\", \"\",0.019 , 0.000001, 1.0)\n",
        "alpha = ROOT.RooRealVar(\"alpha\", \"\",1.4 , 0.0, 10.0)\n",
        "n = ROOT.RooRealVar(\"n\", \"\", 20 , 0, 150)\n",
        "n.setConstant(True)\n",
        "\n",
        "signal1 = ROOT.RooGaussian(\"gauss\", \"\", mass, mean, sigma_gauss)\n",
        "signal2 = ROOT.RooCBShape(\"crystal ball\", \"\", mass, mean, sigma_cb,alpha,n)\n"
      ]
    },
    {
      "cell_type": "code",
      "execution_count": null,
      "metadata": {
        "id": "1My_vuzNXUHy"
      },
      "outputs": [],
      "source": [
        "#Background PDF Model\n",
        "exp_c0 = RooRealVar(\"exp_c0\", \"\", -3,-5,5)\n",
        "bkg = ROOT.RooExponential(\"bkg\", \"\",mass,exp_c0)\n",
        "\n"
      ]
    },
    {
      "cell_type": "code",
      "execution_count": null,
      "metadata": {
        "id": "XezSO4YHX9e9"
      },
      "outputs": [],
      "source": [
        "model = ROOT.RooAddPdf(\"model\", \"\", ROOT.RooArgList(signal1,signal2,bkg),ROOT.RooArgList(frac_gauss,frac_cb), ROOT.kTRUE)"
      ]
    },
    {
      "cell_type": "code",
      "execution_count": null,
      "metadata": {
        "id": "pfP_8nzVYsWu",
        "colab": {
          "base_uri": "https://localhost:8080/"
        },
        "outputId": "150c140e-7b11-40ed-8cd2-fc500b04ab3b"
      },
      "outputs": [
        {
          "output_type": "stream",
          "name": "stdout",
          "text": [
            "[#1] INFO:Fitting -- RooAbsPdf::fitTo(model) fixing normalization set for coefficient determination to observables in data\n",
            "[#1] INFO:Fitting -- RooAddition::defaultErrorLevel(nll_model_data) Summation contains a RooNLLVar, using its error level\n",
            "[#1] INFO:Minimization -- RooAbsMinimizerFcn::setOptimizeConst: activating const optimization\n",
            "Minuit2Minimizer: Minimize with max-calls 3500 convergence for edm < 1 strategy 1\n",
            "Minuit2Minimizer : Valid minimum - status = 0\n",
            "FVAL  = -7818.72009369214993\n",
            "Edm   = 1.60280491383302394e-06\n",
            "Nfcn  = 522\n",
            "alpha\t  = 1.31232\t +/-  0.10172\t(limited)\n",
            "exp_c0\t  = -0.431588\t +/-  0.323012\t(limited)\n",
            "frac_cb\t  = 0.736129\t +/-  0.0171728\t(limited)\n",
            "frac_gauss\t  = 0.141458\t +/-  0.0516588\t(limited)\n",
            "mean\t  = 3.0934\t +/-  0.000668839\t(limited)\n",
            "sigma cb\t  = 0.0404303\t +/-  0.00198117\t(limited)\n",
            "sigma gauss\t  = 0.0173022\t +/-  0.00316402\t(limited)\n",
            "[#1] INFO:Minimization -- RooAbsMinimizerFcn::setOptimizeConst: deactivating const optimization\n"
          ]
        },
        {
          "output_type": "stream",
          "name": "stderr",
          "text": [
            "Info in <Minuit2>: MnSeedGenerator Computing seed using NumericalGradient calculator\n",
            "Info in <Minuit2>: MnSeedGenerator Initial state: FCN =      -6964.874318 Edm =       294593.6704 NCalls =     29\n",
            "Info in <Minuit2>: NegativeG2LineSearch Doing a NegativeG2LineSearch since one of the G2 component is negative\n",
            "Info in <Minuit2>: MnSeedGenerator Negative G2 found - new state: \n",
            "  Minimum value : -7295.095151\n",
            "  Edm           : 2205.374089\n",
            "  Internal parameters:\t[     -1.186472758    -0.6435011088     0.2013579208    -0.2013579208   -0.01550062071     -1.294241998     -1.294241998]\t\n",
            "  Internal gradient  :\t[     -212.2115705     -308.1607359      418.5225519      395.1250737     -3401.659976     -2468.835759     -6964.686035]\t\n",
            "  Internal covariance matrix:\n",
            "[[  0.00015599026              0              0              0              0              0              0]\n",
            " [              0    0.028294373              0              0              0              0              0]\n",
            " [              0              0   0.0015172789              0              0              0              0]\n",
            " [              0              0              0   0.0011718559              0              0              0]\n",
            " [              0              0              0              0  1.3068356e-05              0              0]\n",
            " [              0              0              0              0              0  0.00060998193              0]\n",
            " [              0              0              0              0              0              0  3.7307718e-05]]]\n",
            "Info in <Minuit2>: MnSeedGenerator Initial state  \n",
            "  Minimum value : -7295.095151\n",
            "  Edm           : 2205.374089\n",
            "  Internal parameters:\t[     -1.186472758    -0.6435011088     0.2013579208    -0.2013579208   -0.01550062071     -1.294241998     -1.294241998]\t\n",
            "  Internal gradient  :\t[     -212.2115705     -308.1607359      418.5225519      395.1250737     -3401.659976     -2468.835759     -6964.686035]\t\n",
            "  Internal covariance matrix:\n",
            "[[  0.00015599026              0              0              0              0              0              0]\n",
            " [              0    0.028294373              0              0              0              0              0]\n",
            " [              0              0   0.0015172789              0              0              0              0]\n",
            " [              0              0              0   0.0011718559              0              0              0]\n",
            " [              0              0              0              0  1.3068356e-05              0              0]\n",
            " [              0              0              0              0              0  0.00060998193              0]\n",
            " [              0              0              0              0              0              0  3.7307718e-05]]]\n",
            "Info in <Minuit2>: VariableMetricBuilder Start iterating until Edm is < 0.001 with call limit = 3500\n",
            "Info in <Minuit2>: VariableMetricBuilder    0 - FCN =      -7295.095151 Edm =       2205.374089 NCalls =     59\n",
            "Info in <Minuit2>: VariableMetricBuilder    1 - FCN =      -7664.407234 Edm =       210.8733484 NCalls =     84\n",
            "Info in <Minuit2>: VariableMetricBuilder    2 - FCN =      -7784.984508 Edm =        35.5332768 NCalls =    102\n",
            "Info in <Minuit2>: VariableMetricBuilder    3 - FCN =      -7797.103521 Edm =       3.418979526 NCalls =    118\n",
            "Info in <Minuit2>: VariableMetricBuilder    4 - FCN =      -7805.226447 Edm =       2.288695256 NCalls =    134\n",
            "Info in <Minuit2>: VariableMetricBuilder    5 - FCN =      -7809.026309 Edm =      0.5737938616 NCalls =    151\n",
            "Info in <Minuit2>: VariableMetricBuilder    6 - FCN =      -7809.841934 Edm =     0.06622120772 NCalls =    167\n",
            "Info in <Minuit2>: VariableMetricBuilder    7 - FCN =      -7809.950469 Edm =     0.07750301277 NCalls =    183\n",
            "Info in <Minuit2>: VariableMetricBuilder    8 - FCN =       -7810.40294 Edm =      0.3041813832 NCalls =    201\n",
            "Info in <Minuit2>: VariableMetricBuilder    9 - FCN =      -7811.529336 Edm =      0.4073349757 NCalls =    217\n",
            "Info in <Minuit2>: VariableMetricBuilder   10 - FCN =      -7811.937243 Edm =      0.2526766561 NCalls =    232\n",
            "Info in <Minuit2>: VariableMetricBuilder   11 - FCN =      -7812.157648 Edm =     0.07483433695 NCalls =    249\n",
            "Info in <Minuit2>: VariableMetricBuilder   12 - FCN =      -7812.327398 Edm =      0.1705139545 NCalls =    266\n",
            "Info in <Minuit2>: VariableMetricBuilder   13 - FCN =      -7813.087794 Edm =       2.604152373 NCalls =    285\n",
            "Info in <Minuit2>: VariableMetricBuilder   14 - FCN =      -7813.613551 Edm =       1.326908198 NCalls =    303\n",
            "Info in <Minuit2>: VariableMetricBuilder   15 - FCN =      -7813.710193 Edm =      0.2259425445 NCalls =    320\n",
            "Info in <Minuit2>: VariableMetricBuilder   16 - FCN =      -7814.990169 Edm =       2.594134005 NCalls =    339\n",
            "Info in <Minuit2>: VariableMetricBuilder   17 - FCN =      -7817.481035 Edm =       2.241518742 NCalls =    359\n",
            "Info in <Minuit2>: VariableMetricBuilder   18 - FCN =      -7818.103675 Edm =      0.7113764093 NCalls =    377\n",
            "Info in <Minuit2>: VariableMetricBuilder   19 - FCN =      -7818.367509 Edm =     0.08817261344 NCalls =    393\n",
            "Info in <Minuit2>: VariableMetricBuilder   20 - FCN =      -7818.511687 Edm =     0.07303587107 NCalls =    409\n",
            "Info in <Minuit2>: VariableMetricBuilder   21 - FCN =      -7818.615703 Edm =     0.06016295613 NCalls =    425\n",
            "Info in <Minuit2>: VariableMetricBuilder   22 - FCN =      -7818.714929 Edm =    0.001883376856 NCalls =    441\n",
            "Info in <Minuit2>: VariableMetricBuilder   23 - FCN =      -7818.717081 Edm =   0.0001653066489 NCalls =    457\n",
            "Info in <Minuit2>: VariableMetricBuilder After Hessian\n",
            "Info in <Minuit2>: VariableMetricBuilder   24 - FCN =      -7818.717081 Edm =    0.002989021778 NCalls =    507\n",
            "Info in <Minuit2>: VariableMetricBuilder Tolerance not sufficient, continue minimization; Edm 0.00298902 Required 0.001\n",
            "Info in <Minuit2>: VariableMetricBuilder   25 - FCN =      -7818.720094 Edm =   1.602804914e-06 NCalls =    522\n",
            "Info in <Minuit2>: Minuit2Minimizer::Hesse Using max-calls 3500\n",
            "Info in <Minuit2>: Minuit2Minimizer::Hesse Hesse is valid - matrix is accurate\n"
          ]
        }
      ],
      "source": [
        "fit_result = model.fitTo(data, ROOT.RooFit.Save())"
      ]
    },
    {
      "cell_type": "code",
      "execution_count": null,
      "metadata": {
        "id": "4yQMfucjY09Z",
        "colab": {
          "resources": {
            "http://localhost:8080/static/build/jsroot.js": {
              "data": "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",
              "ok": false,
              "headers": [
                [
                  "content-length",
                  "9306"
                ],
                [
                  "content-type",
                  "text/html"
                ]
              ],
              "status": 404,
              "status_text": ""
            },
            "http://localhost:8080/mathjax/3.2.0/es5/tex-svg.js": {
              "data": "",
              "ok": false,
              "headers": [
                [
                  "content-length",
                  "0"
                ]
              ],
              "status": 404,
              "status_text": ""
            }
          },
          "base_uri": "https://localhost:8080/",
          "height": 791
        },
        "outputId": "dfd6b515-7675-4fd8-8277-3027924adbdd"
      },
      "outputs": [
        {
          "output_type": "stream",
          "name": "stdout",
          "text": [
            "nr de par: 7\n",
            "chi sqare: 0.7861728011355835\n",
            "chi_square/n_param 0.948031907251733\n",
            "[#1] INFO:Plotting -- RooAbsPdf::plotOn(model) directly selected PDF components: (gauss,crystal ball)\n",
            "[#1] INFO:Plotting -- RooAbsPdf::plotOn(model) indirectly selected PDF components: ()\n",
            "[#1] INFO:Plotting -- RooAbsPdf::plotOn(model) directly selected PDF components: (bkg)\n",
            "[#1] INFO:Plotting -- RooAbsPdf::plotOn(model) indirectly selected PDF components: ()\n",
            "frame_mass_10199440[mass] = (::,::,::,::)\n"
          ]
        },
        {
          "output_type": "stream",
          "name": "stderr",
          "text": [
            "Warning in <TCanvas::Constructor>: Deleting canvas with same name: can\n",
            "Info in <TCanvas::Print>: png file M_JPsi_fit.png has been created\n"
          ]
        },
        {
          "output_type": "display_data",
          "data": {
            "text/plain": [
              "<IPython.core.display.HTML object>"
            ],
            "text/html": [
              "\n",
              "\n",
              "<div id=\"root_plot_1742475688478\" style=\"width: 900px; height: 600px; position: relative\">\n",
              "</div>\n",
              "\n",
              "<script>\n",
              "\n",
              "function display_root_plot_1742475688478(Core) {\n",
              "   let obj = Core.parse({\"_typename\":\"TCanvasWebSnapshot\",\"fUniqueID\":0,\"fBits\":0,\"fObjectID\":\"\",\"fOption\":\"\",\"fKind\":3,\"fSnapshot\":{\"_typename\":\"TCanvas\",\"fUniqueID\":0,\"fBits\":3342344,\"fLineColor\":1,\"fLineStyle\":1,\"fLineWidth\":1,\"fFillColor\":0,\"fFillStyle\":1001,\"fLeftMargin\":0.1,\"fRightMargin\":0.1,\"fBottomMargin\":0.1,\"fTopMargin\":0.1,\"fXfile\":2,\"fYfile\":2,\"fAfile\":1,\"fXstat\":0.99,\"fYstat\":0.99,\"fAstat\":2,\"fFrameFillColor\":0,\"fFrameLineColor\":1,\"fFrameFillStyle\":1001,\"fFrameLineStyle\":1,\"fFrameLineWidth\":1,\"fFrameBorderSize\":1,\"fFrameBorderMode\":0,\"fX1\":2.84658437118476,\"fY1\":-74.7293774472287,\"fX2\":3.35865729548191,\"fY2\":672.564352482879,\"fXtoAbsPixelk\":-4980.81323101063,\"fXtoPixelk\":-4980.81323101063,\"fXtoPixel\":1749.75078252734,\"fYtoAbsPixelk\":514.799996590614,\"fYtoPixelk\":514.799996590614,\"fYtoPixel\":-0.76542860871253,\"fUtoAbsPixelk\":0,\"fUtoPixelk\":0,\"fUtoPixel\":896,\"fVtoAbsPixelk\":572,\"fVtoPixelk\":572,\"fVtoPixel\":-572,\"fAbsPixeltoXk\":2.84658437118476,\"fPixeltoXk\":2.84658437118476,\"fPixeltoX\":5.71509960153068e-4,\"fAbsPixeltoYk\":672.564352482879,\"fPixeltoYk\":-74.7293774472287,\"fPixeltoY\":-1.30645756980788,\"fXlowNDC\":0,\"fYlowNDC\":0,\"fXUpNDC\":1,\"fYUpNDC\":1,\"fWNDC\":1,\"fHNDC\":1,\"fAbsXlowNDC\":0,\"fAbsYlowNDC\":0,\"fAbsWNDC\":1,\"fAbsHNDC\":1,\"fUxmin\":2.89779166666667,\"fUymin\":0,\"fUxmax\":3.30745,\"fUymax\":597.834975035651,\"fTheta\":30,\"fPhi\":30,\"fAspectRatio\":0,\"fNumber\":0,\"fTickx\":0,\"fTicky\":0,\"fLogx\":0,\"fLogy\":0,\"fLogz\":0,\"fPadPaint\":0,\"fCrosshair\":0,\"fCrosshairPos\":0,\"fBorderSize\":2,\"fBorderMode\":0,\"fModified\":false,\"fGridx\":false,\"fGridy\":false,\"fAbsCoord\":false,\"fEditable\":true,\"fFixedAspectRatio\":false,\"fPrimitives\":{\"_typename\":\"TList\",\"name\":\"TList\",\"arr\":[],\"opt\":[]},\"fExecs\":null,\"fName\":\"can\",\"fTitle\":\"\",\"fNumPaletteColor\":0,\"fNextPaletteColor\":0,\"fDISPLAY\":\"$DISPLAY\",\"fDoubleBuffer\":0,\"fRetained\":true,\"fXsizeUser\":0,\"fYsizeUser\":0,\"fXsizeReal\":20,\"fYsizeReal\":13.33333,\"fWindowTopX\":0,\"fWindowTopY\":0,\"fWindowWidth\":0,\"fWindowHeight\":0,\"fCw\":896,\"fCh\":572,\"fCatt\":{\"_typename\":\"TAttCanvas\",\"fXBetween\":2,\"fYBetween\":2,\"fTitleFromTop\":1.2,\"fXdate\":0.2,\"fYdate\":0.3,\"fAdate\":1},\"kMoveOpaque\":true,\"kResizeOpaque\":true,\"fHighLightColor\":2,\"fBatch\":true,\"kShowEventStatus\":false,\"kAutoExec\":true,\"kMenuBar\":true},\"fActive\":false,\"fReadOnly\":true,\"fWithoutPrimitives\":false,\"fHasExecs\":false,\"fPrimitives\":[{\"_typename\":\"TWebSnapshot\",\"fUniqueID\":0,\"fBits\":0,\"fObjectID\":\"\",\"fOption\":\"\",\"fKind\":4,\"fSnapshot\":{\"_typename\":\"TWebPainting\",\"fUniqueID\":0,\"fBits\":0,\"fOper\":\"0:255,255,255;1:0,0,0;2:255,0,0;3:0,255,0;4:0,0,255;5:255,255,0;6:255,0,255;7:0,255,255;8:89,211,84;9:89,84,216;10:254,254,254;11:192,182,172;12:76,76,76;13:102,102,102;14:127,127,127;15:153,153,153;16:178,178,178;17:204,204,204;18:229,229,229;19:242,242,242;20:204,198,170;21:204,198,170;22:193,191,168;23:186,181,163;24:178,165,150;25:183,163,155;26:173,153,140;27:155,142,130;28:135,102,86;29:175,206,198;30:132,193,163;31:137,168,160;32:130,158,140;33:173,188,198;34:122,142,153;35:117,137,145;36:104,130,150;37:109,122,132;38:124,153,209;39:127,127,155;40:170,165,191;41:211,206,135;42:221,186,135;43:188,158,130;44:198,153,124;45:191,130,119;46:206,94,96;47:170,142,147;48:165,119,122;49:147,104,112;50:211,89,84;51:146,0,255;52:122,0,255;53:98,0,255;54:74,0,255;55:51,0,255;56:27,0,255;57:3,0,255;58:0,20,255;59:0,44,255;60:0,68,255;61:0,91,255;62:0,115,255;63:0,139,255;64:0,163,255;65:0,187,255;66:0,210,255;67:0,234,255;68:0,255,251;69:0,255,227;70:0,255,204;71:0,255,180;72:0,255,156;73:0,255,132;74:0,255,108;75:0,255,85;76:0,255,61;77:0,255,37;78:0,255,13;79:10,255,0;80:34,255,0;81:57,255,0;82:81,255,0;83:105,255,0;84:129,255,0;85:153,255,0;86:176,255,0;87:200,255,0;88:224,255,0;89:248,255,0;90:255,238,0;91:255,214,0;92:255,190,0;93:255,166,0;94:255,142,0;95:255,119,0;96:255,95,0;97:255,71,0;98:255,47,0;99:255,23,0;100:111,45,168;101:165,42,42;102:178,190,181;103:87,144,252;104:248,156,32;105:228,37,54;106:150,74,139;107:156,156,161;108:122,33,221;109:24,69,251;110:255,94,2;111:201,31,22;112:200,73,169;113:173,173,125;114:134,200,221;115:87,141,255;116:101,99,100;117:63,144,218;118:255,169,14;119:189,31,1;120:148,164,162;121:131,45,182;122:169,107,89;123:231,99,0;124:185,172,112;125:113,117,129;126:146,218,221;127:178,178,178;201:91,91,91;202:122,122,122;203:183,183,183;204:214,214,214;205:137,15,15;206:183,20,20;207:234,71,71;208:239,117,117;209:15,137,15;210:20,183,20;211:71,234,71;212:117,239,117;213:15,15,137;214:20,20,183;215:71,71,234;216:117,117,239;217:137,137,15;218:183,183,20;219:234,234,71;220:239,239,117;221:137,15,137;222:183,20,183;223:234,71,234;224:239,117,239;225:15,137,137;226:20,183,183;227:71,234,234;228:117,239,239;390:255,255,204;391:255,255,153;392:204,204,153;393:255,255,102;394:204,204,102;395:153,153,102;396:255,255,51;397:204,204,51;398:153,153,51;399:102,102,51;400:255,255,0;401:204,204,0;402:153,153,0;403:102,102,0;404:51,51,0;406:204,255,204;407:153,255,153;408:153,204,153;409:102,255,102;410:102,204,102;411:102,153,102;412:51,255,51;413:51,204,51;414:51,153,51;415:51,102,51;416:0,255,0;417:0,204,0;418:0,153,0;419:0,102,0;420:0,51,0;422:204,255,255;423:153,255,255;424:153,204,204;425:102,255,255;426:102,204,204;427:102,153,153;428:51,255,255;429:51,204,204;430:51,153,153;431:51,102,102;432:0,255,255;433:0,204,204;434:0,153,153;435:0,102,102;436:0,51,51;590:204,204,255;591:153,153,255;592:153,153,204;593:102,102,255;594:102,102,204;595:102,102,153;596:51,51,255;597:51,51,204;598:51,51,153;599:51,51,102;600:0,0,255;601:0,0,204;602:0,0,153;603:0,0,102;604:0,0,51;606:255,204,255;607:255,153,255;608:204,153,204;609:255,102,255;610:204,102,204;611:153,102,153;612:255,51,255;613:204,51,204;614:153,51,153;615:102,51,102;616:255,0,255;617:204,0,204;618:153,0,153;619:102,0,102;620:51,0,51;622:255,204,204;623:255,153,153;624:204,153,153;625:255,102,102;626:204,102,102;627:153,102,102;628:255,51,51;629:204,51,51;630:153,51,51;631:102,51,51;632:255,0,0;633:204,0,0;634:153,0,0;635:102,0,0;636:51,0,0;791:255,204,153;792:204,153,102;793:153,102,51;794:153,102,0;795:204,153,51;796:255,204,102;797:255,153,0;798:255,204,51;799:204,153,0;800:255,204,0;801:255,153,51;802:204,102,0;803:102,51,0;804:153,51,0;805:204,102,51;806:255,153,102;807:255,102,0;808:255,102,51;809:204,51,0;810:255,51,0;811:153,255,51;812:102,204,0;813:51,102,0;814:51,153,0;815:102,204,51;816:153,255,102;817:102,255,0;818:102,255,51;819:51,204,0;820:51,255,0;821:204,255,153;822:153,204,102;823:102,153,51;824:102,153,0;825:153,204,51;826:204,255,102;827:153,255,0;828:204,255,51;829:153,204,0;830:204,255,0;831:153,255,204;832:102,204,153;833:51,153,102;834:0,153,102;835:51,204,153;836:102,255,204;837:0,255,102;838:51,255,204;839:0,204,153;840:0,255,204;841:51,255,153;842:0,204,102;843:0,102,51;844:0,153,51;845:51,204,102;846:102,255,153;847:0,255,153;848:51,255,102;849:0,204,51;850:0,255,51;851:153,204,255;852:102,153,204;853:51,102,153;854:0,51,153;855:51,102,204;856:102,153,255;857:0,102,255;858:51,102,255;859:0,51,204;860:0,51,255;861:51,153,255;862:0,102,204;863:0,51,102;864:0,102,153;865:51,153,204;866:102,204,255;867:0,153,255;868:51,204,255;869:0,153,204;870:0,204,255;871:204,153,255;872:153,102,204;873:102,51,153;874:102,0,153;875:153,51,204;876:204,102,255;877:153,0,255;878:204,51,255;879:153,0,204;880:204,0,255;881:153,51,255;882:102,0,204;883:51,0,102;884:51,0,153;885:102,51,204;886:153,102,255;887:102,0,255;888:102,51,255;889:51,0,204;890:51,0,255;891:255,51,153;892:204,0,102;893:102,0,51;894:153,0,51;895:204,51,102;896:255,102,153;897:255,0,102;898:255,51,102;899:204,0,51;900:255,0,51;901:255,153,204;902:204,102,153;903:153,51,102;904:153,0,102;905:204,51,153;906:255,102,204;907:255,0,153;908:204,0,153;909:255,51,204;910:255,0,153;920:204,204,204;921:153,153,153;922:102,102,102;923:51,51,51;924:53,42,134;925:51,44,137;926:50,45,140;927:49,47,143;928:48,48,146;929:46,50,148;930:45,51,151;931:44,53,154;932:43,55,157;933:42,56,160;934:40,58,162;935:39,59,165;936:38,61,168;937:37,63,171;938:35,64,174;939:34,66,176;940:33,67,179;941:32,69,182;942:31,71,185;943:29,72,187;944:28,74,190;945:27,75,193;946:26,77,196;947:24,79,199;948:23,80,201;949:22,82,204;950:21,83,207;951:19,85,210;952:18,86,213;953:17,88,215;954:16,90,218;955:15,91,221;956:15,92,221;957:15,94,220;958:15,95,220;959:15,96,220;960:15,97,220;961:15,98,220;962:16,99,219;963:16,100,219;964:16,102,219;965:16,103,219;966:16,104,218;967:16,105,218;968:17,106,218;969:17,107,218;970:17,109,217;971:17,110,217;972:17,111,217;973:17,112,217;974:17,113,216;975:18,114,216;976:18,115,216;977:18,117,216;978:18,118,215;979:18,119,215;980:18,120,215;981:18,121,215;982:19,122,215;983:19,123,214;984:19,125,214;985:19,126,214;986:19,127,214;987:19,128,213;988:19,129,213;989:19,130,213;990:18,131,212;991:18,132,212;992:17,134,211;993:17,135,211;994:16,136,211;995:16,137,210;996:15,138,210;997:15,139,210;998:15,140,209;999:14,141,209;1000:14,142,208;1001:13,143,208;1002:13,145,208;1003:12,146,207;1004:12,147,207;1005:12,148,207;1006:11,149,206;1007:11,150,206;1008:10,151,205;1009:10,152,205;1010:9,153,205;1011:9,154,204;1012:8,155,204;1013:8,157,204;1014:8,158,203;1015:7,159,203;1016:7,160,202;1017:6,161,202;1018:6,162,202;1019:5,163,201;1020:7,164,200;1021:8,164,199;1022:9,165,198;1023:10,166,197;1024:12,166,195;1025:13,167,194;1026:14,167,193;1027:15,168,192;1028:17,169,191;1029:18,169,189;1030:19,170,188;1031:20,170,187;1032:22,171,186;1033:23,172,185;1034:24,172,184;1035:25,173,182;1036:27,173,181;1037:28,174,180;1038:29,175,179;1039:30,175,178;1040:32,176,176;1041:33,176,175;1042:34,177,174;1043:35,178,173;1044:37,178,172;1045:38,179,170;1046:39,180,169;1047:40,180,168;1048:42,181,167;1049:43,181,166;1050:44,182,165;1051:45,183,163;1052:48,183,162;1053:51,183,161;1054:54,183,159;1055:57,184,158;1056:59,184,156;1057:62,184,155;1058:65,184,154;1059:68,185,152;1060:71,185,151;1061:73,185,149;1062:76,185,148;1063:79,186,146;1064:82,186,145;1065:84,186,144;1066:87,186,142;1067:90,187,141;1068:93,187,139;1069:96,187,138;1070:98,187,137;1071:101,188,135;1072:104,188,134;1073:107,188,132;1074:110,188,131;1075:112,189,130;1076:115,189,128;1077:118,189,127;1078:121,189,125;1079:124,190,124;1080:126,190,123;1081:129,190,121;1082:132,190,120;1083:135,191,118;1084:137,190,117;1085:139,190,117;1086:142,190,116;1087:144,190,115;1088:146,190,114;1089:148,190,113;1090:151,190,112;1091:153,190,111;1092:155,189,110;1093:158,189,109;1094:160,189,108;1095:162,189,107;1096:165,189,106;1097:167,189,105;1098:169,189,104;1099:171,188,104;1100:174,188,103;1101:176,188,102;1102:178,188,101;1103:181,188,100;1104:183,188,99;1105:185,188,98;1106:188,188,97;1107:190,187,96;1108:192,187,95;1109:194,187,94;1110:197,187,93;1111:199,187,92;1112:201,187,92;1113:204,187,91;1114:206,186,90;1115:208,186,89;1116:210,187,88;1117:211,187,86;1118:212,188,85;1119:214,188,84;1120:215,188,83;1121:217,189,81;1122:218,189,80;1123:220,190,79;1124:221,190,78;1125:222,191,77;1126:224,191,75;1127:225,191,74;1128:227,192,73;1129:228,192,72;1130:229,193,70;1131:231,193,69;1132:232,194,68;1133:234,194,67;1134:235,194,66;1135:236,195,64;1136:238,195,63;1137:239,196,62;1138:241,196,61;1139:242,197,59;1140:244,197,58;1141:245,197,57;1142:246,198,56;1143:248,198,55;1144:249,199,53;1145:251,199,52;1146:252,200,51;1147:253,200,50;1148:253,202,49;1149:253,203,47;1150:253,205,46;1151:253,206,45;1152:253,208,44;1153:252,209,43;1154:252,211,42;1155:252,213,41;1156:252,214,39;1157:252,216,38;1158:252,217,37;1159:252,219,36;1160:251,220,35;1161:251,222,34;1162:251,224,33;1163:251,225,31;1164:251,227,30;1165:251,228,29;1166:250,230,28;1167:250,231,27;1168:250,233,26;1169:250,235,25;1170:250,236,23;1171:250,238,22;1172:250,239,21;1173:249,241,20;1174:249,242,19;1175:249,244,18;1176:249,246,17;1177:249,247,16;1178:249,249,14\",\"fBuf\":{\"$arr\":\"Float32\",\"len\":255,\"v\":[924,925,926,927,928,929,930,931,932,933,934,935,936,937,938,939,940,941,942,943,944,945,946,947,948,949,950,951,952,953,954,955,956,957,958,959,960,961,962,963,964,965,966,967,968,969,970,971,972,973,974,975,976,977,978,979,980,981,982,983,984,985,986,987,988,989,990,991,992,993,994,995,996,997,998,999,1000,1001,1002,1003,1004,1005,1006,1007,1008,1009,1010,1011,1012,1013,1014,1015,1016,1017,1018,1019,1020,1021,1022,1023,1024,1025,1026,1027,1028,1029,1030,1031,1032,1033,1034,1035,1036,1037,1038,1039,1040,1041,1042,1043,1044,1045,1046,1047,1048,1049,1050,1051,1052,1053,1054,1055,1056,1057,1058,1059,1060,1061,1062,1063,1064,1065,1066,1067,1068,1069,1070,1071,1072,1073,1074,1075,1076,1077,1078,1079,1080,1081,1082,1083,1084,1085,1086,1087,1088,1089,1090,1091,1092,1093,1094,1095,1096,1097,1098,1099,1100,1101,1102,1103,1104,1105,1106,1107,1108,1109,1110,1111,1112,1113,1114,1115,1116,1117,1118,1119,1120,1121,1122,1123,1124,1125,1126,1127,1128,1129,1130,1131,1132,1133,1134,1135,1136,1137,1138,1139,1140,1141,1142,1143,1144,1145,1146,1147,1148,1149,1150,1151,1152,1153,1154,1155,1156,1157,1158,1159,1160,1161,1162,1163,1164,1165,1166,1167,1168,1169,1170,1171,1172,1173,1174,1175,1176,1177,1178]}}},{\"_typename\":\"TWebSnapshot\",\"fUniqueID\":0,\"fBits\":0,\"fObjectID\":\"\",\"fOption\":\"\",\"fKind\":5,\"fSnapshot\":{\"_typename\":\"TStyle\",\"fUniqueID\":0,\"fBits\":0,\"fName\":\"Modern\",\"fTitle\":\"Modern Style\",\"fLineColor\":1,\"fLineStyle\":1,\"fLineWidth\":1,\"fFillColor\":19,\"fFillStyle\":1001,\"fMarkerColor\":1,\"fMarkerStyle\":1,\"fMarkerSize\":1,\"fTextAngle\":0,\"fTextSize\":0.05,\"fTextAlign\":11,\"fTextColor\":1,\"fTextFont\":42,\"fXaxis\":{\"_typename\":\"TAttAxis\",\"fNdivisions\":510,\"fAxisColor\":1,\"fLabelColor\":1,\"fLabelFont\":42,\"fLabelOffset\":0.005,\"fLabelSize\":0.035,\"fTickLength\":0.03,\"fTitleOffset\":1,\"fTitleSize\":0.035,\"fTitleColor\":1,\"fTitleFont\":42},\"fYaxis\":{\"_typename\":\"TAttAxis\",\"fNdivisions\":510,\"fAxisColor\":1,\"fLabelColor\":1,\"fLabelFont\":42,\"fLabelOffset\":0.005,\"fLabelSize\":0.035,\"fTickLength\":0.03,\"fTitleOffset\":0,\"fTitleSize\":0.035,\"fTitleColor\":1,\"fTitleFont\":42},\"fZaxis\":{\"_typename\":\"TAttAxis\",\"fNdivisions\":510,\"fAxisColor\":1,\"fLabelColor\":1,\"fLabelFont\":42,\"fLabelOffset\":0.005,\"fLabelSize\":0.035,\"fTickLength\":0.03,\"fTitleOffset\":1,\"fTitleSize\":0.035,\"fTitleColor\":1,\"fTitleFont\":42},\"fBarWidth\":1,\"fBarOffset\":0,\"fColorModelPS\":0,\"fDrawBorder\":0,\"fOptLogx\":0,\"fOptLogy\":0,\"fOptLogz\":0,\"fOptDate\":0,\"fOptStat\":0,\"fOptTitle\":1,\"fOptFile\":0,\"fOptFit\":0,\"fShowEventStatus\":0,\"fShowEditor\":0,\"fShowToolBar\":0,\"fNumberContours\":20,\"fAttDate\":{\"_typename\":\"TAttText\",\"fTextAngle\":0,\"fTextSize\":0.025,\"fTextAlign\":11,\"fTextColor\":1,\"fTextFont\":62},\"fDateX\":0.01,\"fDateY\":0.01,\"fEndErrorSize\":2,\"fErrorX\":0.5,\"fFuncColor\":2,\"fFuncStyle\":1,\"fFuncWidth\":2,\"fGridColor\":0,\"fGridStyle\":3,\"fGridWidth\":1,\"fLegendBorderSize\":1,\"fLegendFillColor\":0,\"fLegendFillStyle\":1001,\"fLegendFont\":42,\"fLegendTextSize\":0,\"fHatchesLineWidth\":1,\"fHatchesSpacing\":1,\"fFrameFillColor\":0,\"fFrameLineColor\":1,\"fFrameFillStyle\":1001,\"fFrameLineStyle\":1,\"fFrameLineWidth\":1,\"fFrameBorderSize\":1,\"fFrameBorderMode\":0,\"fHistFillColor\":0,\"fHistLineColor\":602,\"fHistFillStyle\":1001,\"fHistLineStyle\":1,\"fHistLineWidth\":1,\"fHistMinimumZero\":false,\"fHistTopMargin\":0.05,\"fCanvasPreferGL\":false,\"fCanvasColor\":0,\"fCanvasBorderSize\":2,\"fCanvasBorderMode\":0,\"fCanvasDefH\":500,\"fCanvasDefW\":700,\"fCanvasDefX\":10,\"fCanvasDefY\":10,\"fPadColor\":0,\"fPadBorderSize\":2,\"fPadBorderMode\":0,\"fPadBottomMargin\":0.1,\"fPadTopMargin\":0.1,\"fPadLeftMargin\":0.1,\"fPadRightMargin\":0.1,\"fPadGridX\":false,\"fPadGridY\":false,\"fPadTickX\":0,\"fPadTickY\":0,\"fPaperSizeX\":20,\"fPaperSizeY\":26,\"fScreenFactor\":1,\"fStatColor\":0,\"fStatTextColor\":1,\"fStatBorderSize\":1,\"fStatFont\":42,\"fStatFontSize\":0,\"fStatStyle\":1001,\"fStatFormat\":\"6.4g\",\"fStatX\":0.98,\"fStatY\":0.935,\"fStatW\":0.2,\"fStatH\":0.16,\"fStripDecimals\":true,\"fTitleAlign\":23,\"fTitleColor\":0,\"fTitleTextColor\":1,\"fTitleBorderSize\":0,\"fTitleFont\":42,\"fTitleFontSize\":0.05,\"fTitleStyle\":0,\"fTitleX\":0.5,\"fTitleY\":0.995,\"fTitleW\":0,\"fTitleH\":0,\"fLegoInnerR\":0.5,\"fLineStyles\":[\"\",\"  \",\" 12 12\",\" 4 8\",\" 12 16 4 16\",\" 20 12 4 12\",\" 20 12 4 12 4 12 4 12\",\" 20 20\",\" 20 12 4 12 4 12\",\" 80 20\",\" 80 40 4 40\",\"  \",\"  \",\"  \",\"  \",\"  \",\"  \",\"  \",\"  \",\"  \",\"  \",\"  \",\"  \",\"  \",\"  \",\"  \",\"  \",\"  \",\"  \",\"  \"],\"fHeaderPS\":\"\",\"fTitlePS\":\"\",\"fFitFormat\":\"5.4g\",\"fPaintTextFormat\":\"g\",\"fLineScalePS\":3,\"fJoinLinePS\":0,\"fCapLinePS\":0,\"fTimeOffset\":788918400,\"fImageScaling\":1,\"fCandleWhiskerRange\":1,\"fCandleBoxRange\":0.5,\"fCandleScaled\":false,\"fViolinScaled\":true,\"fXAxisExpXOffset\":0,\"fXAxisExpYOffset\":0,\"fYAxisExpXOffset\":0,\"fYAxisExpYOffset\":0,\"fAxisMaxDigits\":5,\"fOrthoCamera\":false}},{\"_typename\":\"TWebSnapshot\",\"fUniqueID\":0,\"fBits\":0,\"fObjectID\":\"\",\"fOption\":\"\",\"fKind\":1,\"fSnapshot\":{\"_typename\":\"TFrame\",\"fUniqueID\":0,\"fBits\":8,\"fLineColor\":1,\"fLineStyle\":1,\"fLineWidth\":1,\"fFillColor\":0,\"fFillStyle\":1001,\"fX1\":2.89779166666667,\"fY1\":0,\"fX2\":3.30745,\"fY2\":597.834975035651,\"fBorderSize\":1,\"fBorderMode\":0}},{\"_typename\":\"TWebSnapshot\",\"fUniqueID\":0,\"fBits\":0,\"fObjectID\":\"\",\"fOption\":\"FUNC\",\"fKind\":1,\"fSnapshot\":{\"_typename\":\"TH1D\",\"fUniqueID\":0,\"fBits\":520,\"fName\":\"frame_mass_10199440\",\"fTitle\":\"J\\/\\\\Psi Mass Fit\",\"fLineColor\":602,\"fLineStyle\":1,\"fLineWidth\":1,\"fFillColor\":0,\"fFillStyle\":1001,\"fMarkerColor\":1,\"fMarkerStyle\":1,\"fMarkerSize\":1,\"fNcells\":102,\"fXaxis\":{\"_typename\":\"TAxis\",\"fUniqueID\":0,\"fBits\":0,\"fName\":\"xaxis\",\"fTitle\":\"m_{\\\\mu^+\\\\mu^-} [GeV\\/c^2]\",\"fNdivisions\":510,\"fAxisColor\":1,\"fLabelColor\":1,\"fLabelFont\":42,\"fLabelOffset\":0.005,\"fLabelSize\":0.035,\"fTickLength\":0.03,\"fTitleOffset\":1,\"fTitleSize\":0.035,\"fTitleColor\":1,\"fTitleFont\":42,\"fNbins\":100,\"fXmin\":2.89779166666667,\"fXmax\":3.30745,\"fXbins\":[],\"fFirst\":0,\"fLast\":0,\"fBits2\":0,\"fTimeDisplay\":false,\"fTimeFormat\":\"\",\"fLabels\":null,\"fModLabs\":null},\"fYaxis\":{\"_typename\":\"TAxis\",\"fUniqueID\":0,\"fBits\":0,\"fName\":\"yaxis\",\"fTitle\":\"Events \\/ ( 0.00999167 GeV\\/c^{2} )\",\"fNdivisions\":510,\"fAxisColor\":1,\"fLabelColor\":1,\"fLabelFont\":42,\"fLabelOffset\":0.005,\"fLabelSize\":0.035,\"fTickLength\":0.03,\"fTitleOffset\":0,\"fTitleSize\":0.035,\"fTitleColor\":1,\"fTitleFont\":42,\"fNbins\":1,\"fXmin\":0,\"fXmax\":1,\"fXbins\":[],\"fFirst\":0,\"fLast\":0,\"fBits2\":0,\"fTimeDisplay\":false,\"fTimeFormat\":\"\",\"fLabels\":null,\"fModLabs\":null},\"fZaxis\":{\"_typename\":\"TAxis\",\"fUniqueID\":0,\"fBits\":0,\"fName\":\"zaxis\",\"fTitle\":\"\",\"fNdivisions\":510,\"fAxisColor\":1,\"fLabelColor\":1,\"fLabelFont\":42,\"fLabelOffset\":0.005,\"fLabelSize\":0.035,\"fTickLength\":0.03,\"fTitleOffset\":1,\"fTitleSize\":0.035,\"fTitleColor\":1,\"fTitleFont\":42,\"fNbins\":1,\"fXmin\":0,\"fXmax\":1,\"fXbins\":[],\"fFirst\":0,\"fLast\":0,\"fBits2\":0,\"fTimeDisplay\":false,\"fTimeFormat\":\"\",\"fLabels\":null,\"fModLabs\":null},\"fBarOffset\":0,\"fBarWidth\":1000,\"fEntries\":1,\"fTsumw\":0,\"fTsumw2\":0,\"fTsumwx\":0,\"fTsumwx2\":0,\"fMaximum\":597.834975035651,\"fMinimum\":-1111,\"fNormFactor\":0,\"fContour\":[],\"fSumw2\":[],\"fOption\":\"\",\"fFunctions\":{\"_typename\":\"TList\",\"name\":\"TList\",\"arr\":[],\"opt\":[]},\"fBufferSize\":0,\"fBuffer\":[],\"fBinStatErrOpt\":0,\"fStatOverflows\":2,\"fArray\":{\"$arr\":\"Float64\",\"len\":102,\"p\":1,\"v\":597.834975035651}}},{\"_typename\":\"TWebSnapshot\",\"fUniqueID\":0,\"fBits\":0,\"fObjectID\":\"\",\"fOption\":\"p\",\"fKind\":1,\"fSnapshot\":{\"_typename\":\"RooHist\",\"fUniqueID\":0,\"fBits\":1032,\"fName\":\"Data\",\"fTitle\":\"Histogram of data_plot__mass\",\"fLineColor\":1,\"fLineStyle\":1,\"fLineWidth\":1,\"fFillColor\":0,\"fFillStyle\":1000,\"fMarkerColor\":1,\"fMarkerStyle\":8,\"fMarkerSize\":1,\"fNpoints\":41,\"fX\":{\"$arr\":\"Float64\",\"len\":41,\"v\":[2.9027875,2.91277916666667,2.92277083333333,2.9327625,2.94275416666667,2.95274583333333,2.9627375,2.97272916666667,2.98272083333333,2.9927125,3.00270416666667,3.01269583333333,3.0226875,3.03267916666667,3.04267083333333,3.0526625,3.06265416666667,3.07264583333333,3.0826375,3.09262916666667,3.10262083333333,3.1126125,3.12260416666667,3.13259583333333,3.1425875,3.15257916666667,3.16257083333333,3.1725625,3.18255416666667,3.19254583333333,3.2025375,3.21252916666667,3.22252083333333,3.2325125,3.24250416666667,3.25249583333333,3.2624875,3.27247916666667,3.28247083333333,3.2924625,3.30245416666667]},\"fY\":{\"$arr\":\"Float64\",\"len\":41,\"v\":[36,38,40,43,36,51,36,46,44,73,88,99,103,135,185,238,326,429,505,536,546,394,334,266,198,145,101,89,64,47,29,35,27,30,33,39,22,27,31,31,25]},\"fFunctions\":{\"_typename\":\"TList\",\"name\":\"TList\",\"arr\":[],\"opt\":[]},\"fHistogram\":{\"_typename\":\"TH1F\",\"fUniqueID\":0,\"fBits\":512,\"fName\":\"Data\",\"fTitle\":\"Histogram of data_plot__mass\",\"fLineColor\":602,\"fLineStyle\":1,\"fLineWidth\":1,\"fFillColor\":0,\"fFillStyle\":1001,\"fMarkerColor\":1,\"fMarkerStyle\":1,\"fMarkerSize\":1,\"fNcells\":102,\"fXaxis\":{\"_typename\":\"TAxis\",\"fUniqueID\":0,\"fBits\":0,\"fName\":\"xaxis\",\"fTitle\":\"\",\"fNdivisions\":510,\"fAxisColor\":1,\"fLabelColor\":1,\"fLabelFont\":42,\"fLabelOffset\":0.005,\"fLabelSize\":0.035,\"fTickLength\":0.03,\"fTitleOffset\":1,\"fTitleSize\":0.035,\"fTitleColor\":1,\"fTitleFont\":42,\"fNbins\":100,\"fXmin\":2.85682583333333,\"fXmax\":3.34841583333333,\"fXbins\":[],\"fFirst\":0,\"fLast\":0,\"fBits2\":0,\"fTimeDisplay\":false,\"fTimeFormat\":\"\",\"fLabels\":null,\"fModLabs\":null},\"fYaxis\":{\"_typename\":\"TAxis\",\"fUniqueID\":0,\"fBits\":0,\"fName\":\"yaxis\",\"fTitle\":\"\",\"fNdivisions\":510,\"fAxisColor\":1,\"fLabelColor\":1,\"fLabelFont\":42,\"fLabelOffset\":0.005,\"fLabelSize\":0.035,\"fTickLength\":0.03,\"fTitleOffset\":0,\"fTitleSize\":0.035,\"fTitleColor\":1,\"fTitleFont\":42,\"fNbins\":1,\"fXmin\":15.5786258161589,\"fXmax\":624.572348756188,\"fXbins\":[],\"fFirst\":0,\"fLast\":0,\"fBits2\":0,\"fTimeDisplay\":false,\"fTimeFormat\":\"\",\"fLabels\":null,\"fModLabs\":null},\"fZaxis\":{\"_typename\":\"TAxis\",\"fUniqueID\":0,\"fBits\":0,\"fName\":\"zaxis\",\"fTitle\":\"\",\"fNdivisions\":510,\"fAxisColor\":1,\"fLabelColor\":1,\"fLabelFont\":42,\"fLabelOffset\":0.005,\"fLabelSize\":0.035,\"fTickLength\":0.03,\"fTitleOffset\":1,\"fTitleSize\":0.035,\"fTitleColor\":1,\"fTitleFont\":42,\"fNbins\":1,\"fXmin\":0,\"fXmax\":1,\"fXbins\":[],\"fFirst\":0,\"fLast\":0,\"fBits2\":0,\"fTimeDisplay\":false,\"fTimeFormat\":\"\",\"fLabels\":null,\"fModLabs\":null},\"fBarOffset\":0,\"fBarWidth\":1000,\"fEntries\":0,\"fTsumw\":0,\"fTsumw2\":0,\"fTsumwx\":0,\"fTsumwx2\":0,\"fMaximum\":624.572348756188,\"fMinimum\":15.5786258161589,\"fNormFactor\":0,\"fContour\":[],\"fSumw2\":[],\"fOption\":\"\",\"fFunctions\":{\"_typename\":\"TList\",\"name\":\"TList\",\"arr\":[],\"opt\":[]},\"fBufferSize\":0,\"fBuffer\":[],\"fBinStatErrOpt\":0,\"fStatOverflows\":2,\"fArray\":{\"$arr\":\"Float32\",\"len\":102}},\"fMinimum\":-1111,\"fMaximum\":-1111,\"fOption\":\"\",\"fEXlow\":{\"$arr\":\"Float64\",\"len\":41,\"v\":0.00499583333333333,\"n\":41},\"fEXhigh\":{\"$arr\":\"Float64\",\"len\":41,\"v\":0.00499583333333333,\"n\":41},\"fEYlow\":{\"$arr\":\"Float64\",\"len\":41,\"v\":[6,6.16441400296898,6.32455532033676,6.557438524302,6,7.14142842854285,6,6.78232998312527,6.6332495807108,8.54400374531753,9.38083151964686,9.9498743710662,10.1488915650922,11.6189500386223,13.6014705087354,15.4272486205415,18.0554700852678,20.712315177208,22.4722050542442,23.1516738055805,23.3666428910958,19.8494332412792,18.2756668824971,16.3095064303001,14.0712472794703,12.0415945787923,10.0498756211209,9.4339811320566,8,6.85565460040104,5.3851648071345,5.91607978309962,5.19615242270663,5.47722557505166,5.74456264653803,6.2449979983984,4.69041575982343,5.19615242270663,5.56776436283002,5.56776436283002,5]},\"fEYhigh\":{\"$arr\":\"Float64\",\"len\":41,\"v\":[6,6.16441400296898,6.32455532033676,6.557438524302,6,7.14142842854285,6,6.78232998312527,6.6332495807108,8.54400374531753,9.38083151964686,9.9498743710662,10.1488915650922,11.6189500386223,13.6014705087354,15.4272486205415,18.0554700852678,20.712315177208,22.4722050542442,23.1516738055805,23.3666428910958,19.8494332412792,18.2756668824971,16.3095064303001,14.0712472794703,12.0415945787923,10.0498756211209,9.4339811320566,8,6.85565460040104,5.3851648071345,5.91607978309962,5.19615242270663,5.47722557505166,5.74456264653803,6.2449979983984,4.69041575982343,5.19615242270663,5.56776436283002,5.56776436283002,5]},\"_yAxisLabel\":\"Events \\/ ( 0.00999167 GeV\\/c^{2} )\",\"_ymin\":0,\"_ymax\":569.366642891096,\"_normValue\":0,\"_nominalBinWidth\":0.00999166666666666,\"_nSigma\":1,\"_entries\":5600,\"_rawEntries\":-1,\"_originalWeights\":{\"$arr\":\"Float64\",\"len\":41,\"v\":[36,38,40,43,36,51,36,46,44,73,88,99,103,135,185,238,326,429,505,536,546,394,334,266,198,145,101,89,64,47,29,35,27,30,33,39,22,27,31,31,25]}}},{\"_typename\":\"TWebSnapshot\",\"fUniqueID\":0,\"fBits\":0,\"fObjectID\":\"\",\"fOption\":\"l\",\"fKind\":1,\"fSnapshot\":{\"_typename\":\"RooCurve\",\"fUniqueID\":0,\"fBits\":525320,\"fName\":\"Signal\",\"fTitle\":\"Projection of \",\"fLineColor\":4,\"fLineStyle\":1,\"fLineWidth\":3,\"fFillColor\":0,\"fFillStyle\":1000,\"fMarkerColor\":1,\"fMarkerStyle\":1,\"fMarkerSize\":1,\"fNpoints\":114,\"fX\":{\"$arr\":\"Float64\",\"len\":114,\"v\":[2.89369098675,2.89369508333333,2.89779166666667,2.90188825,2.90598483333333,2.91008141666667,2.914178,2.91827458333333,2.92237116666667,2.92646775,2.93056433333333,2.93466091666667,2.9387575,2.94285408333333,2.94695066666667,2.95104725,2.95514383333333,2.95924041666667,2.963337,2.96743358333333,2.97153016666667,2.97562675,2.97972333333333,2.98381991666667,2.9879165,2.99201308333333,2.99610966666667,3.00020625,3.00430283333333,3.00839941666667,3.012496,3.01659258333333,3.02068916666667,3.02478575,3.02888233333333,3.03297891666667,3.0370755,3.04117208333333,3.04526866666667,3.04936525,3.05346183333333,3.05755841666667,3.061655,3.06575158333333,3.06984816666667,3.07394475,3.07804133333333,3.080089625,3.08213791666667,3.08418620833333,3.0862345,3.08828279166667,3.09033108333333,3.092379375,3.09442766666667,3.09647595833333,3.09852425,3.10057254166667,3.10262083333333,3.104669125,3.10671741666667,3.10876570833333,3.110814,3.11491058333333,3.11900716666667,3.12310375,3.12720033333333,3.13129691666667,3.1353935,3.13949008333333,3.14358666666667,3.14768325,3.15177983333333,3.15587641666667,3.159973,3.16406958333333,3.16816616666667,3.17226275,3.17635933333333,3.18045591666667,3.1845525,3.18864908333333,3.19274566666667,3.19684225,3.20093883333333,3.20503541666667,3.209132,3.21322858333333,3.21732516666667,3.22142175,3.22551833333333,3.22961491666667,3.2337115,3.23780808333333,3.24190466666667,3.24600125,3.25009783333333,3.25419441666667,3.258291,3.26238758333333,3.26648416666667,3.27058075,3.27467733333333,3.27877391666667,3.2828705,3.28696708333333,3.29106366666667,3.29516025,3.29925683333333,3.30335341666667,3.30745,3.30745,3.31154658333333,3.31155067991667]},\"fY\":{\"$arr\":\"Float64\",\"len\":114,\"p\":1,\"v\":[2.21285439700747,2.21285439700747,2.46591507916702,2.74953577322194,3.06760484782709,3.42453088597755,3.82531573004694,4.27563827296513,4.7819506493488,5.35158874626802,5.99289926378358,6.71538591822459,7.5298778055912,8.44872343936085,9.48601455924403,10.6578444903597,11.9826066340213,13.4813396133878,15.178126705312,17.1005584946173,19.2802692265978,21.7535591574076,24.5621173864376,27.7538623490288,31.3839207145997,35.5157708411508,40.2225867383135,45.5888390406224,51.7122551980164,58.7063410382519,66.7038705319156,75.8621299847476,86.3713168248402,98.4683064344442,112.458726732545,128.750196182356,147.864119981934,169.314619682249,192.92430052275,219.093535353127,248.290528671103,280.901537359701,316.985085609039,355.97185836174,396.404175826772,435.841115149777,454.192479210507,471.038502450135,485.928312811413,498.435020026896,508.180171980219,514.856652899934,518.248009770687,518.242439970261,514.840128133978,508.153233977244,498.398532240661,485.883405212278,470.98650160159,454.134829919037,435.779300409379,416.370747390306,376.071316832943,336.119946685437,298.467700641374,264.101348709884,233.237467698056,205.617408640384,180.788729901199,158.304797334723,137.825703673629,119.139511332309,102.136845753668,86.7690309067102,73.0093133447001,60.8257462516659,50.1667223273611,40.9564652009629,33.0969011874314,26.4728509884489,20.9584091530262,16.4232199916357,12.7379626456698,9.77874265760348,7.43031709117014,5.58821270158664,4.15986988451834,3.06498109356676,2.23520359258269,1.61342063483853,1.15270814152701,0.815140267055687,0.570540616910254,0.395259230344813,0.271030837544429,0.183948659332532,0.123570777697158,0.0821629769207474,0.054072666388664,0.0352225373591043,0.0227093510803662,0.0144920573385808,0.00915369834007338,0.00572274483264606,0.00354122401603525,0.00216892059740451,0.0013148467540701,7.8894705123659e-4,4.68556329857203e-4,2.75433648324072e-4,2.75433648324072e-4,2.75433648324072e-4]},\"fFunctions\":{\"_typename\":\"TList\",\"name\":\"TList\",\"arr\":[],\"opt\":[]},\"fHistogram\":{\"_typename\":\"TH1F\",\"fUniqueID\":0,\"fBits\":512,\"fName\":\"Signal\",\"fTitle\":\"Projection of \",\"fLineColor\":602,\"fLineStyle\":1,\"fLineWidth\":1,\"fFillColor\":0,\"fFillStyle\":1001,\"fMarkerColor\":1,\"fMarkerStyle\":1,\"fMarkerSize\":1,\"fNcells\":116,\"fXaxis\":{\"_typename\":\"TAxis\",\"fUniqueID\":0,\"fBits\":0,\"fName\":\"xaxis\",\"fTitle\":\"\",\"fNdivisions\":510,\"fAxisColor\":1,\"fLabelColor\":1,\"fLabelFont\":42,\"fLabelOffset\":0.005,\"fLabelSize\":0.035,\"fTickLength\":0.03,\"fTitleOffset\":1,\"fTitleSize\":0.035,\"fTitleColor\":1,\"fTitleFont\":42,\"fNbins\":114,\"fXmin\":2.85190501743333,\"fXmax\":3.35333664923333,\"fXbins\":[],\"fFirst\":0,\"fLast\":0,\"fBits2\":0,\"fTimeDisplay\":false,\"fTimeFormat\":\"\",\"fLabels\":null,\"fModLabs\":null},\"fYaxis\":{\"_typename\":\"TAxis\",\"fUniqueID\":0,\"fBits\":0,\"fName\":\"yaxis\",\"fTitle\":\"\",\"fNdivisions\":510,\"fAxisColor\":1,\"fLabelColor\":1,\"fLabelFont\":42,\"fLabelOffset\":0.005,\"fLabelSize\":0.035,\"fTickLength\":0.03,\"fTitleOffset\":0,\"fTitleSize\":0.035,\"fTitleColor\":1,\"fTitleFont\":42,\"fNbins\":1,\"fXmin\":0,\"fXmax\":570.072810747756,\"fXbins\":[],\"fFirst\":0,\"fLast\":0,\"fBits2\":0,\"fTimeDisplay\":false,\"fTimeFormat\":\"\",\"fLabels\":null,\"fModLabs\":null},\"fZaxis\":{\"_typename\":\"TAxis\",\"fUniqueID\":0,\"fBits\":0,\"fName\":\"zaxis\",\"fTitle\":\"\",\"fNdivisions\":510,\"fAxisColor\":1,\"fLabelColor\":1,\"fLabelFont\":42,\"fLabelOffset\":0.005,\"fLabelSize\":0.035,\"fTickLength\":0.03,\"fTitleOffset\":1,\"fTitleSize\":0.035,\"fTitleColor\":1,\"fTitleFont\":42,\"fNbins\":1,\"fXmin\":0,\"fXmax\":1,\"fXbins\":[],\"fFirst\":0,\"fLast\":0,\"fBits2\":0,\"fTimeDisplay\":false,\"fTimeFormat\":\"\",\"fLabels\":null,\"fModLabs\":null},\"fBarOffset\":0,\"fBarWidth\":1000,\"fEntries\":0,\"fTsumw\":0,\"fTsumw2\":0,\"fTsumwx\":0,\"fTsumwx2\":0,\"fMaximum\":570.072810747756,\"fMinimum\":0,\"fNormFactor\":0,\"fContour\":[],\"fSumw2\":[],\"fOption\":\"\",\"fFunctions\":{\"_typename\":\"TList\",\"name\":\"TList\",\"arr\":[],\"opt\":[]},\"fBufferSize\":0,\"fBuffer\":[],\"fBinStatErrOpt\":0,\"fStatOverflows\":2,\"fArray\":{\"$arr\":\"Float32\",\"len\":116}},\"fMinimum\":-1111,\"fMaximum\":-1111,\"fOption\":\"\",\"_yAxisLabel\":\"Projection of  ( \\/ GeV\\/c^{2} )\",\"_ymin\":0,\"_ymax\":518.248009770687,\"_normValue\":0}},{\"_typename\":\"TWebSnapshot\",\"fUniqueID\":0,\"fBits\":0,\"fObjectID\":\"\",\"fOption\":\"l\",\"fKind\":1,\"fSnapshot\":{\"_typename\":\"RooCurve\",\"fUniqueID\":0,\"fBits\":525320,\"fName\":\"Background\",\"fTitle\":\"Projection of \",\"fLineColor\":3,\"fLineStyle\":2,\"fLineWidth\":3,\"fFillColor\":0,\"fFillStyle\":1000,\"fMarkerColor\":1,\"fMarkerStyle\":1,\"fMarkerSize\":1,\"fNpoints\":106,\"fX\":{\"$arr\":\"Float64\",\"len\":106,\"v\":[2.89369098675,2.89369508333333,2.89779166666667,2.90188825,2.90598483333333,2.91008141666667,2.914178,2.91827458333333,2.92237116666667,2.92646775,2.93056433333333,2.93466091666667,2.9387575,2.94285408333333,2.94695066666667,2.95104725,2.95514383333333,2.95924041666667,2.963337,2.96743358333333,2.97153016666667,2.97562675,2.97972333333333,2.98381991666667,2.9879165,2.99201308333333,2.99610966666667,3.00020625,3.00430283333333,3.00839941666667,3.012496,3.01659258333333,3.02068916666667,3.02478575,3.02888233333333,3.03297891666667,3.0370755,3.04117208333333,3.04526866666667,3.04936525,3.05346183333333,3.05755841666667,3.061655,3.06575158333333,3.06984816666667,3.07394475,3.07804133333333,3.08213791666667,3.0862345,3.09033108333333,3.09442766666667,3.09852425,3.10262083333333,3.10671741666667,3.110814,3.11491058333333,3.11900716666667,3.12310375,3.12720033333333,3.13129691666667,3.1353935,3.13949008333333,3.14358666666667,3.14768325,3.15177983333333,3.15587641666667,3.159973,3.16406958333333,3.16816616666667,3.17226275,3.17635933333333,3.18045591666667,3.1845525,3.18864908333333,3.19274566666667,3.19684225,3.20093883333333,3.20503541666667,3.209132,3.21322858333333,3.21732516666667,3.22142175,3.22551833333333,3.22961491666667,3.2337115,3.23780808333333,3.24190466666667,3.24600125,3.25009783333333,3.25419441666667,3.258291,3.26238758333333,3.26648416666667,3.27058075,3.27467733333333,3.27877391666667,3.2828705,3.28696708333333,3.29106366666667,3.29516025,3.29925683333333,3.30335341666667,3.30745,3.30745,3.31154658333333,3.31155067991667]},\"fY\":{\"$arr\":\"Float64\",\"len\":106,\"p\":1,\"v\":[33.7586031139729,33.7586031139729,33.6989693618108,33.639440951223,33.5800176961261,33.5206994107656,33.4614859097148,33.4023770078749,33.343372520474,33.2844722630664,33.2256760515324,33.1669837020775,33.1083950312319,33.0499098558498,32.9915279931089,32.9332492605101,32.8750734758764,32.8170004573527,32.7590300234053,32.7011619928209,32.6433961847065,32.5857324184886,32.5281705139126,32.4707102910425,32.41335157026,32.3560941722641,32.2989379180705,32.2418826290112,32.1849281267338,32.1280742332008,32.0713207706894,32.0146675617905,31.9581144294087,31.9016611967611,31.8453076873773,31.7890537250987,31.7328991340775,31.676843738777,31.6208873639704,31.5650298347402,31.5092709764783,31.4536106148847,31.3980485759674,31.3425846860419,31.2872187717303,31.2319506599612,31.1767801779686,31.121707153292,31.0667314137753,31.0118527875667,30.957071103118,30.9023861891838,30.8477978748213,30.7933059893898,30.73891036255,30.6846108242633,30.6304072047917,30.5762993346968,30.5222870448398,30.4683701663805,30.414548530777,30.3608219697851,30.3071903154577,30.2536534001446,30.2002110564916,30.1468631174402,30.0936094162269,30.0404497863829,29.9873840617334,29.9344120763971,29.8815336647859,29.8287486616039,29.7760569018476,29.7234582208046,29.6709524540537,29.618539437464,29.5662190071946,29.5139909996941,29.4618552516998,29.4098116002375,29.3578598826211,29.3059999364516,29.2542315996169,29.2025547102914,29.1509691069353,29.0994746282942,29.0480711133984,28.9967584015627,28.9455363323857,28.8944047457494,28.8433634818185,28.7924123810402,28.7415512841434,28.6907800321385,28.6400984663167,28.5895064282495,28.5390037597883,28.4885903030639,28.4382659004858,28.3880303947422,28.3378836287989,28.2878254459492,28.2878254459492,28.2878254459492]},\"fFunctions\":{\"_typename\":\"TList\",\"name\":\"TList\",\"arr\":[],\"opt\":[]},\"fHistogram\":{\"_typename\":\"TH1F\",\"fUniqueID\":0,\"fBits\":512,\"fName\":\"Background\",\"fTitle\":\"Projection of \",\"fLineColor\":602,\"fLineStyle\":1,\"fLineWidth\":1,\"fFillColor\":0,\"fFillStyle\":1001,\"fMarkerColor\":1,\"fMarkerStyle\":1,\"fMarkerSize\":1,\"fNcells\":108,\"fXaxis\":{\"_typename\":\"TAxis\",\"fUniqueID\":0,\"fBits\":0,\"fName\":\"xaxis\",\"fTitle\":\"\",\"fNdivisions\":510,\"fAxisColor\":1,\"fLabelColor\":1,\"fLabelFont\":42,\"fLabelOffset\":0.005,\"fLabelSize\":0.035,\"fTickLength\":0.03,\"fTitleOffset\":1,\"fTitleSize\":0.035,\"fTitleColor\":1,\"fTitleFont\":42,\"fNbins\":106,\"fXmin\":2.85190501743333,\"fXmax\":3.35333664923333,\"fXbins\":[],\"fFirst\":0,\"fLast\":0,\"fBits2\":0,\"fTimeDisplay\":false,\"fTimeFormat\":\"\",\"fLabels\":null,\"fModLabs\":null},\"fYaxis\":{\"_typename\":\"TAxis\",\"fUniqueID\":0,\"fBits\":0,\"fName\":\"yaxis\",\"fTitle\":\"\",\"fNdivisions\":510,\"fAxisColor\":1,\"fLabelColor\":1,\"fLabelFont\":42,\"fLabelOffset\":0.005,\"fLabelSize\":0.035,\"fTickLength\":0.03,\"fTitleOffset\":0,\"fTitleSize\":0.035,\"fTitleColor\":1,\"fTitleFont\":42,\"fNbins\":1,\"fXmin\":0,\"fXmax\":37.1344634253702,\"fXbins\":[],\"fFirst\":0,\"fLast\":0,\"fBits2\":0,\"fTimeDisplay\":false,\"fTimeFormat\":\"\",\"fLabels\":null,\"fModLabs\":null},\"fZaxis\":{\"_typename\":\"TAxis\",\"fUniqueID\":0,\"fBits\":0,\"fName\":\"zaxis\",\"fTitle\":\"\",\"fNdivisions\":510,\"fAxisColor\":1,\"fLabelColor\":1,\"fLabelFont\":42,\"fLabelOffset\":0.005,\"fLabelSize\":0.035,\"fTickLength\":0.03,\"fTitleOffset\":1,\"fTitleSize\":0.035,\"fTitleColor\":1,\"fTitleFont\":42,\"fNbins\":1,\"fXmin\":0,\"fXmax\":1,\"fXbins\":[],\"fFirst\":0,\"fLast\":0,\"fBits2\":0,\"fTimeDisplay\":false,\"fTimeFormat\":\"\",\"fLabels\":null,\"fModLabs\":null},\"fBarOffset\":0,\"fBarWidth\":1000,\"fEntries\":0,\"fTsumw\":0,\"fTsumw2\":0,\"fTsumwx\":0,\"fTsumwx2\":0,\"fMaximum\":37.1344634253702,\"fMinimum\":0,\"fNormFactor\":0,\"fContour\":[],\"fSumw2\":[],\"fOption\":\"\",\"fFunctions\":{\"_typename\":\"TList\",\"name\":\"TList\",\"arr\":[],\"opt\":[]},\"fBufferSize\":0,\"fBuffer\":[],\"fBinStatErrOpt\":0,\"fStatOverflows\":2,\"fArray\":{\"$arr\":\"Float32\",\"len\":108}},\"fMinimum\":-1111,\"fMaximum\":-1111,\"fOption\":\"\",\"_yAxisLabel\":\"Projection of  ( \\/ GeV\\/c^{2} )\",\"_ymin\":0,\"_ymax\":33.7586031139729,\"_normValue\":0}},{\"_typename\":\"TWebSnapshot\",\"fUniqueID\":0,\"fBits\":0,\"fObjectID\":\"\",\"fOption\":\"l\",\"fKind\":1,\"fSnapshot\":{\"_typename\":\"RooCurve\",\"fUniqueID\":0,\"fBits\":525320,\"fName\":\"Model\",\"fTitle\":\"Projection of \",\"fLineColor\":2,\"fLineStyle\":1,\"fLineWidth\":3,\"fFillColor\":0,\"fFillStyle\":1000,\"fMarkerColor\":1,\"fMarkerStyle\":1,\"fMarkerSize\":1,\"fNpoints\":114,\"fX\":{\"$arr\":\"Float64\",\"len\":114,\"v\":[2.89369098675,2.89369508333333,2.89779166666667,2.90188825,2.90598483333333,2.91008141666667,2.914178,2.91827458333333,2.92237116666667,2.92646775,2.93056433333333,2.93466091666667,2.9387575,2.94285408333333,2.94695066666667,2.95104725,2.95514383333333,2.95924041666667,2.963337,2.96743358333333,2.97153016666667,2.97562675,2.97972333333333,2.98381991666667,2.9879165,2.99201308333333,2.99610966666667,3.00020625,3.00430283333333,3.00839941666667,3.012496,3.01659258333333,3.02068916666667,3.02478575,3.02888233333333,3.03297891666667,3.0370755,3.04117208333333,3.04526866666667,3.04936525,3.05346183333333,3.05755841666667,3.061655,3.06575158333333,3.06984816666667,3.07394475,3.07804133333333,3.080089625,3.08213791666667,3.08418620833333,3.0862345,3.08828279166667,3.09033108333333,3.092379375,3.09442766666667,3.09647595833333,3.09852425,3.10057254166667,3.10262083333333,3.104669125,3.10671741666667,3.10876570833333,3.110814,3.11491058333333,3.11900716666667,3.12310375,3.12720033333333,3.13129691666667,3.1353935,3.13949008333333,3.14358666666667,3.14768325,3.15177983333333,3.15587641666667,3.159973,3.16406958333333,3.16816616666667,3.17226275,3.17635933333333,3.18045591666667,3.1845525,3.18864908333333,3.19274566666667,3.19684225,3.20093883333333,3.20503541666667,3.209132,3.21322858333333,3.21732516666667,3.22142175,3.22551833333333,3.22961491666667,3.2337115,3.23780808333333,3.24190466666667,3.24600125,3.25009783333333,3.25419441666667,3.258291,3.26238758333333,3.26648416666667,3.27058075,3.27467733333333,3.27877391666667,3.2828705,3.28696708333333,3.29106366666667,3.29516025,3.29925683333333,3.30335341666667,3.30745,3.30745,3.31154658333333,3.31155067991667]},\"fY\":{\"$arr\":\"Float64\",\"len\":114,\"p\":1,\"v\":[35.9714575109804,35.9714575109804,36.1648844409779,36.388976724445,36.6476225439532,36.9452302967431,37.2868016397618,37.6780152808401,38.1253231698228,38.6360610093344,39.218575315316,39.8823696203021,40.6382728368231,41.4986332952106,42.4775425523529,43.5910937508697,44.8576801098976,46.2983400707405,47.9371567287172,49.8017204874382,51.9236654113043,54.3392915758962,57.0902879003502,60.2245726400713,63.7972722848597,67.8718650134149,72.521524656384,77.8307216696336,83.8971833247502,90.8344152714527,98.775191302605,107.876797546538,118.329431254249,130.369967631205,144.304034419922,160.539249907454,179.597019116011,200.991463421026,224.545187886721,250.658565187868,279.799799647581,312.355147974586,348.383134185006,387.314443047782,427.691394598502,467.073065809738,485.396832436536,502.215282628104,517.077544305646,529.556727180187,539.274379113855,545.923384313709,549.287289742923,549.254292757827,545.824577972311,539.110305080362,529.328248801188,516.785791401461,501.861581569318,484.982627793859,466.599840298521,447.164053379695,406.810227195493,366.804557509701,329.098107846166,294.677648044581,263.759754742896,236.085778806764,211.203278431976,188.665619304508,168.132893989087,149.393164732454,132.337056810159,116.91589402415,103.102922760927,90.8661960380488,80.1541063890944,70.89087727736,62.9784348522173,56.3015996500528,50.7344660548738,46.1466782124404,42.4089150997235,39.3972820950675,36.9965360983647,35.1022037012807,33.6217251362181,32.4747926938043,31.5930634752038,30.9194205712901,30.4069397411439,30.0176949773471,29.7215097238456,29.494733858639,29.3191019509428,29.1807070608953,29.0691071100829,28.9765677226701,28.8974361482072,28.8276349183993,28.7642606352238,28.7052720894771,28.6492521646568,28.5952291730822,28.5425449838043,28.4907592236613,28.4395807472399,28.3888193417934,28.3383521851287,28.2881008795975,28.2881008795975,28.2881008795975]},\"fFunctions\":{\"_typename\":\"TList\",\"name\":\"TList\",\"arr\":[],\"opt\":[]},\"fHistogram\":{\"_typename\":\"TH1F\",\"fUniqueID\":0,\"fBits\":512,\"fName\":\"Model\",\"fTitle\":\"Projection of \",\"fLineColor\":602,\"fLineStyle\":1,\"fLineWidth\":1,\"fFillColor\":0,\"fFillStyle\":1001,\"fMarkerColor\":1,\"fMarkerStyle\":1,\"fMarkerSize\":1,\"fNcells\":116,\"fXaxis\":{\"_typename\":\"TAxis\",\"fUniqueID\":0,\"fBits\":0,\"fName\":\"xaxis\",\"fTitle\":\"\",\"fNdivisions\":510,\"fAxisColor\":1,\"fLabelColor\":1,\"fLabelFont\":42,\"fLabelOffset\":0.005,\"fLabelSize\":0.035,\"fTickLength\":0.03,\"fTitleOffset\":1,\"fTitleSize\":0.035,\"fTitleColor\":1,\"fTitleFont\":42,\"fNbins\":114,\"fXmin\":2.85190501743333,\"fXmax\":3.35333664923333,\"fXbins\":[],\"fFirst\":0,\"fLast\":0,\"fBits2\":0,\"fTimeDisplay\":false,\"fTimeFormat\":\"\",\"fLabels\":null,\"fModLabs\":null},\"fYaxis\":{\"_typename\":\"TAxis\",\"fUniqueID\":0,\"fBits\":0,\"fName\":\"yaxis\",\"fTitle\":\"\",\"fNdivisions\":510,\"fAxisColor\":1,\"fLabelColor\":1,\"fLabelFont\":42,\"fLabelOffset\":0.005,\"fLabelSize\":0.035,\"fTickLength\":0.03,\"fTitleOffset\":0,\"fTitleSize\":0.035,\"fTitleColor\":1,\"fTitleFont\":42,\"fNbins\":1,\"fXmin\":0,\"fXmax\":604.216018717216,\"fXbins\":[],\"fFirst\":0,\"fLast\":0,\"fBits2\":0,\"fTimeDisplay\":false,\"fTimeFormat\":\"\",\"fLabels\":null,\"fModLabs\":null},\"fZaxis\":{\"_typename\":\"TAxis\",\"fUniqueID\":0,\"fBits\":0,\"fName\":\"zaxis\",\"fTitle\":\"\",\"fNdivisions\":510,\"fAxisColor\":1,\"fLabelColor\":1,\"fLabelFont\":42,\"fLabelOffset\":0.005,\"fLabelSize\":0.035,\"fTickLength\":0.03,\"fTitleOffset\":1,\"fTitleSize\":0.035,\"fTitleColor\":1,\"fTitleFont\":42,\"fNbins\":1,\"fXmin\":0,\"fXmax\":1,\"fXbins\":[],\"fFirst\":0,\"fLast\":0,\"fBits2\":0,\"fTimeDisplay\":false,\"fTimeFormat\":\"\",\"fLabels\":null,\"fModLabs\":null},\"fBarOffset\":0,\"fBarWidth\":1000,\"fEntries\":0,\"fTsumw\":0,\"fTsumw2\":0,\"fTsumwx\":0,\"fTsumwx2\":0,\"fMaximum\":604.216018717216,\"fMinimum\":0,\"fNormFactor\":0,\"fContour\":[],\"fSumw2\":[],\"fOption\":\"\",\"fFunctions\":{\"_typename\":\"TList\",\"name\":\"TList\",\"arr\":[],\"opt\":[]},\"fBufferSize\":0,\"fBuffer\":[],\"fBinStatErrOpt\":0,\"fStatOverflows\":2,\"fArray\":{\"$arr\":\"Float32\",\"len\":116}},\"fMinimum\":-1111,\"fMaximum\":-1111,\"fOption\":\"\",\"_yAxisLabel\":\"Projection of  ( \\/ GeV\\/c^{2} )\",\"_ymin\":0,\"_ymax\":549.287289742923,\"_normValue\":0}},{\"_typename\":\"TWebSnapshot\",\"fUniqueID\":0,\"fBits\":0,\"fObjectID\":\"\",\"fOption\":\"AXISSAME\",\"fKind\":1,\"fSnapshot\":{\"$ref\":15}},{\"_typename\":\"TWebSnapshot\",\"fUniqueID\":0,\"fBits\":0,\"fObjectID\":\"\",\"fOption\":\"brNDC\",\"fKind\":1,\"fSnapshot\":{\"_typename\":\"TPaveText\",\"fUniqueID\":0,\"fBits\":8,\"fLineColor\":1,\"fLineStyle\":1,\"fLineWidth\":1,\"fFillColor\":0,\"fFillStyle\":1001,\"fX1\":3.20503541819276,\"fY1\":336.282174014331,\"fX2\":3.29720854456625,\"fY2\":448.376233503847,\"fX1NDC\":0.7,\"fY1NDC\":0.55,\"fX2NDC\":0.88,\"fY2NDC\":0.7,\"fBorderSize\":1,\"fInit\":1,\"fShadowColor\":1,\"fCornerRadius\":0,\"fOption\":\"brNDC\",\"fName\":\"TPave\",\"fTextAngle\":0,\"fTextSize\":0,\"fTextAlign\":22,\"fTextColor\":1,\"fTextFont\":42,\"fLabel\":\"\",\"fLongest\":33,\"fMargin\":0.05,\"fLines\":{\"_typename\":\"TList\",\"name\":\"TList\",\"arr\":[{\"_typename\":\"TLatex\",\"fUniqueID\":0,\"fBits\":0,\"fName\":\"\",\"fTitle\":\"Mean = 3.0934 #pm 0.0007 GeV\\/c^2\",\"fTextAngle\":0,\"fTextSize\":0,\"fTextAlign\":0,\"fTextColor\":0,\"fTextFont\":0,\"fX\":0,\"fY\":0,\"fLineColor\":1,\"fLineStyle\":1,\"fLineWidth\":2,\"fLimitFactorSize\":3,\"fOriginSize\":0.0177635159343481},{\"_typename\":\"TLatex\",\"fUniqueID\":0,\"fBits\":0,\"fName\":\"\",\"fTitle\":\"Sigma = 0.0173 #pm 0.0031 GeV\\/c^2\",\"fTextAngle\":0,\"fTextSize\":0,\"fTextAlign\":0,\"fTextColor\":0,\"fTextFont\":0,\"fX\":0,\"fY\":0,\"fLineColor\":1,\"fLineStyle\":1,\"fLineWidth\":2,\"fLimitFactorSize\":3,\"fOriginSize\":0.0177635159343481},{\"_typename\":\"TLatex\",\"fUniqueID\":0,\"fBits\":0,\"fName\":\"\",\"fTitle\":\"Signal Yield = 4331 #pm 123\",\"fTextAngle\":0,\"fTextSize\":0,\"fTextAlign\":0,\"fTextColor\":0,\"fTextFont\":0,\"fX\":0,\"fY\":0,\"fLineColor\":1,\"fLineStyle\":1,\"fLineWidth\":2,\"fLimitFactorSize\":3,\"fOriginSize\":0.0177635159343481},{\"_typename\":\"TLatex\",\"fUniqueID\":0,\"fBits\":0,\"fName\":\"\",\"fTitle\":\"Background Yield = 1269 #pm 112\",\"fTextAngle\":0,\"fTextSize\":0,\"fTextAlign\":0,\"fTextColor\":0,\"fTextFont\":0,\"fX\":0,\"fY\":0,\"fLineColor\":1,\"fLineStyle\":1,\"fLineWidth\":2,\"fLimitFactorSize\":3,\"fOriginSize\":0.0177635159343481},{\"_typename\":\"TLatex\",\"fUniqueID\":0,\"fBits\":0,\"fName\":\"\",\"fTitle\":\"Chi2\\/ndof = 0.95\",\"fTextAngle\":0,\"fTextSize\":0,\"fTextAlign\":0,\"fTextColor\":0,\"fTextFont\":0,\"fX\":0,\"fY\":0,\"fLineColor\":1,\"fLineStyle\":1,\"fLineWidth\":2,\"fLimitFactorSize\":3,\"fOriginSize\":0.0177635159343481}],\"opt\":[\"\",\"\",\"\",\"\",\"\"]}}},{\"_typename\":\"TWebSnapshot\",\"fUniqueID\":0,\"fBits\":0,\"fObjectID\":\"\",\"fOption\":\"same\",\"fKind\":1,\"fSnapshot\":{\"_typename\":\"TLegend\",\"fUniqueID\":0,\"fBits\":8,\"fLineColor\":1,\"fLineStyle\":1,\"fLineWidth\":1,\"fFillColor\":0,\"fFillStyle\":1001,\"fX1\":3.20503541819276,\"fY1\":485.740920000352,\"fX2\":3.29720854456625,\"fY2\":590.362042190568,\"fX1NDC\":0.7,\"fY1NDC\":0.75,\"fX2NDC\":0.88,\"fY2NDC\":0.89,\"fBorderSize\":1,\"fInit\":1,\"fShadowColor\":1,\"fCornerRadius\":0,\"fOption\":\"brNDC\",\"fName\":\"TPave\",\"fTextAngle\":0,\"fTextSize\":0,\"fTextAlign\":12,\"fTextColor\":1,\"fTextFont\":42,\"fPrimitives\":{\"_typename\":\"TList\",\"name\":\"TList\",\"arr\":[{\"_typename\":\"TLegendEntry\",\"fUniqueID\":0,\"fBits\":0,\"fTextAngle\":0,\"fTextSize\":0,\"fTextAlign\":0,\"fTextColor\":0,\"fTextFont\":42,\"fLineColor\":1,\"fLineStyle\":1,\"fLineWidth\":1,\"fFillColor\":0,\"fFillStyle\":0,\"fMarkerColor\":1,\"fMarkerStyle\":8,\"fMarkerSize\":1,\"fObject\":{\"$ref\":21},\"fLabel\":\"Data\",\"fOption\":\"LEP\"},{\"_typename\":\"TLegendEntry\",\"fUniqueID\":0,\"fBits\":0,\"fTextAngle\":0,\"fTextSize\":0,\"fTextAlign\":0,\"fTextColor\":0,\"fTextFont\":42,\"fLineColor\":2,\"fLineStyle\":1,\"fLineWidth\":3,\"fFillColor\":0,\"fFillStyle\":0,\"fMarkerColor\":1,\"fMarkerStyle\":21,\"fMarkerSize\":1,\"fObject\":{\"$ref\":45},\"fLabel\":\"Model Fit\",\"fOption\":\"L\"},{\"_typename\":\"TLegendEntry\",\"fUniqueID\":0,\"fBits\":0,\"fTextAngle\":0,\"fTextSize\":0,\"fTextAlign\":0,\"fTextColor\":0,\"fTextFont\":42,\"fLineColor\":4,\"fLineStyle\":1,\"fLineWidth\":3,\"fFillColor\":0,\"fFillStyle\":0,\"fMarkerColor\":1,\"fMarkerStyle\":21,\"fMarkerSize\":1,\"fObject\":{\"$ref\":29},\"fLabel\":\"Signal Fit\",\"fOption\":\"L\"},{\"_typename\":\"TLegendEntry\",\"fUniqueID\":0,\"fBits\":0,\"fTextAngle\":0,\"fTextSize\":0,\"fTextAlign\":0,\"fTextColor\":0,\"fTextFont\":42,\"fLineColor\":3,\"fLineStyle\":2,\"fLineWidth\":3,\"fFillColor\":0,\"fFillStyle\":0,\"fMarkerColor\":1,\"fMarkerStyle\":21,\"fMarkerSize\":1,\"fObject\":{\"$ref\":37},\"fLabel\":\"Background fit\",\"fOption\":\"L\"}],\"opt\":[\"LEP\",\"L\",\"L\",\"L\"]},\"fEntrySeparation\":0.1,\"fMargin\":0.25,\"fNColumns\":1,\"fColumnSeparation\":0}},{\"_typename\":\"TWebSnapshot\",\"fUniqueID\":0,\"fBits\":0,\"fObjectID\":\"\",\"fOption\":\"blNDC\",\"fKind\":1,\"fSnapshot\":{\"_typename\":\"TPaveText\",\"fUniqueID\":0,\"fBits\":9,\"fLineColor\":1,\"fLineStyle\":1,\"fLineWidth\":1,\"fFillColor\":0,\"fFillStyle\":0,\"fX1\":3.05606563197926,\"fY1\":627.726731637992,\"fX2\":3.1491760346874,\"fY2\":668.827887396603,\"fX1NDC\":0.409084821428571,\"fY1NDC\":0.940000003948808,\"fX2NDC\":0.590915178571429,\"fY2NDC\":0.995000004768372,\"fBorderSize\":0,\"fInit\":1,\"fShadowColor\":1,\"fCornerRadius\":0,\"fOption\":\"blNDC\",\"fName\":\"title\",\"fTextAngle\":0,\"fTextSize\":0,\"fTextAlign\":22,\"fTextColor\":1,\"fTextFont\":42,\"fLabel\":\"\",\"fLongest\":15,\"fMargin\":0.05,\"fLines\":{\"_typename\":\"TList\",\"name\":\"TList\",\"arr\":[{\"_typename\":\"TLatex\",\"fUniqueID\":0,\"fBits\":0,\"fName\":\"\",\"fTitle\":\"J\\/\\\\Psi Mass Fit\",\"fTextAngle\":0,\"fTextSize\":0,\"fTextAlign\":0,\"fTextColor\":0,\"fTextFont\":0,\"fX\":0,\"fY\":0,\"fLineColor\":1,\"fLineStyle\":1,\"fLineWidth\":2,\"fLimitFactorSize\":3,\"fOriginSize\":0.04}],\"opt\":[\"\"]}}}],\"fScripts\":\"\",\"fHighlightConnect\":false,\"fFixedSize\":false});\n",
              "   Core.settings.HandleKeys = false;\n",
              "   Core.draw(\"root_plot_1742475688478\", obj, \"\");\n",
              "}\n",
              "\n",
              "function script_load_root_plot_1742475688478(src, on_error) {\n",
              "    let script = document.createElement('script');\n",
              "    script.src = src;\n",
              "    script.onload = function() { display_root_plot_1742475688478(JSROOT); };\n",
              "    script.onerror = function() { script.remove(); on_error(); };\n",
              "    document.head.appendChild(script);\n",
              "}\n",
              "\n",
              "if (typeof requirejs !== 'undefined') {\n",
              "\n",
              "    // We are in jupyter notebooks, use require.js which should be configured already\n",
              "    requirejs.config({\n",
              "       paths: { 'JSRootCore' : [ 'build/jsroot', 'https://root.cern/js/7.7.4/build/jsroot', 'https://jsroot.gsi.de/7.7.4/build/jsroot' ] }\n",
              "    })(['JSRootCore'],  function(Core) {\n",
              "       display_root_plot_1742475688478(Core);\n",
              "    });\n",
              "\n",
              "} else if (typeof JSROOT !== 'undefined') {\n",
              "\n",
              "   // JSROOT already loaded, just use it\n",
              "   display_root_plot_1742475688478(JSROOT);\n",
              "\n",
              "} else {\n",
              "\n",
              "    // We are in jupyterlab without require.js, directly loading jsroot\n",
              "    // Jupyterlab might be installed in a different base_url so we need to know it.\n",
              "    try {\n",
              "        var base_url = JSON.parse(document.getElementById('jupyter-config-data').innerHTML).baseUrl;\n",
              "    } catch(_) {\n",
              "        var base_url = '/';\n",
              "    }\n",
              "\n",
              "    // Try loading a local version of requirejs and fallback to cdn if not possible.\n",
              "    script_load_root_plot_1742475688478(base_url + 'static/build/jsroot.js', function(){\n",
              "        console.error('Fail to load JSROOT locally, please check your jupyter_notebook_config.py file');\n",
              "        script_load_root_plot_1742475688478('https://root.cern/js/7.7.4/build/jsroot.js', function(){\n",
              "            document.getElementById(\"root_plot_1742475688478\").innerHTML = \"Failed to load JSROOT\";\n",
              "        });\n",
              "    });\n",
              "}\n",
              "\n",
              "</script>\n"
            ]
          },
          "metadata": {}
        }
      ],
      "source": [
        "colors = {\"model\" : 2, \"signal\" : 4, \"background\" : 3}\n",
        "styles = {\"model\" : 1, \"signal\" : 1, \"background\" : 2}\n",
        "\n",
        "ca = ROOT.TCanvas(\"can\", \"\",900,600)\n",
        "\n",
        "frame = mass.frame(ROOT.RooFit.Title(\"J/\\Psi Mass Fit\"), ROOT.RooFit.Bins(100))\n",
        "frame.GetXaxis().SetTitle(r'm_{\\mu^+\\mu^-} [GeV/c^2]')\n",
        "\n",
        "# Data\n",
        "data.plotOn(frame, ROOT.RooFit.Name(\"Data\"), ROOT.RooFit.DataError(ROOT.RooAbsData.SumW2))\n",
        "\n",
        "# Signal\n",
        "model.plotOn(frame, ROOT.RooFit.Name(\"Signal\"), ROOT.RooFit.Components(\"gauss,crystal ball\"), ROOT.RooFit.LineStyle(styles[\"signal\"]), ROOT.RooFit.LineColor(colors[\"signal\"]))\n",
        "\n",
        "# Background\n",
        "model.plotOn(frame, ROOT.RooFit.Name(\"Background\"), ROOT.RooFit.Components(\"bkg\"), ROOT.RooFit.LineStyle(styles[\"background\"]), ROOT.RooFit.LineColor(colors[\"background\"]))\n",
        "\n",
        "# Model\n",
        "model.plotOn(frame, ROOT.RooFit.Name(\"Model\"), ROOT.RooFit.LineStyle(styles[\"model\"]), ROOT.RooFit.LineColor(colors[\"model\"]))\n",
        "\n",
        "frame.Print()\n",
        "\n",
        "# Extraindo os parâmetros ajustados e seus erros\n",
        "mean_val = mean.getValV()\n",
        "mean_err = mean.getError()\n",
        "sigma_val = sigma_gauss.getValV()\n",
        "sigma_err = sigma_gauss.getError()\n",
        "\n",
        "import math\n",
        "\n",
        "# Cálculo do número total de eventos (n_total)\n",
        "n_total = data.sumEntries()\n",
        "\n",
        "# Cálculo do yields do sinal\n",
        "frac_cb_val = frac_cb.getVal()  # Valor de frac_cb\n",
        "frac_gauss_val = frac_gauss.getVal()  # Valor de frac_gauss\n",
        "frac_cb_err = frac_cb.getError()\n",
        "frac_gauss_err = frac_gauss.getError()\n",
        "\n",
        "# Número de eventos de sinal\n",
        "nsignal = n_total * (frac_cb_val + (1 - frac_cb_val) * frac_gauss_val)\n",
        "# Propagação de erros para o sinal\n",
        "nsignal_err = n_total * math.sqrt((frac_cb_err)**2 + ((1 - frac_cb_val) * frac_gauss_err)**2)\n",
        "\n",
        "# Número de eventos de fundo (N_total - N_signal)\n",
        "#nbackground = n_total - nsignal ou N_back = n_total (1 - fgauss) * (1 - fcrystall) * fexponential\n",
        "\n",
        "nbackground = n_total * (1 - frac_gauss_val) * (1 - frac_cb_val)\n",
        "\n",
        "# Propagação de erros para o fundo\n",
        "nbackground_err = n_total * math.sqrt(\n",
        "    ((1 - frac_cb_val) * frac_gauss_err) ** 2 +\n",
        "    ((1 - frac_gauss_val) * frac_cb_err) ** 2\n",
        ")\n",
        "\n",
        "\n",
        "## ChiSquare computation\n",
        "n_param = fit_result.floatParsFinal().getSize()\n",
        "print(\"nr de par:\", n_param)\n",
        "reduce_chi_square = frame.chiSquare(n_param)\n",
        "print(\"chi sqare:\", frame.chiSquare() )\n",
        "print(\"chi_square/n_param\", reduce_chi_square )\n",
        "\n",
        "frame.Draw()\n",
        "\n",
        "## Legendas\n",
        "\n",
        "#legend_text = ROOT.TPaveText(0.65, 0.6, 0.9, 0.85, \"NDC\")\n",
        "#legend_text = ROOT.TPaveText(0.75, 0.25, 0.9, 0.35, \"NDC\")\n",
        "legend_text = ROOT.TPaveText(0.7, 0.55, 0.88, 0.7, \"NDC\")\n",
        "legend_text.AddText(f\"Mean = {mean_val:.4f} #pm {mean_err:.4f} GeV/c^2\")\n",
        "legend_text.AddText(f\"Sigma = {sigma_val:.4f} #pm {sigma_err:.4f} GeV/c^2\")\n",
        "# Adicionar o rendimento do sinal e do fundo\n",
        "legend_text.AddText(f\"Signal Yield = {nsignal:.0f} #pm {nsignal_err:.0f}\")\n",
        "legend_text.AddText(f\"Background Yield = {nbackground:.0f} #pm {nbackground_err:.0f}\")\n",
        "#legend_text.AddText(f\"nr de param = {n_param:.2f}\")\n",
        "legend_text.AddText(f\"Chi2/ndof = {reduce_chi_square:.2f}\")\n",
        "\n",
        "legend_text.SetFillColor(0)\n",
        "legend_text.SetBorderSize(1)\n",
        "legend_text.Draw()\n",
        "\n",
        "#leg = ROOT.TLegend(0.7, 0.7, 0.88, 0.89)\n",
        "leg = ROOT.TLegend(0.7, 0.75, 0.88, 0.89)\n",
        "leg.AddEntry(frame.findObject(\"Data\"), \"Data\", \"LEP\")\n",
        "leg.AddEntry(frame.findObject(\"Model\"), \"Model Fit\", \"L\")\n",
        "leg.AddEntry(frame.findObject(\"Signal\"), \"Signal Fit\", \"L\")\n",
        "leg.AddEntry(frame.findObject(\"Background\"), \"Background fit\", \"L\")\n",
        "\n",
        "\n",
        "\n",
        "leg.Draw(\"same\")\n",
        "ca.Update()\n",
        "ca.Draw()\n",
        "\n",
        "ca.SaveAs(\"M_JPsi_fit.png\")"
      ]
    },
    {
      "cell_type": "code",
      "execution_count": null,
      "metadata": {
        "id": "NG1uwOi9-7eY",
        "colab": {
          "base_uri": "https://localhost:8080/"
        },
        "outputId": "1fc6ba4b-354a-4963-f865-f899ee595a83"
      },
      "outputs": [
        {
          "output_type": "stream",
          "name": "stdout",
          "text": [
            "\n",
            "  RooFitResult: minimized FCN value: -7818.72, estimated distance to minimum: 1.96968e-06\n",
            "                covariance matrix quality: Full, accurate covariance matrix\n",
            "                Status : MINIMIZE=0 HESSE=0 \n",
            "\n",
            "    Floating Parameter    FinalValue +/-  Error   \n",
            "  --------------------  --------------------------\n",
            "                 alpha    1.3123e+00 +/-  1.04e-01\n",
            "                exp_c0   -4.3159e-01 +/-  3.24e-01\n",
            "               frac_cb    7.3613e-01 +/-  1.73e-02\n",
            "            frac_gauss    1.4146e-01 +/-  5.12e-02\n",
            "                  mean    3.0934e+00 +/-  6.70e-04\n",
            "              sigma cb    4.0430e-02 +/-  1.98e-03\n",
            "           sigma gauss    1.7302e-02 +/-  3.11e-03\n",
            "\n"
          ]
        }
      ],
      "source": [
        "fit_result.Print()"
      ]
    },
    {
      "cell_type": "markdown",
      "metadata": {
        "id": "oArskupFEP-x"
      },
      "source": [
        "O pull é uma medida de quão bem o seu modelo ajustado se alinha com os dados. Para cada bin, o pull representa a diferença entre o valor observado (dados) e o valor previsto pelo ajuste (modelo), normalizado pelo erro. Idealmente, a distribuição de pull deve ser centrada em torno de zero com um desvio padrão próximo de 1."
      ]
    },
    {
      "cell_type": "code",
      "execution_count": null,
      "metadata": {
        "id": "4cmSc01JDOSm",
        "colab": {
          "base_uri": "https://localhost:8080/",
          "height": 122
        },
        "outputId": "342dc3e9-54c9-4d98-fce3-983434e31013"
      },
      "outputs": [
        {
          "output_type": "execute_result",
          "data": {
            "text/plain": [
              "'\\'\\n# Crie um frame a partir da variável \\'mass\\' que está sendo ajustada\\nmass_frame = mass.frame(ROOT.RooFit.Title(\"Fit Results\"))\\n\\n# Plote os dados no frame\\ndata.plotOn(mass_frame)\\n\\n# Plote o modelo ajustado no frame\\nmodel.plotOn(mass_frame)\\n\\n# Agora crie o histograma de pulls a partir do gráfico de ajuste\\nhistpull = mass_frame.pullHist()\\n\\n# Crie um novo frame para a distribuição de pulls\\npull_frame = mass.frame(ROOT.RooFit.Title(\"Pull Distribution\"))\\npull_frame.addPlotable(histpull, \"P\")\\n\\n\\ncan2 = ROOT.TCanvas(\"can2\", \"Pull Distribution\", 900, 300)\\n\\n# Ajuste o frame para o pull\\npull_frame.GetXaxis().SetTitle(\"m_{#mu^+\\\\mu^-} [GeV/c^2]\")\\npull_frame.GetYaxis().SetTitle(\"Pull\")\\npull_frame.GetYaxis().SetTitleOffset(1.6)\\n\\n# Desenhe o gráfico de pull\\ncan2.cd()\\npull_frame.Draw()\\n\\n# Calcular o mean e o desvio padrão dos pulls\\nmean_hist = histpull.GetMean()\\nstddev_hist = histpull.GetRMS()\\n\\nmean_pull = np.mean(histpull.GetY())  # Calcula o valor médio (mean) dos pulls\\nsigma_pull = np.std(histpull.GetY())  # Calcula o desvio padrão (sigma) dos pulls\\nprint(f\"Mean of Pull: {mean_pull}\")\\nprint(f\"Sigma (Standard Deviation) of Pull: {sigma_pull}\")\\n# Adicionando o texto com o mean e o desvio padrão no gráfico de pull\\nlatex = ROOT.TLatex()\\nlatex.SetNDC()  # Para coordenadas normalizadas\\n\\n# Desenhe o mean e stddev no gráfico\\nlatex.DrawLatex(0.15, 0.85, f\"Mean: {mean_pull:.2f}\")\\nlatex.DrawLatex(0.15, 0.80, f\"Std Dev: {sigma_pull:.2f}\")\\n\\n# Exibir o canvas com a informação correta\\ncan2.Draw()\\n'"
            ],
            "application/vnd.google.colaboratory.intrinsic+json": {
              "type": "string"
            }
          },
          "metadata": {},
          "execution_count": 104
        }
      ],
      "source": [
        "''''\n",
        "# Crie um frame a partir da variável 'mass' que está sendo ajustada\n",
        "mass_frame = mass.frame(ROOT.RooFit.Title(\"Fit Results\"))\n",
        "\n",
        "# Plote os dados no frame\n",
        "data.plotOn(mass_frame)\n",
        "\n",
        "# Plote o modelo ajustado no frame\n",
        "model.plotOn(mass_frame)\n",
        "\n",
        "# Agora crie o histograma de pulls a partir do gráfico de ajuste\n",
        "histpull = mass_frame.pullHist()\n",
        "\n",
        "# Crie um novo frame para a distribuição de pulls\n",
        "pull_frame = mass.frame(ROOT.RooFit.Title(\"Pull Distribution\"))\n",
        "pull_frame.addPlotable(histpull, \"P\")\n",
        "\n",
        "\n",
        "can2 = ROOT.TCanvas(\"can2\", \"Pull Distribution\", 900, 300)\n",
        "\n",
        "# Ajuste o frame para o pull\n",
        "pull_frame.GetXaxis().SetTitle(\"m_{#mu^+\\mu^-} [GeV/c^2]\")\n",
        "pull_frame.GetYaxis().SetTitle(\"Pull\")\n",
        "pull_frame.GetYaxis().SetTitleOffset(1.6)\n",
        "\n",
        "# Desenhe o gráfico de pull\n",
        "can2.cd()\n",
        "pull_frame.Draw()\n",
        "\n",
        "# Calcular o mean e o desvio padrão dos pulls\n",
        "mean_hist = histpull.GetMean()\n",
        "stddev_hist = histpull.GetRMS()\n",
        "\n",
        "mean_pull = np.mean(histpull.GetY())  # Calcula o valor médio (mean) dos pulls\n",
        "sigma_pull = np.std(histpull.GetY())  # Calcula o desvio padrão (sigma) dos pulls\n",
        "print(f\"Mean of Pull: {mean_pull}\")\n",
        "print(f\"Sigma (Standard Deviation) of Pull: {sigma_pull}\")\n",
        "# Adicionando o texto com o mean e o desvio padrão no gráfico de pull\n",
        "latex = ROOT.TLatex()\n",
        "latex.SetNDC()  # Para coordenadas normalizadas\n",
        "\n",
        "# Desenhe o mean e stddev no gráfico\n",
        "latex.DrawLatex(0.15, 0.85, f\"Mean: {mean_pull:.2f}\")\n",
        "latex.DrawLatex(0.15, 0.80, f\"Std Dev: {sigma_pull:.2f}\")\n",
        "\n",
        "# Exibir o canvas com a informação correta\n",
        "can2.Draw()\n",
        "'''\n"
      ]
    },
    {
      "cell_type": "code",
      "execution_count": null,
      "metadata": {
        "id": "nKRZcZEWEgDD",
        "colab": {
          "base_uri": "https://localhost:8080/"
        },
        "outputId": "5b225aa6-3737-4ce1-cee4-87e7f35bc2dd"
      },
      "outputs": [
        {
          "output_type": "execute_result",
          "data": {
            "text/plain": [
              "False"
            ]
          },
          "metadata": {},
          "execution_count": 105
        },
        {
          "output_type": "stream",
          "name": "stdout",
          "text": [
            "[#1] INFO:ObjectHandling -- RooWorkspace::import(Jpsi fit) importing dataset data\n",
            "[#1] INFO:ObjectHandling -- RooWorkspace::import(Jpsi fit) importing RooRealVar::mass\n",
            "[#1] INFO:ObjectHandling -- RooWorkspace::import(Jpsi fit) importing RooAddPdf::model\n",
            "[#1] INFO:ObjectHandling -- RooWorkspace::import(Jpsi fit) importing RooGaussian::gauss\n",
            "[#1] INFO:ObjectHandling -- RooWorkspace::import(Jpsi fit) importing RooRealVar::mean\n",
            "[#1] INFO:ObjectHandling -- RooWorkspace::import(Jpsi fit) importing RooRealVar::sigma gauss\n",
            "[#1] INFO:ObjectHandling -- RooWorkspace::import(Jpsi fit) importing RooRealVar::frac_gauss\n",
            "[#1] INFO:ObjectHandling -- RooWorkspace::import(Jpsi fit) importing RooCBShape::crystal ball\n",
            "[#1] INFO:ObjectHandling -- RooWorkspace::import(Jpsi fit) importing RooRealVar::sigma cb\n",
            "[#1] INFO:ObjectHandling -- RooWorkspace::import(Jpsi fit) importing RooRealVar::alpha\n",
            "[#1] INFO:ObjectHandling -- RooWorkspace::import(Jpsi fit) importing RooRealVar::n\n",
            "[#1] INFO:ObjectHandling -- RooWorkspace::import(Jpsi fit) importing RooRecursiveFraction::model_recursive_fraction_crystal ball_2\n",
            "[#1] INFO:ObjectHandling -- RooWorkspace::import(Jpsi fit) importing RooRealVar::frac_cb\n",
            "[#1] INFO:ObjectHandling -- RooWorkspace::import(Jpsi fit) importing RooExponential::bkg\n",
            "[#1] INFO:ObjectHandling -- RooWorkspace::import(Jpsi fit) importing RooRealVar::exp_c0\n",
            "[#1] INFO:ObjectHandling -- RooWorkspace::import(Jpsi fit) importing RooRecursiveFraction::model_recursive_fraction_bkg_3\n",
            "[#1] INFO:ObjectHandling -- RooWorkspace::import(Jpsi fit) importing RooConstVar::1\n"
          ]
        }
      ],
      "source": [
        "# Workspace\n",
        "wspace = ROOT.RooWorkspace(\"Jpsi fit\")\n",
        "\n",
        "getattr(wspace, \"import\")(data)\n",
        "getattr(wspace, \"import\")(model)\n",
        "\n",
        "wspace.writeToFile(\"Jpsi_fit.root\")\n",
        "\n",
        "#ROOT.DisableImplicitMT()"
      ]
    }
  ],
  "metadata": {
    "colab": {
      "provenance": [],
      "authorship_tag": "ABX9TyMzVEXigLaFYeC1GpOdHxrp",
      "include_colab_link": true
    },
    "kernelspec": {
      "display_name": "Python 3",
      "name": "python3"
    },
    "language_info": {
      "name": "python"
    }
  },
  "nbformat": 4,
  "nbformat_minor": 0
}